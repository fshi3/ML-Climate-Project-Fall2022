{
 "cells": [
  {
   "cell_type": "markdown",
   "metadata": {
    "id": "Bp0Zf0hGINn1"
   },
   "source": [
    "# Environment Setup"
   ]
  },
  {
   "cell_type": "code",
   "execution_count": 188,
   "metadata": {
    "id": "cO0r-AbA69gV"
   },
   "outputs": [
    {
     "ename": "ModuleNotFoundError",
     "evalue": "No module named 'matplotlib'",
     "output_type": "error",
     "traceback": [
      "\u001b[1;31m---------------------------------------------------------------------------\u001b[0m",
      "\u001b[1;31mModuleNotFoundError\u001b[0m                       Traceback (most recent call last)",
      "Cell \u001b[1;32mIn[188], line 15\u001b[0m\n\u001b[0;32m     13\u001b[0m \u001b[38;5;28;01mimport\u001b[39;00m \u001b[38;5;21;01mnumpy\u001b[39;00m \u001b[38;5;28;01mas\u001b[39;00m \u001b[38;5;21;01mnp\u001b[39;00m\n\u001b[0;32m     14\u001b[0m \u001b[38;5;28;01mfrom\u001b[39;00m \u001b[38;5;21;01mtensorflow\u001b[39;00m \u001b[38;5;28;01mimport\u001b[39;00m keras\n\u001b[1;32m---> 15\u001b[0m \u001b[38;5;28;01mimport\u001b[39;00m \u001b[38;5;21;01mmatplotlib\u001b[39;00m \u001b[38;5;28;01mas\u001b[39;00m \u001b[38;5;21;01mplt\u001b[39;00m\n",
      "\u001b[1;31mModuleNotFoundError\u001b[0m: No module named 'matplotlib'"
     ]
    }
   ],
   "source": [
    "import pathlib\n",
    "import IPython.display as display\n",
    "import random\n",
    "import pandas as pd\n",
    "from collections import defaultdict\n",
    "import tensorflow as tf\n",
    "from tensorflow.keras import datasets, layers, models\n",
    "from sklearn.model_selection import train_test_split\n",
    "import time\n",
    "from keras.callbacks import ModelCheckpoint\n",
    "from random import choice, sample\n",
    "from PIL import Image\n",
    "import numpy as np\n",
    "from tensorflow import keras\n",
    "import matplotlib as plt"
   ]
  },
  {
   "cell_type": "code",
   "execution_count": 14,
   "metadata": {
    "colab": {
     "base_uri": "https://localhost:8080/"
    },
    "executionInfo": {
     "elapsed": 434,
     "status": "ok",
     "timestamp": 1670189788523,
     "user": {
      "displayName": "Forest Shi",
      "userId": "16066859280328279662"
     },
     "user_tz": 300
    },
    "id": "PGx-5_te3QSD",
    "outputId": "922b77ee-3be1-45ba-8d7f-4947d6beeab3"
   },
   "outputs": [
    {
     "name": "stdout",
     "output_type": "stream",
     "text": [
      "C:\\Users\\xl3036\\Documents\\ML_Climate_data\n"
     ]
    }
   ],
   "source": [
    "%cd C:\\Users\\xl3036\\Documents\\ML_Climate_data"
   ]
  },
  {
   "cell_type": "code",
   "execution_count": 15,
   "metadata": {
    "colab": {
     "base_uri": "https://localhost:8080/"
    },
    "executionInfo": {
     "elapsed": 3,
     "status": "ok",
     "timestamp": 1670189788822,
     "user": {
      "displayName": "Forest Shi",
      "userId": "16066859280328279662"
     },
     "user_tz": 300
    },
    "id": "EYF-QXZH3TTd",
    "outputId": "0f3b9039-d0ad-498d-9a4c-2621d04c860b"
   },
   "outputs": [
    {
     "name": "stdout",
     "output_type": "stream",
     "text": [
      " Volume in drive C is Windows\n",
      " Volume Serial Number is CC9A-6545\n",
      "\n",
      " Directory of C:\\Users\\xl3036\\Documents\\ML_Climate_data\n",
      "\n",
      "12/14/2022  06:06 PM    <DIR>          .\n",
      "12/14/2022  06:06 PM    <DIR>          ..\n",
      "12/14/2022  04:40 PM         1,432,177 train_v2.csv\n",
      "12/14/2022  05:57 PM    <DIR>          train-jpg\n",
      "               1 File(s)      1,432,177 bytes\n",
      "               3 Dir(s)  550,607,867,904 bytes free\n"
     ]
    }
   ],
   "source": [
    "%ls"
   ]
  },
  {
   "cell_type": "code",
   "execution_count": null,
   "metadata": {
    "id": "IqigBvzJ33JT"
   },
   "outputs": [],
   "source": [
    "#!tar -xvf 'train-jpg.tar'"
   ]
  },
  {
   "cell_type": "markdown",
   "metadata": {
    "id": "hsclCtxHIXEK"
   },
   "source": [
    "# Training Set"
   ]
  },
  {
   "cell_type": "code",
   "execution_count": 24,
   "metadata": {
    "id": "XxrEipIb6acr"
   },
   "outputs": [],
   "source": [
    "data_root = pathlib.Path(\"C:\\\\Users\\\\xl3036\\\\Documents\\\\ML_Climate_data\\\\train-jpg\")"
   ]
  },
  {
   "cell_type": "code",
   "execution_count": 25,
   "metadata": {
    "id": "IBw5DWNM7rvC"
   },
   "outputs": [],
   "source": [
    "all_img_paths = list(data_root.glob('*'))"
   ]
  },
  {
   "cell_type": "code",
   "execution_count": 26,
   "metadata": {
    "id": "g6ZOa6n57BLC"
   },
   "outputs": [],
   "source": [
    "all_img_paths = [str(path) for path in all_img_paths]"
   ]
  },
  {
   "cell_type": "code",
   "execution_count": 27,
   "metadata": {
    "colab": {
     "base_uri": "https://localhost:8080/"
    },
    "executionInfo": {
     "elapsed": 293,
     "status": "ok",
     "timestamp": 1670190122736,
     "user": {
      "displayName": "Forest Shi",
      "userId": "16066859280328279662"
     },
     "user_tz": 300
    },
    "id": "MCeBOEFQ7NB0",
    "outputId": "b51d7465-b5e7-44e8-a613-732ac4a7f3dc"
   },
   "outputs": [
    {
     "data": {
      "text/plain": [
       "40479"
      ]
     },
     "execution_count": 27,
     "metadata": {},
     "output_type": "execute_result"
    }
   ],
   "source": [
    "len(all_img_paths)"
   ]
  },
  {
   "cell_type": "code",
   "execution_count": 28,
   "metadata": {
    "colab": {
     "base_uri": "https://localhost:8080/"
    },
    "executionInfo": {
     "elapsed": 6,
     "status": "ok",
     "timestamp": 1670190124521,
     "user": {
      "displayName": "Forest Shi",
      "userId": "16066859280328279662"
     },
     "user_tz": 300
    },
    "id": "o0KIDVW17l20",
    "outputId": "7d9e1a87-3aeb-489e-85ca-755a675ffda9"
   },
   "outputs": [
    {
     "data": {
      "text/plain": [
       "['C:\\\\Users\\\\xl3036\\\\Documents\\\\ML_Climate_data\\\\train-jpg\\\\train_0.jpg',\n",
       " 'C:\\\\Users\\\\xl3036\\\\Documents\\\\ML_Climate_data\\\\train-jpg\\\\train_1.jpg',\n",
       " 'C:\\\\Users\\\\xl3036\\\\Documents\\\\ML_Climate_data\\\\train-jpg\\\\train_10.jpg',\n",
       " 'C:\\\\Users\\\\xl3036\\\\Documents\\\\ML_Climate_data\\\\train-jpg\\\\train_100.jpg',\n",
       " 'C:\\\\Users\\\\xl3036\\\\Documents\\\\ML_Climate_data\\\\train-jpg\\\\train_1000.jpg']"
      ]
     },
     "execution_count": 28,
     "metadata": {},
     "output_type": "execute_result"
    }
   ],
   "source": [
    "all_img_paths[:5]"
   ]
  },
  {
   "cell_type": "code",
   "execution_count": null,
   "metadata": {
    "colab": {
     "base_uri": "https://localhost:8080/",
     "height": 785
    },
    "executionInfo": {
     "elapsed": 2807,
     "status": "ok",
     "timestamp": 1670190128958,
     "user": {
      "displayName": "Forest Shi",
      "userId": "16066859280328279662"
     },
     "user_tz": 300
    },
    "id": "7svhgXMq8pkJ",
    "outputId": "49a14fba-4728-4c4b-ba3e-9ccae58edabb"
   },
   "outputs": [
    {
     "data": {
      "image/jpeg": "[encoded data removed]",
      "text/plain": [
       "<IPython.core.display.Image object>"
      ]
     },
     "metadata": {},
     "output_type": "display_data"
    },
    {
     "data": {
      "image/jpeg": "[encoded data removed]",
      "text/plain": [
       "<IPython.core.display.Image object>"
      ]
     },
     "metadata": {},
     "output_type": "display_data"
    },
    {
     "data": {
      "image/jpeg": "[encoded data removed]",
      "text/plain": [
       "<IPython.core.display.Image object>"
      ]
     },
     "metadata": {},
     "output_type": "display_data"
    }
   ],
   "source": [
    "for n in range(3):\n",
    "  image_path = random.choice(all_img_paths)\n",
    "  display.display(display.Image(image_path))"
   ]
  },
  {
   "cell_type": "code",
   "execution_count": 30,
   "metadata": {
    "id": "aqOpn0D1dNAI"
   },
   "outputs": [],
   "source": [
    "# for testing on the different methods of training using a subset of the data\n",
    "small_img_paths = sample(all_img_paths, 2000)"
   ]
  },
  {
   "cell_type": "code",
   "execution_count": 31,
   "metadata": {
    "colab": {
     "base_uri": "https://localhost:8080/"
    },
    "executionInfo": {
     "elapsed": 7,
     "status": "ok",
     "timestamp": 1670190137744,
     "user": {
      "displayName": "Forest Shi",
      "userId": "16066859280328279662"
     },
     "user_tz": 300
    },
    "id": "nABaYbdbdh5q",
    "outputId": "782e792d-09b2-4393-c660-61726ea76f43"
   },
   "outputs": [
    {
     "data": {
      "text/plain": [
       "2000"
      ]
     },
     "execution_count": 31,
     "metadata": {},
     "output_type": "execute_result"
    }
   ],
   "source": [
    "len(small_img_paths)"
   ]
  },
  {
   "cell_type": "code",
   "execution_count": 36,
   "metadata": {
    "id": "i8-nky9RW0Kv"
   },
   "outputs": [],
   "source": [
    "# medium sized dataset for final training that takes a reasonable amount of time\n",
    "med_img_paths = sample(all_img_paths, 16000)"
   ]
  },
  {
   "cell_type": "code",
   "execution_count": 37,
   "metadata": {
    "colab": {
     "base_uri": "https://localhost:8080/"
    },
    "executionInfo": {
     "elapsed": 3,
     "status": "ok",
     "timestamp": 1670190144508,
     "user": {
      "displayName": "Forest Shi",
      "userId": "16066859280328279662"
     },
     "user_tz": 300
    },
    "id": "xmFdyMAGW0U4",
    "outputId": "70904154-a908-4626-a49f-c8207beef1da"
   },
   "outputs": [
    {
     "data": {
      "text/plain": [
       "16000"
      ]
     },
     "execution_count": 37,
     "metadata": {},
     "output_type": "execute_result"
    }
   ],
   "source": [
    "len(med_img_paths)"
   ]
  },
  {
   "cell_type": "markdown",
   "metadata": {
    "id": "QBlZHQiiIGpY"
   },
   "source": [
    "# Data Labels"
   ]
  },
  {
   "cell_type": "code",
   "execution_count": 38,
   "metadata": {
    "id": "r2qb5y8FJf-G"
   },
   "outputs": [],
   "source": [
    "labels = pd.read_csv(\"train_v2.csv\")"
   ]
  },
  {
   "cell_type": "code",
   "execution_count": 39,
   "metadata": {
    "colab": {
     "base_uri": "https://localhost:8080/",
     "height": 424
    },
    "executionInfo": {
     "elapsed": 9,
     "status": "ok",
     "timestamp": 1670190148767,
     "user": {
      "displayName": "Forest Shi",
      "userId": "16066859280328279662"
     },
     "user_tz": 300
    },
    "id": "MLmpoYceRUiA",
    "outputId": "b0641d8a-b36f-4dd6-e60c-ce258f887461"
   },
   "outputs": [
    {
     "data": {
      "text/html": [
       "<div>\n",
       "<style scoped>\n",
       "    .dataframe tbody tr th:only-of-type {\n",
       "        vertical-align: middle;\n",
       "    }\n",
       "\n",
       "    .dataframe tbody tr th {\n",
       "        vertical-align: top;\n",
       "    }\n",
       "\n",
       "    .dataframe thead th {\n",
       "        text-align: right;\n",
       "    }\n",
       "</style>\n",
       "<table border=\"1\" class=\"dataframe\">\n",
       "  <thead>\n",
       "    <tr style=\"text-align: right;\">\n",
       "      <th></th>\n",
       "      <th>image_name</th>\n",
       "      <th>tags</th>\n",
       "    </tr>\n",
       "  </thead>\n",
       "  <tbody>\n",
       "    <tr>\n",
       "      <th>0</th>\n",
       "      <td>train_0</td>\n",
       "      <td>haze primary</td>\n",
       "    </tr>\n",
       "    <tr>\n",
       "      <th>1</th>\n",
       "      <td>train_1</td>\n",
       "      <td>agriculture clear primary water</td>\n",
       "    </tr>\n",
       "    <tr>\n",
       "      <th>2</th>\n",
       "      <td>train_2</td>\n",
       "      <td>clear primary</td>\n",
       "    </tr>\n",
       "    <tr>\n",
       "      <th>3</th>\n",
       "      <td>train_3</td>\n",
       "      <td>clear primary</td>\n",
       "    </tr>\n",
       "    <tr>\n",
       "      <th>4</th>\n",
       "      <td>train_4</td>\n",
       "      <td>agriculture clear habitation primary road</td>\n",
       "    </tr>\n",
       "    <tr>\n",
       "      <th>...</th>\n",
       "      <td>...</td>\n",
       "      <td>...</td>\n",
       "    </tr>\n",
       "    <tr>\n",
       "      <th>40474</th>\n",
       "      <td>train_40474</td>\n",
       "      <td>clear primary</td>\n",
       "    </tr>\n",
       "    <tr>\n",
       "      <th>40475</th>\n",
       "      <td>train_40475</td>\n",
       "      <td>cloudy</td>\n",
       "    </tr>\n",
       "    <tr>\n",
       "      <th>40476</th>\n",
       "      <td>train_40476</td>\n",
       "      <td>agriculture clear primary</td>\n",
       "    </tr>\n",
       "    <tr>\n",
       "      <th>40477</th>\n",
       "      <td>train_40477</td>\n",
       "      <td>agriculture clear primary road</td>\n",
       "    </tr>\n",
       "    <tr>\n",
       "      <th>40478</th>\n",
       "      <td>train_40478</td>\n",
       "      <td>agriculture cultivation partly_cloudy primary</td>\n",
       "    </tr>\n",
       "  </tbody>\n",
       "</table>\n",
       "<p>40479 rows × 2 columns</p>\n",
       "</div>"
      ],
      "text/plain": [
       "        image_name                                           tags\n",
       "0          train_0                                   haze primary\n",
       "1          train_1                agriculture clear primary water\n",
       "2          train_2                                  clear primary\n",
       "3          train_3                                  clear primary\n",
       "4          train_4      agriculture clear habitation primary road\n",
       "...            ...                                            ...\n",
       "40474  train_40474                                  clear primary\n",
       "40475  train_40475                                         cloudy\n",
       "40476  train_40476                      agriculture clear primary\n",
       "40477  train_40477                 agriculture clear primary road\n",
       "40478  train_40478  agriculture cultivation partly_cloudy primary\n",
       "\n",
       "[40479 rows x 2 columns]"
      ]
     },
     "execution_count": 39,
     "metadata": {},
     "output_type": "execute_result"
    }
   ],
   "source": [
    "labels"
   ]
  },
  {
   "cell_type": "markdown",
   "metadata": {
    "id": "K30zR7oLRe7X"
   },
   "source": [
    "There is no labels for the test set, since this is a kaggle competition. Will have to split the training set in to train, val, and test."
   ]
  },
  {
   "cell_type": "markdown",
   "metadata": {
    "id": "cu6tUI6lTIq_"
   },
   "source": [
    "Here are the label distributions:"
   ]
  },
  {
   "cell_type": "code",
   "execution_count": 40,
   "metadata": {
    "id": "T7DDvYt-TLZO"
   },
   "outputs": [],
   "source": [
    "tags = defaultdict(lambda: 0)\n",
    "for each in labels['tags']:\n",
    "  tag_list = each.split(\" \")\n",
    "  for tag in tag_list:\n",
    "    tags[tag] += 1"
   ]
  },
  {
   "cell_type": "code",
   "execution_count": 41,
   "metadata": {
    "colab": {
     "base_uri": "https://localhost:8080/"
    },
    "executionInfo": {
     "elapsed": 7,
     "status": "ok",
     "timestamp": 1670190152893,
     "user": {
      "displayName": "Forest Shi",
      "userId": "16066859280328279662"
     },
     "user_tz": 300
    },
    "id": "W4JIHYAvTOe2",
    "outputId": "213cb3d5-dfc1-4b9a-a7f7-9d429ca83953"
   },
   "outputs": [
    {
     "data": {
      "text/plain": [
       "defaultdict(<function __main__.<lambda>()>,\n",
       "            {'haze': 2697,\n",
       "             'primary': 37513,\n",
       "             'agriculture': 12315,\n",
       "             'clear': 28431,\n",
       "             'water': 7411,\n",
       "             'habitation': 3660,\n",
       "             'road': 8071,\n",
       "             'cultivation': 4547,\n",
       "             'slash_burn': 209,\n",
       "             'cloudy': 2089,\n",
       "             'partly_cloudy': 7261,\n",
       "             'conventional_mine': 100,\n",
       "             'bare_ground': 862,\n",
       "             'artisinal_mine': 339,\n",
       "             'blooming': 332,\n",
       "             'selective_logging': 340,\n",
       "             'blow_down': 101})"
      ]
     },
     "execution_count": 41,
     "metadata": {},
     "output_type": "execute_result"
    }
   ],
   "source": [
    "tags"
   ]
  },
  {
   "cell_type": "code",
   "execution_count": 42,
   "metadata": {
    "id": "dSWXC9rHWoAE"
   },
   "outputs": [],
   "source": [
    "deforest_tags = {}\n",
    "# these are the tags that we are considering as deforestation\n",
    "deforestation = ['agriculture', 'cultivation', 'slash_burn', 'conventional_mine', 'artisinal_mine',\n",
    "                 'selective_logging', 'road', 'habitation']    \n",
    "for tag, count in tags.items():\n",
    "  if tag in deforestation:\n",
    "    deforest_tags[tag] = count"
   ]
  },
  {
   "cell_type": "code",
   "execution_count": 43,
   "metadata": {
    "colab": {
     "base_uri": "https://localhost:8080/"
    },
    "executionInfo": {
     "elapsed": 4,
     "status": "ok",
     "timestamp": 1670190155620,
     "user": {
      "displayName": "Forest Shi",
      "userId": "16066859280328279662"
     },
     "user_tz": 300
    },
    "id": "KjJq5q7A5ixD",
    "outputId": "f9c2ebe9-8ec0-41de-c139-2909c6cb8be6"
   },
   "outputs": [
    {
     "data": {
      "text/plain": [
       "{'agriculture': 12315,\n",
       " 'habitation': 3660,\n",
       " 'road': 8071,\n",
       " 'cultivation': 4547,\n",
       " 'slash_burn': 209,\n",
       " 'conventional_mine': 100,\n",
       " 'artisinal_mine': 339,\n",
       " 'selective_logging': 340}"
      ]
     },
     "execution_count": 43,
     "metadata": {},
     "output_type": "execute_result"
    }
   ],
   "source": [
    "deforest_tags"
   ]
  },
  {
   "cell_type": "code",
   "execution_count": 44,
   "metadata": {
    "id": "hmflNHKU5j6R"
   },
   "outputs": [],
   "source": [
    "deforestation_count = 0\n",
    "for each in labels['tags']:\n",
    "  tag_list = each.split(\" \")\n",
    "  for tag in tag_list:\n",
    "    if tag in deforest_tags:\n",
    "      deforestation_count += 1\n",
    "      break"
   ]
  },
  {
   "cell_type": "code",
   "execution_count": 45,
   "metadata": {
    "colab": {
     "base_uri": "https://localhost:8080/"
    },
    "executionInfo": {
     "elapsed": 346,
     "status": "ok",
     "timestamp": 1670190160087,
     "user": {
      "displayName": "Forest Shi",
      "userId": "16066859280328279662"
     },
     "user_tz": 300
    },
    "id": "inN7PKon6FWM",
    "outputId": "1559e4ad-d419-46f5-cd9a-ac2db60948c9"
   },
   "outputs": [
    {
     "name": "stdout",
     "output_type": "stream",
     "text": [
      "Total counts of deforestation:  15899\n",
      "The percentage of deforestation labels:  0.39277156056226686\n"
     ]
    }
   ],
   "source": [
    "print(\"Total counts of deforestation: \", deforestation_count)\n",
    "print(\"The percentage of deforestation labels: \", \n",
    "      deforestation_count/len(labels))"
   ]
  },
  {
   "cell_type": "markdown",
   "metadata": {
    "id": "Xl657X4KLhQf"
   },
   "source": [
    "The dataset is somewhat balanced, with around 40% positive labels (deforestation) and 60% negative labels (no deforestation)."
   ]
  },
  {
   "cell_type": "markdown",
   "metadata": {
    "id": "lz1NuQTewOJN"
   },
   "source": [
    "**Binary Data Labels**"
   ]
  },
  {
   "cell_type": "markdown",
   "metadata": {
    "id": "WdbnrrjowSsX"
   },
   "source": [
    "First run, try to encode all training example into either has some classification of deforestation or not."
   ]
  },
  {
   "cell_type": "code",
   "execution_count": 46,
   "metadata": {
    "colab": {
     "base_uri": "https://localhost:8080/",
     "height": 35
    },
    "executionInfo": {
     "elapsed": 7,
     "status": "ok",
     "timestamp": 1670190163203,
     "user": {
      "displayName": "Forest Shi",
      "userId": "16066859280328279662"
     },
     "user_tz": 300
    },
    "id": "d6JstDLgYScY",
    "outputId": "599f697b-4729-4292-e7d3-ad2eba0dfd30"
   },
   "outputs": [
    {
     "data": {
      "text/plain": [
       "'train_0'"
      ]
     },
     "execution_count": 46,
     "metadata": {},
     "output_type": "execute_result"
    }
   ],
   "source": [
    "pathlib.Path(all_img_paths[0]).name.split(\".\")[0]"
   ]
  },
  {
   "cell_type": "code",
   "execution_count": 47,
   "metadata": {
    "id": "Uv60DYvDyntr"
   },
   "outputs": [],
   "source": [
    "bin_labels = {} # binary 0/1 labels for whether img has deforestation\n",
    "i = 0\n",
    "for each in labels[\"tags\"]:\n",
    "  tags = each.split(\" \")\n",
    "  for t in tags:\n",
    "    if t in deforest_tags:\n",
    "      # 1 for deforestation, 0 for no deforestation\n",
    "      bin_labels[labels.loc[i][\"image_name\"]] = 1\n",
    "      break\n",
    "  if labels.loc[i][\"image_name\"] not in bin_labels:\n",
    "    bin_labels[labels.loc[i][\"image_name\"]] = 0\n",
    "  i += 1"
   ]
  },
  {
   "cell_type": "code",
   "execution_count": 48,
   "metadata": {
    "id": "pl2g9YJW1rvP"
   },
   "outputs": [],
   "source": [
    "# an array of the binary labels to feed into train-test-split\n",
    "all_bin_labels = [bin_labels[pathlib.Path(path).name.split(\".\")[0]]\n",
    "                  for path in all_img_paths]"
   ]
  },
  {
   "cell_type": "code",
   "execution_count": 49,
   "metadata": {
    "colab": {
     "base_uri": "https://localhost:8080/"
    },
    "executionInfo": {
     "elapsed": 268,
     "status": "ok",
     "timestamp": 1670190176169,
     "user": {
      "displayName": "Forest Shi",
      "userId": "16066859280328279662"
     },
     "user_tz": 300
    },
    "id": "ybLMTHEJ2ClW",
    "outputId": "5324639f-2ea4-4fbc-88b8-3e01671d0dc3"
   },
   "outputs": [
    {
     "name": "stdout",
     "output_type": "stream",
     "text": [
      "deforestation:  15899 \n",
      "no deforestation:  24580\n"
     ]
    }
   ],
   "source": [
    "count = 0\n",
    "for each in all_bin_labels:\n",
    "  count += each\n",
    "print(\"deforestation: \", count, \"\\nno deforestation: \", len(all_bin_labels)-count)"
   ]
  },
  {
   "cell_type": "code",
   "execution_count": 50,
   "metadata": {
    "colab": {
     "base_uri": "https://localhost:8080/"
    },
    "executionInfo": {
     "elapsed": 3,
     "status": "ok",
     "timestamp": 1669931079578,
     "user": {
      "displayName": "Forest Shi",
      "userId": "16066859280328279662"
     },
     "user_tz": 300
    },
    "id": "CGYeuPGpeYK7",
    "outputId": "22576e38-5961-4d12-e737-6d359c40f712"
   },
   "outputs": [
    {
     "name": "stdout",
     "output_type": "stream",
     "text": [
      "deforestation:  797 \n",
      "no deforestation:  1203\n",
      "The percentage of deforestation labels:  0.3985\n"
     ]
    }
   ],
   "source": [
    "# DELETE LATER\n",
    "small_bin_labels = [bin_labels[pathlib.Path(path).name.split(\".\")[0]]\n",
    "                  for path in small_img_paths]\n",
    "count = 0\n",
    "for each in small_bin_labels:\n",
    "  count += each\n",
    "print(\"deforestation: \", count, \"\\nno deforestation: \", len(small_bin_labels)-count)\n",
    "print(\"The percentage of deforestation labels: \", \n",
    "      count/len(small_bin_labels))"
   ]
  },
  {
   "cell_type": "code",
   "execution_count": 51,
   "metadata": {
    "colab": {
     "base_uri": "https://localhost:8080/"
    },
    "executionInfo": {
     "elapsed": 426,
     "status": "ok",
     "timestamp": 1670190181182,
     "user": {
      "displayName": "Forest Shi",
      "userId": "16066859280328279662"
     },
     "user_tz": 300
    },
    "id": "T5hCurSVYtDc",
    "outputId": "921bc4b9-ce31-4835-a202-cb92075e30ba"
   },
   "outputs": [
    {
     "name": "stdout",
     "output_type": "stream",
     "text": [
      "deforestation:  6319 \n",
      "no deforestation:  9681\n",
      "The percentage of deforestation labels:  0.3949375\n"
     ]
    }
   ],
   "source": [
    "med_bin_labels = [bin_labels[pathlib.Path(path).name.split(\".\")[0]]\n",
    "                  for path in med_img_paths]\n",
    "count = 0\n",
    "for each in med_bin_labels:\n",
    "  count += each\n",
    "print(\"deforestation: \", count, \"\\nno deforestation: \", len(med_bin_labels)-count)\n",
    "print(\"The percentage of deforestation labels: \", \n",
    "      count/len(med_bin_labels))"
   ]
  },
  {
   "cell_type": "markdown",
   "metadata": {
    "id": "gwyePRaIL0Qh"
   },
   "source": [
    "# Modeling"
   ]
  },
  {
   "cell_type": "code",
   "execution_count": null,
   "metadata": {
    "id": "2GnLn77BL2CT"
   },
   "outputs": [],
   "source": [
    "train_paths, test_paths, train_labels, test_labels = train_test_split(all_img_paths, \n",
    "                                                                      all_bin_labels,\n",
    "                                                                      test_size=0.25, \n",
    "                                                                      random_state=42)"
   ]
  },
  {
   "cell_type": "code",
   "execution_count": 96,
   "metadata": {
    "id": "8_Xi_C1_elfb"
   },
   "outputs": [],
   "source": [
    "# DELETE LATER\n",
    "train_paths, test_paths, train_labels, test_labels = train_test_split(small_img_paths, \n",
    "                                                                      small_bin_labels,\n",
    "                                                                      test_size=0.25, \n",
    "                                                                      random_state=42)"
   ]
  },
  {
   "cell_type": "code",
   "execution_count": 52,
   "metadata": {
    "id": "_3Z594hJY4M3"
   },
   "outputs": [],
   "source": [
    "# DELETE LATER\n",
    "train_paths, test_paths, train_labels, test_labels = train_test_split(med_img_paths, \n",
    "                                                                      med_bin_labels,\n",
    "                                                                      test_size=0.25, \n",
    "                                                                      random_state=42)"
   ]
  },
  {
   "cell_type": "markdown",
   "metadata": {
    "id": "z9bjWGNm1UJ5"
   },
   "source": [
    "Display a few images and their labels"
   ]
  },
  {
   "cell_type": "code",
   "execution_count": 55,
   "metadata": {
    "colab": {
     "base_uri": "https://localhost:8080/",
     "height": 892
    },
    "executionInfo": {
     "elapsed": 1935,
     "status": "ok",
     "timestamp": 1670190196521,
     "user": {
      "displayName": "Forest Shi",
      "userId": "16066859280328279662"
     },
     "user_tz": 300
    },
    "id": "Lj4LkSUm0rNz",
    "outputId": "4451f619-9c9e-4377-e4fb-880cfcc1781a"
   },
   "outputs": [
    {
     "name": "stdout",
     "output_type": "stream",
     "text": [
      "1\n"
     ]
    },
    {
     "data": {
      "image/jpeg": "[encoded data removed]",
      "text/plain": [
       "<IPython.core.display.Image object>"
      ]
     },
     "metadata": {},
     "output_type": "display_data"
    },
    {
     "name": "stdout",
     "output_type": "stream",
     "text": [
      "\n",
      "0\n"
     ]
    },
    {
     "data": {
      "image/jpeg": "[encoded data removed]",
      "text/plain": [
       "<IPython.core.display.Image object>"
      ]
     },
     "metadata": {},
     "output_type": "display_data"
    },
    {
     "name": "stdout",
     "output_type": "stream",
     "text": [
      "\n",
      "1\n"
     ]
    },
    {
     "data": {
      "image/jpeg": "[encoded data removed]",
      "text/plain": [
       "<IPython.core.display.Image object>"
      ]
     },
     "metadata": {},
     "output_type": "display_data"
    },
    {
     "name": "stdout",
     "output_type": "stream",
     "text": [
      "\n"
     ]
    }
   ],
   "source": [
    "for n in range(3):\n",
    "  i = random.randint(0,len(train_paths))\n",
    "  image_path = train_paths[i]\n",
    "  print(train_labels[i])\n",
    "  display.display(display.Image(image_path))\n",
    "  print()"
   ]
  },
  {
   "cell_type": "code",
   "execution_count": null,
   "metadata": {
    "id": "UKyZaNj003B-"
   },
   "outputs": [],
   "source": [
    "# img_raw = tf.io.read_file(train_paths[0])\n",
    "# print(repr(img_raw)[:100]+\"...\")"
   ]
  },
  {
   "cell_type": "code",
   "execution_count": null,
   "metadata": {
    "id": "YMvAE3PI2F_e"
   },
   "outputs": [],
   "source": [
    "# img_tensor = tf.image.decode_image(img_raw, channels=3, dtype=tf.dtypes.float32)\n",
    "# print(img_tensor.shape)\n",
    "# print(img_tensor.dtype)"
   ]
  },
  {
   "cell_type": "code",
   "execution_count": 56,
   "metadata": {
    "id": "cOMP8HUM3scy"
   },
   "outputs": [],
   "source": [
    "# Test to see the image dimensions\n",
    "img_raw = Image.open(train_paths[0]).convert(\"RGB\")\n",
    "img = img = np.asarray(img_raw) /255"
   ]
  },
  {
   "cell_type": "code",
   "execution_count": 57,
   "metadata": {
    "colab": {
     "base_uri": "https://localhost:8080/"
    },
    "executionInfo": {
     "elapsed": 267,
     "status": "ok",
     "timestamp": 1670190206447,
     "user": {
      "displayName": "Forest Shi",
      "userId": "16066859280328279662"
     },
     "user_tz": 300
    },
    "id": "i4dyJMzB32Kl",
    "outputId": "c64c7858-5978-4af1-8735-02551f6b056c"
   },
   "outputs": [
    {
     "name": "stdout",
     "output_type": "stream",
     "text": [
      "(256, 256, 3)\n",
      "0.047058823529411764 0.615686274509804\n"
     ]
    }
   ],
   "source": [
    "print(img.shape)\n",
    "print(img.min(), img.max())"
   ]
  },
  {
   "cell_type": "markdown",
   "metadata": {
    "id": "3u1PHgOrEQ7V"
   },
   "source": [
    "**Parameters for loader**"
   ]
  },
  {
   "cell_type": "code",
   "execution_count": 58,
   "metadata": {
    "id": "p5NVM770EL5M"
   },
   "outputs": [],
   "source": [
    "BATCH_SIZE = 128\n",
    "IMG_SIZE = 180\n",
    "AUTOTUNE = tf.data.experimental.AUTOTUNE\n",
    "SHUFFLE_SIZE = 1000\n",
    "BUFFER_SIZE = 1000"
   ]
  },
  {
   "cell_type": "code",
   "execution_count": 59,
   "metadata": {
    "id": "LUNMrSXhEvab"
   },
   "outputs": [],
   "source": [
    "# def load_and_preprocess_image(path):\n",
    "#   img = tf.io.read_file(path)\n",
    "#   img = tf.image.decode_jpeg(img, channels=3)\n",
    "#   img = tf.image.resize(img, [IMG_SIZE, IMG_SIZE ])\n",
    "#   # img /= 255.0  # normalize pixels to 0,1\n",
    "#   return img\n",
    "\n",
    "def load_and_preprocess_image(path):\n",
    "  img = Image.open(path).convert(\"RGB\")\n",
    "  img = np.asarray(img) /255\n",
    "  img = tf.convert_to_tensor(img)\n",
    "  img = tf.image.resize(img, [IMG_SIZE, IMG_SIZE ])\n",
    "  return img"
   ]
  },
  {
   "cell_type": "code",
   "execution_count": null,
   "metadata": {
    "id": "SA4stcXvvrU3"
   },
   "outputs": [],
   "source": [
    "# def load_and_preprocess_image(path):\n",
    "#   img = iio.imread(path)\n",
    "#   img = img /255\n",
    "#   img = tf.convert_to_tensor(img)\n",
    "#   img = tf.image.resize(img, [IMG_SIZE, IMG_SIZE ])\n",
    "#   return img"
   ]
  },
  {
   "cell_type": "markdown",
   "metadata": {
    "id": "Nw-UE6jwq8mB"
   },
   "source": [
    "Checking the shapes of the preprocessed dataset:"
   ]
  },
  {
   "cell_type": "code",
   "execution_count": null,
   "metadata": {
    "id": "MYSzJWizn3UG"
   },
   "outputs": [],
   "source": [
    "# a dataset that returns image paths\n",
    "# path_ds = tf.data.Dataset.from_tensor_slices(train_paths)\n",
    "# for n, img_path in enumerate(path_ds.take(4)):\n",
    "#   print(n, img_path)\n"
   ]
  },
  {
   "cell_type": "code",
   "execution_count": null,
   "metadata": {
    "id": "MLWCzh3hqql9"
   },
   "outputs": [],
   "source": [
    "# a dataset that returns images (loaded off disk, decoded, and preprocessed)\n",
    "# image_ds = path_ds.map(load_and_preprocess_image, num_parallel_calls=AUTOTUNE)\n",
    "# for n, image in enumerate(image_ds.take(4)):\n",
    "#   print(n, image.shape)"
   ]
  },
  {
   "cell_type": "code",
   "execution_count": 97,
   "metadata": {
    "colab": {
     "base_uri": "https://localhost:8080/"
    },
    "executionInfo": {
     "elapsed": 3,
     "status": "ok",
     "timestamp": 1670190217019,
     "user": {
      "displayName": "Forest Shi",
      "userId": "16066859280328279662"
     },
     "user_tz": 300
    },
    "id": "3yI2Kfap1mGx",
    "outputId": "504e9c04-6750-404c-fd49-7484c6c0183b"
   },
   "outputs": [
    {
     "data": {
      "text/plain": [
       "1500"
      ]
     },
     "execution_count": 97,
     "metadata": {},
     "output_type": "execute_result"
    }
   ],
   "source": [
    "len(train_paths)"
   ]
  },
  {
   "cell_type": "code",
   "execution_count": 98,
   "metadata": {
    "colab": {
     "base_uri": "https://localhost:8080/"
    },
    "executionInfo": {
     "elapsed": 245,
     "status": "ok",
     "timestamp": 1670190323994,
     "user": {
      "displayName": "Forest Shi",
      "userId": "16066859280328279662"
     },
     "user_tz": 300
    },
    "id": "70AdDofIGcIU",
    "outputId": "d11b279a-d0fe-4e9a-d75a-8530a1e82d36"
   },
   "outputs": [
    {
     "data": {
      "text/plain": [
       "500"
      ]
     },
     "execution_count": 98,
     "metadata": {},
     "output_type": "execute_result"
    }
   ],
   "source": [
    "len(test_paths)"
   ]
  },
  {
   "cell_type": "code",
   "execution_count": null,
   "metadata": {
    "id": "SnE4OWLEi_0c"
   },
   "outputs": [],
   "source": [
    "# Vectorized using Pandas Apply Function\n",
    "# path_ds = pd.DataFrame(train_paths)\n",
    "# start = time.time()\n",
    "# image_list = (path_ds[0].apply(load_and_preprocess_image))\n",
    "# end = time.time()\n",
    "# print(end-start)\n"
   ]
  },
  {
   "cell_type": "code",
   "execution_count": 99,
   "metadata": {
    "colab": {
     "background_save": true
    },
    "id": "QJuQ7B2VpTiq",
    "outputId": "4bb22c12-7a84-4b74-81d2-c6f3aef58663"
   },
   "outputs": [
    {
     "name": "stdout",
     "output_type": "stream",
     "text": [
      "4.838622331619263\n"
     ]
    }
   ],
   "source": [
    "# list comprehension method using PILLOW for both  train and test set\n",
    "start = time.time()\n",
    "image_list = [load_and_preprocess_image(path) for path in train_paths]\n",
    "test_list = [load_and_preprocess_image(path) for path in test_paths]\n",
    "end = time.time()\n",
    "print(end-start)"
   ]
  },
  {
   "cell_type": "code",
   "execution_count": null,
   "metadata": {
    "colab": {
     "base_uri": "https://localhost:8080/"
    },
    "executionInfo": {
     "elapsed": 62916,
     "status": "ok",
     "timestamp": 1670182905525,
     "user": {
      "displayName": "Forest Shi",
      "userId": "16066859280328279662"
     },
     "user_tz": 300
    },
    "id": "t3ITCY9nbtyo",
    "outputId": "c1f07882-676e-451a-daea-55b8f45c7933"
   },
   "outputs": [
    {
     "name": "stdout",
     "output_type": "stream",
     "text": [
      "60.79652380943298\n"
     ]
    }
   ],
   "source": [
    "# # PILLOW method runtime using map\n",
    "# start = time.time()\n",
    "# image_list = list(map(load_and_preprocess_image, train_paths[1100:1200]))\n",
    "# end = time.time()\n",
    "# print(end-start)"
   ]
  },
  {
   "cell_type": "code",
   "execution_count": null,
   "metadata": {
    "colab": {
     "base_uri": "https://localhost:8080/"
    },
    "executionInfo": {
     "elapsed": 61559,
     "status": "ok",
     "timestamp": 1670182979860,
     "user": {
      "displayName": "Forest Shi",
      "userId": "16066859280328279662"
     },
     "user_tz": 300
    },
    "id": "v8DeBQpClbcj",
    "outputId": "6936a1bd-aa32-405e-c2e2-5b69f58e009b"
   },
   "outputs": [
    {
     "name": "stdout",
     "output_type": "stream",
     "text": [
      "61.3255455493927\n"
     ]
    }
   ],
   "source": [
    "# # PILLOW method runtime using for loop\n",
    "# image_list = []\n",
    "# start = time.time()\n",
    "# for path in train_paths[1200:1300]:\n",
    "#   image_list.append(load_and_preprocess_image(path))\n",
    "# end = time.time()\n",
    "# print(end-start)"
   ]
  },
  {
   "cell_type": "code",
   "execution_count": 100,
   "metadata": {
    "colab": {
     "base_uri": "https://localhost:8080/"
    },
    "executionInfo": {
     "elapsed": 817,
     "status": "ok",
     "timestamp": 1670187957639,
     "user": {
      "displayName": "Forest Shi",
      "userId": "16066859280328279662"
     },
     "user_tz": 300
    },
    "id": "6gLn2rV0w1_-",
    "outputId": "fccefef2-6a49-4382-d919-0ca1fca8ef66"
   },
   "outputs": [
    {
     "data": {
      "text/plain": [
       "1500"
      ]
     },
     "execution_count": 100,
     "metadata": {},
     "output_type": "execute_result"
    }
   ],
   "source": [
    "len(image_list)"
   ]
  },
  {
   "cell_type": "code",
   "execution_count": 101,
   "metadata": {
    "colab": {
     "base_uri": "https://localhost:8080/"
    },
    "executionInfo": {
     "elapsed": 462,
     "status": "ok",
     "timestamp": 1670187961327,
     "user": {
      "displayName": "Forest Shi",
      "userId": "16066859280328279662"
     },
     "user_tz": 300
    },
    "id": "tc-PyFBRbogY",
    "outputId": "627e87e8-fd0e-4c42-ceb7-177ad5477837"
   },
   "outputs": [
    {
     "data": {
      "text/plain": [
       "<tf.Tensor: shape=(180, 180, 3), dtype=float32, numpy=\n",
       "array([[[0.70461875, 0.6959908 , 0.64191675],\n",
       "        [0.664443  , 0.66745096, 0.6164706 ],\n",
       "        [0.64331156, 0.64348584, 0.596427  ],\n",
       "        ...,\n",
       "        [0.391329  , 0.4353401 , 0.37315908],\n",
       "        [0.3867974 , 0.42034712, 0.371939  ],\n",
       "        [0.3836606 , 0.4072331 , 0.36945534]],\n",
       "\n",
       "       [[0.6829194 , 0.68117505, 0.6251416 ],\n",
       "        [0.6407843 , 0.64666235, 0.59568197],\n",
       "        [0.61824256, 0.62192446, 0.57472765],\n",
       "        ...,\n",
       "        [0.390581  , 0.44020337, 0.37873644],\n",
       "        [0.38770807, 0.43045315, 0.37751636],\n",
       "        [0.3837037 , 0.4208714 , 0.3750327 ]],\n",
       "\n",
       "       [[0.6562963 , 0.6603898 , 0.60526997],\n",
       "        [0.61490923, 0.6211765 , 0.56854033],\n",
       "        [0.5904139 , 0.5982692 , 0.547083  ],\n",
       "        ...,\n",
       "        [0.39651418, 0.44291943, 0.38431373],\n",
       "        [0.39651418, 0.4419172 , 0.3829557 ],\n",
       "        [0.39359236, 0.43651173, 0.38061002]],\n",
       "\n",
       "       ...,\n",
       "\n",
       "       [[0.9137255 , 0.8117647 , 0.8666667 ],\n",
       "        [0.9137255 , 0.8117647 , 0.8666667 ],\n",
       "        [0.9137255 , 0.8117647 , 0.8666667 ],\n",
       "        ...,\n",
       "        [0.71482664, 0.7032798 , 0.65208155],\n",
       "        [0.7104574 , 0.6972548 , 0.6477123 ],\n",
       "        [0.7135511 , 0.697693  , 0.6537278 ]],\n",
       "\n",
       "       [[0.9137255 , 0.8117647 , 0.8666667 ],\n",
       "        [0.9137255 , 0.8117647 , 0.8666667 ],\n",
       "        [0.9137255 , 0.8117647 , 0.8666667 ],\n",
       "        ...,\n",
       "        [0.7021786 , 0.69591135, 0.6432752 ],\n",
       "        [0.7062745 , 0.6945098 , 0.64654034],\n",
       "        [0.7166043 , 0.7012216 , 0.656122  ]],\n",
       "\n",
       "       [[0.9137255 , 0.8117647 , 0.8666667 ],\n",
       "        [0.9137255 , 0.8117647 , 0.8666667 ],\n",
       "        [0.9137255 , 0.8117647 , 0.8666667 ],\n",
       "        ...,\n",
       "        [0.7051005 , 0.7011789 , 0.646231  ],\n",
       "        [0.71494555, 0.7037052 , 0.656122  ],\n",
       "        [0.729194  , 0.71433556, 0.6697174 ]]], dtype=float32)>"
      ]
     },
     "execution_count": 101,
     "metadata": {},
     "output_type": "execute_result"
    }
   ],
   "source": [
    "image_list[0]"
   ]
  },
  {
   "cell_type": "code",
   "execution_count": 102,
   "metadata": {
    "colab": {
     "base_uri": "https://localhost:8080/"
    },
    "executionInfo": {
     "elapsed": 2735,
     "status": "ok",
     "timestamp": 1670187969637,
     "user": {
      "displayName": "Forest Shi",
      "userId": "16066859280328279662"
     },
     "user_tz": 300
    },
    "id": "zDiJ2tJdzGKY",
    "outputId": "534a11b3-904f-40f6-88b5-1d60c202266f"
   },
   "outputs": [
    {
     "name": "stdout",
     "output_type": "stream",
     "text": [
      "0.12466740608215332\n"
     ]
    }
   ],
   "source": [
    "start = time.time()\n",
    "image_ds = tf.data.Dataset.from_tensor_slices(image_list)\n",
    "end = time.time()\n",
    "print(end-start)"
   ]
  },
  {
   "cell_type": "code",
   "execution_count": 103,
   "metadata": {
    "colab": {
     "base_uri": "https://localhost:8080/"
    },
    "executionInfo": {
     "elapsed": 819,
     "status": "ok",
     "timestamp": 1670187974256,
     "user": {
      "displayName": "Forest Shi",
      "userId": "16066859280328279662"
     },
     "user_tz": 300
    },
    "id": "J-o6G-Ld7Iq0",
    "outputId": "d67d4e01-508b-46aa-ac3c-b658a28ba965"
   },
   "outputs": [
    {
     "data": {
      "text/plain": [
       "1500"
      ]
     },
     "execution_count": 103,
     "metadata": {},
     "output_type": "execute_result"
    }
   ],
   "source": [
    "len(image_ds)"
   ]
  },
  {
   "cell_type": "code",
   "execution_count": 104,
   "metadata": {
    "colab": {
     "base_uri": "https://localhost:8080/"
    },
    "executionInfo": {
     "elapsed": 381,
     "status": "ok",
     "timestamp": 1670187977537,
     "user": {
      "displayName": "Forest Shi",
      "userId": "16066859280328279662"
     },
     "user_tz": 300
    },
    "id": "lqJUiqvRqvde",
    "outputId": "8e1619fe-aa4d-49b9-f6ba-f1d6f7e20733"
   },
   "outputs": [
    {
     "name": "stdout",
     "output_type": "stream",
     "text": [
      "tf.Tensor(0, shape=(), dtype=int64)\n",
      "tf.Tensor(1, shape=(), dtype=int64)\n",
      "tf.Tensor(0, shape=(), dtype=int64)\n",
      "tf.Tensor(1, shape=(), dtype=int64)\n"
     ]
    }
   ],
   "source": [
    "# a dataset that returns labels\n",
    "label_ds = tf.data.Dataset.from_tensor_slices(tf.cast(train_labels, tf.int64))\n",
    "for label in label_ds.take(4):\n",
    "  print(label)"
   ]
  },
  {
   "cell_type": "code",
   "execution_count": 105,
   "metadata": {
    "colab": {
     "base_uri": "https://localhost:8080/"
    },
    "executionInfo": {
     "elapsed": 339,
     "status": "ok",
     "timestamp": 1670187983533,
     "user": {
      "displayName": "Forest Shi",
      "userId": "16066859280328279662"
     },
     "user_tz": 300
    },
    "id": "3iXH2UtVr51c",
    "outputId": "366bbab1-2004-4775-c37d-1fbc04fb9e43"
   },
   "outputs": [
    {
     "name": "stdout",
     "output_type": "stream",
     "text": [
      "<ZipDataset element_spec=(TensorSpec(shape=(180, 180, 3), dtype=tf.float32, name=None), TensorSpec(shape=(), dtype=tf.int64, name=None))>\n"
     ]
    }
   ],
   "source": [
    "# a dataset that returns images and labels\n",
    "image_label_ds = tf.data.Dataset.zip((image_ds, label_ds))\n",
    "print(image_label_ds)"
   ]
  },
  {
   "cell_type": "code",
   "execution_count": 106,
   "metadata": {
    "colab": {
     "base_uri": "https://localhost:8080/"
    },
    "executionInfo": {
     "elapsed": 2968,
     "status": "ok",
     "timestamp": 1670187988628,
     "user": {
      "displayName": "Forest Shi",
      "userId": "16066859280328279662"
     },
     "user_tz": 300
    },
    "id": "Iy8mOsZWtc_6",
    "outputId": "986000ba-77d5-42ff-f531-dfd2679406f5"
   },
   "outputs": [
    {
     "name": "stdout",
     "output_type": "stream",
     "text": [
      "(180, 180, 3) 0\n",
      "(180, 180, 3) 1\n"
     ]
    }
   ],
   "source": [
    "for img, label in image_label_ds.take(2):\n",
    "  print(img.shape, label.numpy())"
   ]
  },
  {
   "cell_type": "code",
   "execution_count": 107,
   "metadata": {
    "colab": {
     "base_uri": "https://localhost:8080/"
    },
    "executionInfo": {
     "elapsed": 3288,
     "status": "ok",
     "timestamp": 1670188040714,
     "user": {
      "displayName": "Forest Shi",
      "userId": "16066859280328279662"
     },
     "user_tz": 300
    },
    "id": "1SLgUhH5tiSz",
    "outputId": "876f6f30-8c16-43d9-bb64-d4fd67f2fe70"
   },
   "outputs": [
    {
     "name": "stdout",
     "output_type": "stream",
     "text": [
      "(128, 180, 180, 3) (128,)\n",
      "(128, 180, 180, 3) (128,)\n"
     ]
    }
   ],
   "source": [
    "train_ds = image_label_ds.shuffle(SHUFFLE_SIZE)\n",
    "train_ds = train_ds.batch(BATCH_SIZE).prefetch(buffer_size=AUTOTUNE)\n",
    "\n",
    "for img, label in train_ds.take(2):\n",
    "  print(img.shape, label.shape) # notice it's returning batches of data now"
   ]
  },
  {
   "cell_type": "markdown",
   "metadata": {
    "id": "aPSducfPcPbW"
   },
   "source": [
    "Benchmark Utility to test runtime:"
   ]
  },
  {
   "cell_type": "code",
   "execution_count": 108,
   "metadata": {
    "id": "R2XQz64SZxPL"
   },
   "outputs": [],
   "source": [
    "# A benchmark utility to time how long it takes\n",
    "# to iterate once over the entire dataset\n",
    "def time_one_epoch(ds):\n",
    "  start = time.time()\n",
    "  batches = 0\n",
    "  for i,(images,labels) in enumerate(ds):\n",
    "    batches += 1\n",
    "    if i % 10 == 0:\n",
    "      print('.', end='')\n",
    "  print()\n",
    "  end = time.time()\n",
    "  duration = end-start\n",
    "  print(\"Read {} batches\".format(batches))\n",
    "  print(\"{:0.2f} Batches/s\".format(batches/duration))\n",
    "  print(\"{:0.2f} Images/s\".format(BATCH_SIZE*batches/duration))\n",
    "  print(\"Total time: {}s\".format(duration))"
   ]
  },
  {
   "cell_type": "markdown",
   "metadata": {
    "id": "06BTmC5-cWzn"
   },
   "source": [
    "Use on-disk caching.\n",
    "Make a train dataset."
   ]
  },
  {
   "cell_type": "code",
   "execution_count": 109,
   "metadata": {
    "id": "8C_Lfplczqz5"
   },
   "outputs": [],
   "source": [
    "# making your training dataset with image and label pairs\n",
    "# train_ds = image_label_ds.cache(filename='./cache.tf-data')\n",
    "train_ds = image_label_ds.shuffle(buffer_size=BUFFER_SIZE)\n",
    "train_ds = train_ds.batch(BATCH_SIZE).prefetch(buffer_size=AUTOTUNE)"
   ]
  },
  {
   "cell_type": "code",
   "execution_count": 110,
   "metadata": {
    "colab": {
     "base_uri": "https://localhost:8080/"
    },
    "executionInfo": {
     "elapsed": 1954,
     "status": "ok",
     "timestamp": 1670188052374,
     "user": {
      "displayName": "Forest Shi",
      "userId": "16066859280328279662"
     },
     "user_tz": 300
    },
    "id": "TcMZ9R9qbTfb",
    "outputId": "eaf4b908-3e9c-4dd2-c0c3-a2e93e058fac"
   },
   "outputs": [
    {
     "name": "stdout",
     "output_type": "stream",
     "text": [
      "0.0\n",
      "0.96019554\n"
     ]
    }
   ],
   "source": [
    "for each, label in train_ds.take(1):\n",
    "  print(each.numpy().min())\n",
    "  print(each.numpy().max())"
   ]
  },
  {
   "cell_type": "code",
   "execution_count": 111,
   "metadata": {
    "colab": {
     "base_uri": "https://localhost:8080/"
    },
    "executionInfo": {
     "elapsed": 3222,
     "status": "ok",
     "timestamp": 1670188058105,
     "user": {
      "displayName": "Forest Shi",
      "userId": "16066859280328279662"
     },
     "user_tz": 300
    },
    "id": "enhNeg5Wzv6I",
    "outputId": "866ee1b7-c3f0-4a18-f00b-089d0fe34170"
   },
   "outputs": [
    {
     "name": "stdout",
     "output_type": "stream",
     "text": [
      "..\n",
      "Read 12 batches\n",
      "39.32 Batches/s\n",
      "5033.06 Images/s\n",
      "Total time: 0.30518221855163574s\n"
     ]
    }
   ],
   "source": [
    "time_one_epoch(train_ds) # this will be slow"
   ]
  },
  {
   "cell_type": "markdown",
   "metadata": {
    "id": "AqFesX4YcdUT"
   },
   "source": [
    "Now that the cache is built, iteration will be much faster."
   ]
  },
  {
   "cell_type": "code",
   "execution_count": 112,
   "metadata": {
    "colab": {
     "base_uri": "https://localhost:8080/"
    },
    "executionInfo": {
     "elapsed": 1387,
     "status": "ok",
     "timestamp": 1670188061294,
     "user": {
      "displayName": "Forest Shi",
      "userId": "16066859280328279662"
     },
     "user_tz": 300
    },
    "id": "rzHhzS-CcdyC",
    "outputId": "16121279-83b4-4eef-a3a7-7bde43e6a545"
   },
   "outputs": [
    {
     "name": "stdout",
     "output_type": "stream",
     "text": [
      "..\n",
      "Read 12 batches\n",
      "171.86 Batches/s\n",
      "21997.80 Images/s\n",
      "Total time: 0.0698251724243164s\n"
     ]
    }
   ],
   "source": [
    "time_one_epoch(train_ds) # this will be fast"
   ]
  },
  {
   "cell_type": "markdown",
   "metadata": {
    "id": "PsIXNpwIiSit"
   },
   "source": [
    "Make a test dataset"
   ]
  },
  {
   "cell_type": "code",
   "execution_count": 113,
   "metadata": {
    "colab": {
     "base_uri": "https://localhost:8080/"
    },
    "executionInfo": {
     "elapsed": 311594,
     "status": "ok",
     "timestamp": 1669932739944,
     "user": {
      "displayName": "Forest Shi",
      "userId": "16066859280328279662"
     },
     "user_tz": 300
    },
    "id": "foyCgk-TZC1G",
    "outputId": "c3fd1e7f-a9a8-49ce-e905-ebe7b7f8681e"
   },
   "outputs": [],
   "source": [
    "# # PILLOW method runtime\n",
    "# test_list = []\n",
    "# start = time.time()\n",
    "# for path in test_paths:\n",
    "#   test_list.append(load_and_preprocess_image(path))\n",
    "# end = time.time()\n",
    "# print(end-start)"
   ]
  },
  {
   "cell_type": "code",
   "execution_count": 114,
   "metadata": {
    "colab": {
     "base_uri": "https://localhost:8080/"
    },
    "executionInfo": {
     "elapsed": 1528976,
     "status": "ok",
     "timestamp": 1670189629487,
     "user": {
      "displayName": "Forest Shi",
      "userId": "16066859280328279662"
     },
     "user_tz": 300
    },
    "id": "LwaGYNnh97bQ",
    "outputId": "44ef915e-957a-4e76-e432-140bd36e0252"
   },
   "outputs": [
    {
     "name": "stdout",
     "output_type": "stream",
     "text": [
      "1.0422389507293701\n"
     ]
    }
   ],
   "source": [
    "# list comprehension method\n",
    "start = time.time()\n",
    "test_list = [load_and_preprocess_image(path) for path in test_paths]\n",
    "end = time.time()\n",
    "print(end-start) "
   ]
  },
  {
   "cell_type": "code",
   "execution_count": 115,
   "metadata": {
    "colab": {
     "base_uri": "https://localhost:8080/"
    },
    "executionInfo": {
     "elapsed": 363,
     "status": "ok",
     "timestamp": 1669933019190,
     "user": {
      "displayName": "Forest Shi",
      "userId": "16066859280328279662"
     },
     "user_tz": 300
    },
    "id": "iSxqcXgvbAcW",
    "outputId": "be6312c1-21c3-4cee-ad01-a0daef7c1cd7"
   },
   "outputs": [
    {
     "data": {
      "text/plain": [
       "500"
      ]
     },
     "execution_count": 115,
     "metadata": {},
     "output_type": "execute_result"
    }
   ],
   "source": [
    "len(test_list)"
   ]
  },
  {
   "cell_type": "code",
   "execution_count": 116,
   "metadata": {
    "colab": {
     "base_uri": "https://localhost:8080/"
    },
    "executionInfo": {
     "elapsed": 384,
     "status": "ok",
     "timestamp": 1669933030289,
     "user": {
      "displayName": "Forest Shi",
      "userId": "16066859280328279662"
     },
     "user_tz": 300
    },
    "id": "x46LKQo6w8bv",
    "outputId": "537447f2-7b4a-4f24-d1c5-d053d625a68c"
   },
   "outputs": [
    {
     "data": {
      "text/plain": [
       "<tf.Tensor: shape=(180, 180, 3), dtype=float32, numpy=\n",
       "array([[[0.29485935, 0.2973861 , 0.27446672],\n",
       "        [0.28658387, 0.29803923, 0.27059114],\n",
       "        [0.2907238 , 0.2989131 , 0.27063423],\n",
       "        ...,\n",
       "        [0.21393853, 0.27290002, 0.26382726],\n",
       "        [0.20841098, 0.26029915, 0.24030495],\n",
       "        [0.15956405, 0.20797217, 0.19254932]],\n",
       "\n",
       "       [[0.27555847, 0.29494554, 0.26627743],\n",
       "        [0.28510675, 0.29961222, 0.2758257 ],\n",
       "        [0.3059695 , 0.3048003 , 0.28570807],\n",
       "        ...,\n",
       "        [0.20492385, 0.25970942, 0.24657974],\n",
       "        [0.20352064, 0.25083658, 0.22848795],\n",
       "        [0.16173838, 0.2301437 , 0.18731575]],\n",
       "\n",
       "       [[0.282825  , 0.2980852 , 0.27442023],\n",
       "        [0.2924401 , 0.30060276, 0.28189546],\n",
       "        [0.31262407, 0.30607602, 0.28845316],\n",
       "        ...,\n",
       "        [0.19984253, 0.2477122 , 0.23884046],\n",
       "        [0.19909224, 0.24203342, 0.22396512],\n",
       "        [0.20115712, 0.25397974, 0.2242944 ]],\n",
       "\n",
       "       ...,\n",
       "\n",
       "       [[0.1862333 , 0.2640546 , 0.2248849 ],\n",
       "        [0.19535205, 0.26745805, 0.23108178],\n",
       "        [0.19628404, 0.25860554, 0.23202583],\n",
       "        ...,\n",
       "        [0.15665704, 0.23508841, 0.20871438],\n",
       "        [0.15000726, 0.22286133, 0.20963682],\n",
       "        [0.14239398, 0.2096707 , 0.2118107 ]],\n",
       "\n",
       "       [[0.18091649, 0.2505882 , 0.23137255],\n",
       "        [0.1844488 , 0.2505882 , 0.23137255],\n",
       "        [0.1866594 , 0.24912855, 0.2288308 ],\n",
       "        ...,\n",
       "        [0.17120561, 0.2431519 , 0.20575167],\n",
       "        [0.16274072, 0.2308453 , 0.20469719],\n",
       "        [0.14509799, 0.20845018, 0.20422512]],\n",
       "\n",
       "       [[0.18039216, 0.23694985, 0.21525091],\n",
       "        [0.1784328 , 0.2389092 , 0.21281032],\n",
       "        [0.1813919 , 0.2504963 , 0.21938747],\n",
       "        ...,\n",
       "        [0.18205056, 0.26252997, 0.23717038],\n",
       "        [0.17298476, 0.2511097 , 0.22352658],\n",
       "        [0.15132844, 0.22126357, 0.20914933]]], dtype=float32)>"
      ]
     },
     "execution_count": 116,
     "metadata": {},
     "output_type": "execute_result"
    }
   ],
   "source": [
    "test_list[0]"
   ]
  },
  {
   "cell_type": "code",
   "execution_count": 117,
   "metadata": {
    "id": "fjVm18KeiZyx"
   },
   "outputs": [],
   "source": [
    "# let's make a test dataset as well\n",
    "# path_ds = tf.data.Dataset.from_tensor_slices(test_paths)\n",
    "# image_ds = path_ds.map(load_and_preprocess_image, num_parallel_calls=AUTOTUNE)\n",
    "test_images_ds = tf.data.Dataset.from_tensor_slices(test_list)\n",
    "test_label_ds = tf.data.Dataset.from_tensor_slices(tf.cast(test_labels, tf.int64))\n",
    "image_label_ds = tf.data.Dataset.zip((test_images_ds, test_label_ds))\n",
    "# test_ds = image_label_ds.cache(filename='./test_cache.tf-data')\n",
    "test_ds = image_label_ds.shuffle(buffer_size=BUFFER_SIZE)\n",
    "test_ds = test_ds.batch(BATCH_SIZE).prefetch(buffer_size=AUTOTUNE) # added this line to fix dim mismatch"
   ]
  },
  {
   "cell_type": "code",
   "execution_count": 118,
   "metadata": {
    "colab": {
     "base_uri": "https://localhost:8080/"
    },
    "executionInfo": {
     "elapsed": 7,
     "status": "ok",
     "timestamp": 1669933218166,
     "user": {
      "displayName": "Forest Shi",
      "userId": "16066859280328279662"
     },
     "user_tz": 300
    },
    "id": "eudHI0nvxKzH",
    "outputId": "234f9633-c036-4ec4-df88-5594a950d80f"
   },
   "outputs": [
    {
     "name": "stdout",
     "output_type": "stream",
     "text": [
      "0.0\n",
      "0.99607843\n"
     ]
    }
   ],
   "source": [
    "for each in test_ds.take(1):\n",
    "  print(each[0].numpy().min())\n",
    "  print(each[0].numpy().max())"
   ]
  },
  {
   "cell_type": "code",
   "execution_count": 83,
   "metadata": {
    "id": "sjkKZuXccf9S"
   },
   "outputs": [],
   "source": [
    "my_model = models.Sequential()\n",
    "my_model.add(layers.Conv2D(64, (3, 3), activation=\"relu\", input_shape=(IMG_SIZE, IMG_SIZE, 3)))\n",
    "my_model.add(layers.MaxPooling2D())\n",
    "my_model.add(layers.Conv2D(128, (3, 3), activation=\"relu\", input_shape=(IMG_SIZE, IMG_SIZE, 3)))\n",
    "my_model.add(layers.MaxPooling2D())\n",
    "my_model.add(layers.Flatten())\n",
    "my_model.add(layers.Dense(128, activation=\"relu\"))\n",
    "my_model.add(layers.Dense(1, activation=\"sigmoid\"))"
   ]
  },
  {
   "cell_type": "code",
   "execution_count": 84,
   "metadata": {
    "colab": {
     "base_uri": "https://localhost:8080/"
    },
    "executionInfo": {
     "elapsed": 382,
     "status": "ok",
     "timestamp": 1669933224636,
     "user": {
      "displayName": "Forest Shi",
      "userId": "16066859280328279662"
     },
     "user_tz": 300
    },
    "id": "9geJxE--f9cs",
    "outputId": "e96a83d0-e8bd-42e5-8a6e-c21418f81647"
   },
   "outputs": [
    {
     "name": "stdout",
     "output_type": "stream",
     "text": [
      "Model: \"sequential\"\n",
      "_________________________________________________________________\n",
      " Layer (type)                Output Shape              Param #   \n",
      "=================================================================\n",
      " conv2d (Conv2D)             (None, 178, 178, 64)      1792      \n",
      "                                                                 \n",
      " max_pooling2d (MaxPooling2D  (None, 89, 89, 64)       0         \n",
      " )                                                               \n",
      "                                                                 \n",
      " conv2d_1 (Conv2D)           (None, 87, 87, 128)       73856     \n",
      "                                                                 \n",
      " max_pooling2d_1 (MaxPooling  (None, 43, 43, 128)      0         \n",
      " 2D)                                                             \n",
      "                                                                 \n",
      " flatten (Flatten)           (None, 236672)            0         \n",
      "                                                                 \n",
      " dense (Dense)               (None, 128)               30294144  \n",
      "                                                                 \n",
      " dense_1 (Dense)             (None, 1)                 129       \n",
      "                                                                 \n",
      "=================================================================\n",
      "Total params: 30,369,921\n",
      "Trainable params: 30,369,921\n",
      "Non-trainable params: 0\n",
      "_________________________________________________________________\n"
     ]
    }
   ],
   "source": [
    "my_model.summary()"
   ]
  },
  {
   "cell_type": "code",
   "execution_count": null,
   "metadata": {
    "id": "KFCWdq40gBB2"
   },
   "outputs": [],
   "source": [
    "# my_model.compile(optimizer='adam',\n",
    "#               loss='sparse_categorical_crossentropy',\n",
    "#               metrics=['accuracy'])"
   ]
  },
  {
   "cell_type": "code",
   "execution_count": 85,
   "metadata": {
    "id": "XdtiV66qiVUo"
   },
   "outputs": [],
   "source": [
    "my_model.compile(optimizer='adam',\n",
    "              loss='binary_crossentropy',\n",
    "              metrics=['accuracy'])"
   ]
  },
  {
   "cell_type": "code",
   "execution_count": 86,
   "metadata": {
    "colab": {
     "base_uri": "https://localhost:8080/"
    },
    "executionInfo": {
     "elapsed": 318,
     "status": "ok",
     "timestamp": 1669933235239,
     "user": {
      "displayName": "Forest Shi",
      "userId": "16066859280328279662"
     },
     "user_tz": 300
    },
    "id": "_zaGwKcJLscO",
    "outputId": "65f78029-58b2-46c0-e5ea-774ded164b78"
   },
   "outputs": [
    {
     "name": "stdout",
     "output_type": "stream",
     "text": [
      "WARNING:tensorflow:`period` argument is deprecated. Please use `save_freq` to specify the frequency in number of batches seen.\n"
     ]
    }
   ],
   "source": [
    "# to save checkpoints of the model\n",
    "checkpoint = ModelCheckpoint(\"best_model_checkpoint.hdf5\", monitor='val_loss', verbose=1,\n",
    "    save_best_only=True, mode='auto', period=1)"
   ]
  },
  {
   "cell_type": "markdown",
   "metadata": {
    "id": "Birbj5PxfTgu"
   },
   "source": [
    "Try models with smaller dataset first to optimize. For example use a premade model or use binary-loss instead of categorical cross entropy. Or change problem with binary classification to multiclass classification. Also look at what the papers did for their models."
   ]
  },
  {
   "cell_type": "code",
   "execution_count": 87,
   "metadata": {
    "colab": {
     "base_uri": "https://localhost:8080/"
    },
    "executionInfo": {
     "elapsed": 1574,
     "status": "ok",
     "timestamp": 1669933369541,
     "user": {
      "displayName": "Forest Shi",
      "userId": "16066859280328279662"
     },
     "user_tz": 300
    },
    "id": "2vHOInxS0Ejb",
    "outputId": "e14906d1-c1ad-4593-987d-1b1256403902"
   },
   "outputs": [
    {
     "name": "stdout",
     "output_type": "stream",
     "text": [
      "1.0\n",
      "0.0\n",
      "tf.Tensor(\n",
      "[0 0 0 0 0 0 0 0 0 1 0 0 0 0 0 0 1 0 1 0 0 0 0 1 0 0 0 0 1 0 0 0 0 0 1 1 0\n",
      " 0 0 1 0 1 0 1 1 0 0 0 1 0 1 1 1 0 0 0 0 0 1 0 1 1 1 0 0 1 0 0 0 0 0 1 1 1\n",
      " 0 0 1 1 0 1 0 1 0 0 0 0 1 0 0 0 1 0 0 1 0 1 0 0 0 0 1 0 0 0 0 0 0 1 0 0 0\n",
      " 1 0 0 1 0 0 0 0 0 1 0 1 0 0 0 1 0], shape=(128,), dtype=int64)\n"
     ]
    }
   ],
   "source": [
    "# Make sure the shape of the test is correct\n",
    "for each, label in train_ds.take(1):\n",
    "  print(each.numpy().max())\n",
    "  print(each.numpy().min())\n",
    "  print(label)"
   ]
  },
  {
   "cell_type": "code",
   "execution_count": 88,
   "metadata": {
    "colab": {
     "base_uri": "https://localhost:8080/"
    },
    "executionInfo": {
     "elapsed": 78559,
     "status": "ok",
     "timestamp": 1669933454627,
     "user": {
      "displayName": "Forest Shi",
      "userId": "16066859280328279662"
     },
     "user_tz": 300
    },
    "id": "QDgyPSgkgGdr",
    "outputId": "93f98910-97f2-49b0-c61e-be2e34c5b67b"
   },
   "outputs": [
    {
     "name": "stdout",
     "output_type": "stream",
     "text": [
      "Epoch 1/20\n",
      "94/94 [==============================] - ETA: 0s - loss: 0.7043 - accuracy: 0.6723\n",
      "Epoch 1: val_loss improved from inf to 0.57717, saving model to best_model_checkpoint.hdf5\n",
      "94/94 [==============================] - 426s 5s/step - loss: 0.7043 - accuracy: 0.6723 - val_loss: 0.5772 - val_accuracy: 0.7125\n",
      "Epoch 2/20\n",
      "94/94 [==============================] - ETA: 0s - loss: 0.5503 - accuracy: 0.7342\n",
      "Epoch 2: val_loss improved from 0.57717 to 0.54127, saving model to best_model_checkpoint.hdf5\n",
      "94/94 [==============================] - 398s 4s/step - loss: 0.5503 - accuracy: 0.7342 - val_loss: 0.5413 - val_accuracy: 0.7590\n",
      "Epoch 3/20\n",
      "94/94 [==============================] - ETA: 0s - loss: 0.5303 - accuracy: 0.7599\n",
      "Epoch 3: val_loss improved from 0.54127 to 0.52080, saving model to best_model_checkpoint.hdf5\n",
      "94/94 [==============================] - 379s 4s/step - loss: 0.5303 - accuracy: 0.7599 - val_loss: 0.5208 - val_accuracy: 0.7475\n",
      "Epoch 4/20\n",
      "94/94 [==============================] - ETA: 0s - loss: 0.4942 - accuracy: 0.7753\n",
      "Epoch 4: val_loss improved from 0.52080 to 0.48966, saving model to best_model_checkpoint.hdf5\n",
      "94/94 [==============================] - 326s 3s/step - loss: 0.4942 - accuracy: 0.7753 - val_loss: 0.4897 - val_accuracy: 0.7870\n",
      "Epoch 5/20\n",
      "94/94 [==============================] - ETA: 0s - loss: 0.4809 - accuracy: 0.7901\n",
      "Epoch 5: val_loss improved from 0.48966 to 0.46258, saving model to best_model_checkpoint.hdf5\n",
      "94/94 [==============================] - 342s 4s/step - loss: 0.4809 - accuracy: 0.7901 - val_loss: 0.4626 - val_accuracy: 0.8018\n",
      "Epoch 6/20\n",
      "94/94 [==============================] - ETA: 0s - loss: 0.4677 - accuracy: 0.7988\n",
      "Epoch 6: val_loss improved from 0.46258 to 0.45928, saving model to best_model_checkpoint.hdf5\n",
      "94/94 [==============================] - 281s 3s/step - loss: 0.4677 - accuracy: 0.7988 - val_loss: 0.4593 - val_accuracy: 0.8005\n",
      "Epoch 7/20\n",
      "94/94 [==============================] - ETA: 0s - loss: 0.4444 - accuracy: 0.8105\n",
      "Epoch 7: val_loss did not improve from 0.45928\n",
      "94/94 [==============================] - 248s 3s/step - loss: 0.4444 - accuracy: 0.8105 - val_loss: 0.4621 - val_accuracy: 0.8060\n",
      "Epoch 8/20\n",
      "94/94 [==============================] - ETA: 0s - loss: 0.4400 - accuracy: 0.8146\n",
      "Epoch 8: val_loss did not improve from 0.45928\n",
      "94/94 [==============================] - 243s 3s/step - loss: 0.4400 - accuracy: 0.8146 - val_loss: 0.4723 - val_accuracy: 0.8048\n",
      "Epoch 9/20\n",
      "94/94 [==============================] - ETA: 0s - loss: 0.4458 - accuracy: 0.8139\n",
      "Epoch 9: val_loss improved from 0.45928 to 0.43515, saving model to best_model_checkpoint.hdf5\n",
      "94/94 [==============================] - 262s 3s/step - loss: 0.4458 - accuracy: 0.8139 - val_loss: 0.4352 - val_accuracy: 0.8207\n",
      "Epoch 10/20\n",
      "94/94 [==============================] - ETA: 0s - loss: 0.4209 - accuracy: 0.8249\n",
      "Epoch 10: val_loss improved from 0.43515 to 0.42987, saving model to best_model_checkpoint.hdf5\n",
      "94/94 [==============================] - 293s 3s/step - loss: 0.4209 - accuracy: 0.8249 - val_loss: 0.4299 - val_accuracy: 0.8167\n",
      "Epoch 11/20\n",
      "94/94 [==============================] - ETA: 0s - loss: 0.4156 - accuracy: 0.8271\n",
      "Epoch 11: val_loss improved from 0.42987 to 0.42823, saving model to best_model_checkpoint.hdf5\n",
      "94/94 [==============================] - 271s 3s/step - loss: 0.4156 - accuracy: 0.8271 - val_loss: 0.4282 - val_accuracy: 0.8253\n",
      "Epoch 12/20\n",
      "94/94 [==============================] - ETA: 0s - loss: 0.4121 - accuracy: 0.8247\n",
      "Epoch 12: val_loss improved from 0.42823 to 0.41885, saving model to best_model_checkpoint.hdf5\n",
      "94/94 [==============================] - 264s 3s/step - loss: 0.4121 - accuracy: 0.8247 - val_loss: 0.4189 - val_accuracy: 0.8260\n",
      "Epoch 13/20\n",
      "94/94 [==============================] - ETA: 0s - loss: 0.4072 - accuracy: 0.8275\n",
      "Epoch 13: val_loss did not improve from 0.41885\n",
      "94/94 [==============================] - 269s 3s/step - loss: 0.4072 - accuracy: 0.8275 - val_loss: 0.4330 - val_accuracy: 0.8202\n",
      "Epoch 14/20\n",
      "94/94 [==============================] - ETA: 0s - loss: 0.4054 - accuracy: 0.8325\n",
      "Epoch 14: val_loss did not improve from 0.41885\n",
      "94/94 [==============================] - 322s 3s/step - loss: 0.4054 - accuracy: 0.8325 - val_loss: 0.4255 - val_accuracy: 0.8300\n",
      "Epoch 15/20\n",
      "94/94 [==============================] - ETA: 0s - loss: 0.3910 - accuracy: 0.8378\n",
      "Epoch 15: val_loss did not improve from 0.41885\n",
      "94/94 [==============================] - 315s 3s/step - loss: 0.3910 - accuracy: 0.8378 - val_loss: 0.4342 - val_accuracy: 0.8257\n",
      "Epoch 16/20\n",
      "94/94 [==============================] - ETA: 0s - loss: 0.3707 - accuracy: 0.8454\n",
      "Epoch 16: val_loss did not improve from 0.41885\n",
      "94/94 [==============================] - 308s 3s/step - loss: 0.3707 - accuracy: 0.8454 - val_loss: 0.4233 - val_accuracy: 0.8305\n",
      "Epoch 17/20\n",
      "94/94 [==============================] - ETA: 0s - loss: 0.3636 - accuracy: 0.8506\n",
      "Epoch 17: val_loss improved from 0.41885 to 0.40413, saving model to best_model_checkpoint.hdf5\n",
      "94/94 [==============================] - 295s 3s/step - loss: 0.3636 - accuracy: 0.8506 - val_loss: 0.4041 - val_accuracy: 0.8432\n",
      "Epoch 18/20\n",
      "94/94 [==============================] - ETA: 0s - loss: 0.3551 - accuracy: 0.8517\n",
      "Epoch 18: val_loss did not improve from 0.40413\n",
      "94/94 [==============================] - 268s 3s/step - loss: 0.3551 - accuracy: 0.8517 - val_loss: 0.4341 - val_accuracy: 0.8355\n",
      "Epoch 19/20\n",
      "94/94 [==============================] - ETA: 0s - loss: 0.3357 - accuracy: 0.8591\n",
      "Epoch 19: val_loss did not improve from 0.40413\n",
      "94/94 [==============================] - 267s 3s/step - loss: 0.3357 - accuracy: 0.8591 - val_loss: 0.4234 - val_accuracy: 0.8378\n",
      "Epoch 20/20\n",
      "94/94 [==============================] - ETA: 0s - loss: 0.3076 - accuracy: 0.8737\n",
      "Epoch 20: val_loss did not improve from 0.40413\n",
      "94/94 [==============================] - 265s 3s/step - loss: 0.3076 - accuracy: 0.8737 - val_loss: 0.4186 - val_accuracy: 0.8450\n"
     ]
    },
    {
     "data": {
      "text/plain": [
       "<keras.callbacks.History at 0x2377eaddd20>"
      ]
     },
     "execution_count": 88,
     "metadata": {},
     "output_type": "execute_result"
    }
   ],
   "source": [
    "my_model.fit(train_ds, validation_data=test_ds, epochs=20, callbacks=[checkpoint])"
   ]
  },
  {
   "cell_type": "code",
   "execution_count": 166,
   "metadata": {},
   "outputs": [],
   "source": [
    "# HYPER PARAMETER TUNING"
   ]
  },
  {
   "cell_type": "code",
   "execution_count": 174,
   "metadata": {},
   "outputs": [],
   "source": [
    "history = []"
   ]
  },
  {
   "cell_type": "code",
   "execution_count": 175,
   "metadata": {},
   "outputs": [],
   "source": [
    "tuned_model = models.Sequential()\n",
    "tuned_model.add(layers.Conv2D(64, (3, 3), activation=\"relu\", input_shape=(IMG_SIZE, IMG_SIZE, 3)))\n",
    "tuned_model.add(layers.MaxPooling2D())\n",
    "tuned_model.add(layers.Conv2D(128, (3, 3), activation=\"relu\", input_shape=(IMG_SIZE, IMG_SIZE, 3)))\n",
    "tuned_model.add(layers.MaxPooling2D())\n",
    "tuned_model.add(layers.Flatten())\n",
    "tuned_model.add(layers.Dense(128, activation=\"relu\"))\n",
    "tuned_model.add(layers.Dense(1, activation=\"sigmoid\"))"
   ]
  },
  {
   "cell_type": "code",
   "execution_count": 176,
   "metadata": {},
   "outputs": [],
   "source": [
    "tuned_model.compile(optimizer='adam',\n",
    "              loss='binary_crossentropy',\n",
    "              metrics=['accuracy', tf.keras.metrics.Precision(), tf.keras.metrics.Recall()])"
   ]
  },
  {
   "cell_type": "code",
   "execution_count": 177,
   "metadata": {},
   "outputs": [
    {
     "name": "stdout",
     "output_type": "stream",
     "text": [
      "Epoch 1/20\n",
      "12/12 [==============================] - 40s 3s/step - loss: 1.1244 - accuracy: 0.5640 - precision_4: 0.4528 - recall_4: 0.4317 - val_loss: 0.6092 - val_accuracy: 0.6760 - val_precision_4: 0.6336 - val_recall_4: 0.4213\n",
      "Epoch 2/20\n",
      "12/12 [==============================] - 38s 3s/step - loss: 0.6367 - accuracy: 0.6773 - precision_4: 0.6343 - recall_4: 0.4567 - val_loss: 0.6598 - val_accuracy: 0.6520 - val_precision_4: 0.5525 - val_recall_4: 0.6142\n",
      "Epoch 3/20\n",
      "12/12 [==============================] - 41s 3s/step - loss: 0.6402 - accuracy: 0.6780 - precision_4: 0.6504 - recall_4: 0.4217 - val_loss: 0.6296 - val_accuracy: 0.6600 - val_precision_4: 0.7455 - val_recall_4: 0.2081\n",
      "Epoch 4/20\n",
      "12/12 [==============================] - 39s 3s/step - loss: 0.6159 - accuracy: 0.6860 - precision_4: 0.7295 - recall_4: 0.3417 - val_loss: 0.6178 - val_accuracy: 0.6720 - val_precision_4: 0.6701 - val_recall_4: 0.3299\n",
      "Epoch 5/20\n",
      "12/12 [==============================] - 39s 3s/step - loss: 0.6089 - accuracy: 0.6960 - precision_4: 0.7156 - recall_4: 0.3983 - val_loss: 0.6217 - val_accuracy: 0.6920 - val_precision_4: 0.6335 - val_recall_4: 0.5178\n",
      "Epoch 6/20\n",
      "12/12 [==============================] - 38s 3s/step - loss: 0.6059 - accuracy: 0.6900 - precision_4: 0.6810 - recall_4: 0.4233 - val_loss: 0.5942 - val_accuracy: 0.6820 - val_precision_4: 0.6484 - val_recall_4: 0.4213\n",
      "Epoch 7/20\n",
      "12/12 [==============================] - 39s 3s/step - loss: 0.5852 - accuracy: 0.7080 - precision_4: 0.7109 - recall_4: 0.4550 - val_loss: 0.6033 - val_accuracy: 0.7140 - val_precision_4: 0.6667 - val_recall_4: 0.5482\n",
      "Epoch 8/20\n",
      "12/12 [==============================] - 38s 3s/step - loss: 0.5806 - accuracy: 0.7160 - precision_4: 0.7112 - recall_4: 0.4883 - val_loss: 0.5858 - val_accuracy: 0.7140 - val_precision_4: 0.6709 - val_recall_4: 0.5381\n",
      "Epoch 9/20\n",
      "12/12 [==============================] - 39s 3s/step - loss: 0.5672 - accuracy: 0.7160 - precision_4: 0.6977 - recall_4: 0.5117 - val_loss: 0.5978 - val_accuracy: 0.6920 - val_precision_4: 0.6138 - val_recall_4: 0.5888\n",
      "Epoch 10/20\n",
      "12/12 [==============================] - 39s 3s/step - loss: 0.5627 - accuracy: 0.7207 - precision_4: 0.7080 - recall_4: 0.5133 - val_loss: 0.5850 - val_accuracy: 0.7140 - val_precision_4: 0.6452 - val_recall_4: 0.6091\n",
      "Epoch 11/20\n",
      "12/12 [==============================] - 39s 3s/step - loss: 0.5672 - accuracy: 0.7140 - precision_4: 0.6984 - recall_4: 0.5017 - val_loss: 0.5722 - val_accuracy: 0.7160 - val_precision_4: 0.6978 - val_recall_4: 0.4924\n",
      "Epoch 12/20\n",
      "12/12 [==============================] - 38s 3s/step - loss: 0.5689 - accuracy: 0.7260 - precision_4: 0.6973 - recall_4: 0.5567 - val_loss: 0.5648 - val_accuracy: 0.7160 - val_precision_4: 0.6871 - val_recall_4: 0.5127\n",
      "Epoch 13/20\n",
      "12/12 [==============================] - 39s 3s/step - loss: 0.5439 - accuracy: 0.7387 - precision_4: 0.7342 - recall_4: 0.5433 - val_loss: 0.5804 - val_accuracy: 0.7560 - val_precision_4: 0.7072 - val_recall_4: 0.6497\n",
      "Epoch 14/20\n",
      "12/12 [==============================] - 39s 3s/step - loss: 0.5587 - accuracy: 0.7313 - precision_4: 0.7362 - recall_4: 0.5117 - val_loss: 0.5750 - val_accuracy: 0.7260 - val_precision_4: 0.6613 - val_recall_4: 0.6244\n",
      "Epoch 15/20\n",
      "12/12 [==============================] - 39s 3s/step - loss: 0.5365 - accuracy: 0.7453 - precision_4: 0.7319 - recall_4: 0.5733 - val_loss: 0.5633 - val_accuracy: 0.7300 - val_precision_4: 0.7672 - val_recall_4: 0.4518\n",
      "Epoch 16/20\n",
      "12/12 [==============================] - 38s 3s/step - loss: 0.5370 - accuracy: 0.7373 - precision_4: 0.7085 - recall_4: 0.5833 - val_loss: 0.5355 - val_accuracy: 0.7120 - val_precision_4: 0.6256 - val_recall_4: 0.6701\n",
      "Epoch 17/20\n",
      "12/12 [==============================] - 39s 3s/step - loss: 0.5688 - accuracy: 0.7187 - precision_4: 0.7697 - recall_4: 0.4233 - val_loss: 0.5833 - val_accuracy: 0.6980 - val_precision_4: 0.7614 - val_recall_4: 0.3401\n",
      "Epoch 18/20\n",
      "12/12 [==============================] - 38s 3s/step - loss: 0.5489 - accuracy: 0.7493 - precision_4: 0.7393 - recall_4: 0.5767 - val_loss: 0.5757 - val_accuracy: 0.7240 - val_precision_4: 0.7565 - val_recall_4: 0.4416\n",
      "Epoch 19/20\n",
      "12/12 [==============================] - 39s 3s/step - loss: 0.5426 - accuracy: 0.7460 - precision_4: 0.7375 - recall_4: 0.5667 - val_loss: 0.5674 - val_accuracy: 0.7120 - val_precision_4: 0.7677 - val_recall_4: 0.3858\n",
      "Epoch 20/20\n",
      "12/12 [==============================] - 39s 3s/step - loss: 0.5075 - accuracy: 0.7587 - precision_4: 0.7140 - recall_4: 0.6617 - val_loss: 0.5972 - val_accuracy: 0.7080 - val_precision_4: 0.7576 - val_recall_4: 0.3807\n"
     ]
    }
   ],
   "source": [
    "history.append(tuned_model.fit(train_ds, validation_data=test_ds, epochs=20))"
   ]
  },
  {
   "cell_type": "code",
   "execution_count": 180,
   "metadata": {},
   "outputs": [
    {
     "name": "stdout",
     "output_type": "stream",
     "text": [
      "Epoch 1/20\n",
      "12/12 [==============================] - 40s 3s/step - loss: 8.4862 - accuracy: 0.5047 - precision_5: 0.3837 - recall_5: 0.3933 - val_loss: 0.6985 - val_accuracy: 0.3940 - val_precision_5: 0.3940 - val_recall_5: 1.0000\n",
      "Epoch 2/20\n",
      "12/12 [==============================] - 39s 3s/step - loss: 0.6759 - accuracy: 0.5880 - precision_5: 0.4297 - recall_5: 0.0917 - val_loss: 0.6705 - val_accuracy: 0.6060 - val_precision_5: 0.0000e+00 - val_recall_5: 0.0000e+00\n",
      "Epoch 3/20\n",
      "12/12 [==============================] - 39s 3s/step - loss: 0.6825 - accuracy: 0.5467 - precision_5: 0.3958 - recall_5: 0.2533 - val_loss: 0.6726 - val_accuracy: 0.6060 - val_precision_5: 0.0000e+00 - val_recall_5: 0.0000e+00\n",
      "Epoch 4/20\n",
      "12/12 [==============================] - 39s 3s/step - loss: 0.6785 - accuracy: 0.6000 - precision_5: 0.0000e+00 - recall_5: 0.0000e+00 - val_loss: 0.6759 - val_accuracy: 0.6060 - val_precision_5: 0.0000e+00 - val_recall_5: 0.0000e+00\n",
      "Epoch 5/20\n",
      "12/12 [==============================] - 39s 3s/step - loss: 0.6806 - accuracy: 0.6000 - precision_5: 0.0000e+00 - recall_5: 0.0000e+00 - val_loss: 0.6739 - val_accuracy: 0.6060 - val_precision_5: 0.0000e+00 - val_recall_5: 0.0000e+00\n",
      "Epoch 6/20\n",
      "12/12 [==============================] - 39s 3s/step - loss: 0.6756 - accuracy: 0.6000 - precision_5: 0.0000e+00 - recall_5: 0.0000e+00 - val_loss: 0.6705 - val_accuracy: 0.6060 - val_precision_5: 0.0000e+00 - val_recall_5: 0.0000e+00\n",
      "Epoch 7/20\n",
      "12/12 [==============================] - 39s 3s/step - loss: 0.6734 - accuracy: 0.6000 - precision_5: 0.0000e+00 - recall_5: 0.0000e+00 - val_loss: 0.6714 - val_accuracy: 0.6060 - val_precision_5: 0.0000e+00 - val_recall_5: 0.0000e+00\n",
      "Epoch 8/20\n",
      "12/12 [==============================] - 39s 3s/step - loss: 0.6747 - accuracy: 0.6000 - precision_5: 0.0000e+00 - recall_5: 0.0000e+00 - val_loss: 0.6711 - val_accuracy: 0.6060 - val_precision_5: 0.0000e+00 - val_recall_5: 0.0000e+00\n",
      "Epoch 9/20\n",
      "12/12 [==============================] - 39s 3s/step - loss: 0.6753 - accuracy: 0.6000 - precision_5: 0.0000e+00 - recall_5: 0.0000e+00 - val_loss: 0.6721 - val_accuracy: 0.6060 - val_precision_5: 0.0000e+00 - val_recall_5: 0.0000e+00\n",
      "Epoch 10/20\n",
      "12/12 [==============================] - 39s 3s/step - loss: 0.6741 - accuracy: 0.6000 - precision_5: 0.0000e+00 - recall_5: 0.0000e+00 - val_loss: 0.6706 - val_accuracy: 0.6060 - val_precision_5: 0.0000e+00 - val_recall_5: 0.0000e+00\n",
      "Epoch 11/20\n",
      "12/12 [==============================] - 39s 3s/step - loss: 0.6734 - accuracy: 0.6000 - precision_5: 0.0000e+00 - recall_5: 0.0000e+00 - val_loss: 0.6707 - val_accuracy: 0.6060 - val_precision_5: 0.0000e+00 - val_recall_5: 0.0000e+00\n",
      "Epoch 12/20\n",
      "12/12 [==============================] - 39s 3s/step - loss: 0.6742 - accuracy: 0.6000 - precision_5: 0.0000e+00 - recall_5: 0.0000e+00 - val_loss: 0.6709 - val_accuracy: 0.6060 - val_precision_5: 0.0000e+00 - val_recall_5: 0.0000e+00\n",
      "Epoch 13/20\n",
      "12/12 [==============================] - 39s 3s/step - loss: 0.6767 - accuracy: 0.6000 - precision_5: 0.0000e+00 - recall_5: 0.0000e+00 - val_loss: 0.6712 - val_accuracy: 0.6060 - val_precision_5: 0.0000e+00 - val_recall_5: 0.0000e+00\n",
      "Epoch 14/20\n",
      "12/12 [==============================] - 39s 3s/step - loss: 0.6744 - accuracy: 0.6000 - precision_5: 0.0000e+00 - recall_5: 0.0000e+00 - val_loss: 0.6707 - val_accuracy: 0.6060 - val_precision_5: 0.0000e+00 - val_recall_5: 0.0000e+00\n",
      "Epoch 15/20\n",
      "12/12 [==============================] - 39s 3s/step - loss: 0.6746 - accuracy: 0.6000 - precision_5: 0.0000e+00 - recall_5: 0.0000e+00 - val_loss: 0.6709 - val_accuracy: 0.6060 - val_precision_5: 0.0000e+00 - val_recall_5: 0.0000e+00\n",
      "Epoch 16/20\n",
      "12/12 [==============================] - 39s 3s/step - loss: 0.6741 - accuracy: 0.6000 - precision_5: 0.0000e+00 - recall_5: 0.0000e+00 - val_loss: 0.6712 - val_accuracy: 0.6060 - val_precision_5: 0.0000e+00 - val_recall_5: 0.0000e+00\n",
      "Epoch 17/20\n",
      "12/12 [==============================] - 39s 3s/step - loss: 0.6740 - accuracy: 0.6000 - precision_5: 0.0000e+00 - recall_5: 0.0000e+00 - val_loss: 0.6714 - val_accuracy: 0.6060 - val_precision_5: 0.0000e+00 - val_recall_5: 0.0000e+00\n",
      "Epoch 18/20\n",
      "12/12 [==============================] - 39s 3s/step - loss: 0.6742 - accuracy: 0.6000 - precision_5: 0.0000e+00 - recall_5: 0.0000e+00 - val_loss: 0.6705 - val_accuracy: 0.6060 - val_precision_5: 0.0000e+00 - val_recall_5: 0.0000e+00\n",
      "Epoch 19/20\n",
      "12/12 [==============================] - 39s 3s/step - loss: 0.6741 - accuracy: 0.6000 - precision_5: 0.0000e+00 - recall_5: 0.0000e+00 - val_loss: 0.6706 - val_accuracy: 0.6060 - val_precision_5: 0.0000e+00 - val_recall_5: 0.0000e+00\n",
      "Epoch 20/20\n",
      "12/12 [==============================] - 39s 3s/step - loss: 0.6738 - accuracy: 0.6000 - precision_5: 0.0000e+00 - recall_5: 0.0000e+00 - val_loss: 0.6709 - val_accuracy: 0.6060 - val_precision_5: 0.0000e+00 - val_recall_5: 0.0000e+00\n"
     ]
    }
   ],
   "source": [
    "tuned_model = models.Sequential()\n",
    "tuned_model.add(layers.Conv2D(64, (3, 3), activation=\"relu\", input_shape=(IMG_SIZE, IMG_SIZE, 3)))\n",
    "tuned_model.add(layers.MaxPooling2D())\n",
    "tuned_model.add(layers.Conv2D(128, (3, 3), activation=\"relu\", input_shape=(IMG_SIZE, IMG_SIZE, 3)))\n",
    "tuned_model.add(layers.MaxPooling2D())\n",
    "tuned_model.add(layers.Flatten())\n",
    "tuned_model.add(layers.Dense(128, activation=\"relu\"))\n",
    "tuned_model.add(layers.Dense(1, activation=\"sigmoid\"))\n",
    "tuned_model.compile(optimizer=keras.optimizers.Adam(learning_rate=0.01),\n",
    "              loss='binary_crossentropy',\n",
    "              metrics=['accuracy', tf.keras.metrics.Precision(), tf.keras.metrics.Recall()])\n",
    "history.append(tuned_model.fit(train_ds, validation_data=test_ds, epochs=20))"
   ]
  },
  {
   "cell_type": "code",
   "execution_count": 181,
   "metadata": {},
   "outputs": [
    {
     "name": "stdout",
     "output_type": "stream",
     "text": [
      "Epoch 1/20\n",
      "12/12 [==============================] - 70s 6s/step - loss: 45.7646 - accuracy: 0.5033 - precision_6: 0.3862 - recall_6: 0.4100 - val_loss: 0.8716 - val_accuracy: 0.3940 - val_precision_6: 0.3940 - val_recall_6: 1.0000\n",
      "Epoch 2/20\n",
      "12/12 [==============================] - 69s 6s/step - loss: 0.7106 - accuracy: 0.5840 - precision_6: 0.4062 - recall_6: 0.0867 - val_loss: 0.6861 - val_accuracy: 0.6060 - val_precision_6: 0.0000e+00 - val_recall_6: 0.0000e+00\n",
      "Epoch 3/20\n",
      "12/12 [==============================] - 68s 6s/step - loss: 0.6847 - accuracy: 0.6000 - precision_6: 0.0000e+00 - recall_6: 0.0000e+00 - val_loss: 0.6809 - val_accuracy: 0.6060 - val_precision_6: 0.0000e+00 - val_recall_6: 0.0000e+00\n",
      "Epoch 4/20\n",
      "12/12 [==============================] - 68s 6s/step - loss: 0.6791 - accuracy: 0.6000 - precision_6: 0.0000e+00 - recall_6: 0.0000e+00 - val_loss: 0.6747 - val_accuracy: 0.6060 - val_precision_6: 0.0000e+00 - val_recall_6: 0.0000e+00\n",
      "Epoch 5/20\n",
      "12/12 [==============================] - 69s 6s/step - loss: 0.6740 - accuracy: 0.6000 - precision_6: 0.0000e+00 - recall_6: 0.0000e+00 - val_loss: 0.6711 - val_accuracy: 0.6060 - val_precision_6: 0.0000e+00 - val_recall_6: 0.0000e+00\n",
      "Epoch 6/20\n",
      "12/12 [==============================] - 69s 6s/step - loss: 0.6735 - accuracy: 0.6000 - precision_6: 0.0000e+00 - recall_6: 0.0000e+00 - val_loss: 0.6706 - val_accuracy: 0.6060 - val_precision_6: 0.0000e+00 - val_recall_6: 0.0000e+00\n",
      "Epoch 7/20\n",
      "12/12 [==============================] - 69s 6s/step - loss: 0.6734 - accuracy: 0.6000 - precision_6: 0.0000e+00 - recall_6: 0.0000e+00 - val_loss: 0.6705 - val_accuracy: 0.6060 - val_precision_6: 0.0000e+00 - val_recall_6: 0.0000e+00\n",
      "Epoch 8/20\n",
      " 1/12 [=>............................] - ETA: 58s - loss: 0.6724 - accuracy: 0.6016 - precision_6: 0.0000e+00 - recall_6: 0.0000e+00"
     ]
    },
    {
     "ename": "KeyboardInterrupt",
     "evalue": "",
     "output_type": "error",
     "traceback": [
      "\u001b[1;31m---------------------------------------------------------------------------\u001b[0m",
      "\u001b[1;31mKeyboardInterrupt\u001b[0m                         Traceback (most recent call last)",
      "Cell \u001b[1;32mIn[181], line 12\u001b[0m\n\u001b[0;32m      8\u001b[0m tuned_model\u001b[38;5;241m.\u001b[39madd(layers\u001b[38;5;241m.\u001b[39mDense(\u001b[38;5;241m1\u001b[39m, activation\u001b[38;5;241m=\u001b[39m\u001b[38;5;124m\"\u001b[39m\u001b[38;5;124msigmoid\u001b[39m\u001b[38;5;124m\"\u001b[39m))\n\u001b[0;32m      9\u001b[0m tuned_model\u001b[38;5;241m.\u001b[39mcompile(optimizer\u001b[38;5;241m=\u001b[39mkeras\u001b[38;5;241m.\u001b[39moptimizers\u001b[38;5;241m.\u001b[39mAdam(learning_rate\u001b[38;5;241m=\u001b[39m\u001b[38;5;241m0.01\u001b[39m),\n\u001b[0;32m     10\u001b[0m               loss\u001b[38;5;241m=\u001b[39m\u001b[38;5;124m'\u001b[39m\u001b[38;5;124mbinary_crossentropy\u001b[39m\u001b[38;5;124m'\u001b[39m,\n\u001b[0;32m     11\u001b[0m               metrics\u001b[38;5;241m=\u001b[39m[\u001b[38;5;124m'\u001b[39m\u001b[38;5;124maccuracy\u001b[39m\u001b[38;5;124m'\u001b[39m, tf\u001b[38;5;241m.\u001b[39mkeras\u001b[38;5;241m.\u001b[39mmetrics\u001b[38;5;241m.\u001b[39mPrecision(), tf\u001b[38;5;241m.\u001b[39mkeras\u001b[38;5;241m.\u001b[39mmetrics\u001b[38;5;241m.\u001b[39mRecall()])\n\u001b[1;32m---> 12\u001b[0m history\u001b[38;5;241m.\u001b[39mappend(\u001b[43mtuned_model\u001b[49m\u001b[38;5;241;43m.\u001b[39;49m\u001b[43mfit\u001b[49m\u001b[43m(\u001b[49m\u001b[43mtrain_ds\u001b[49m\u001b[43m,\u001b[49m\u001b[43m \u001b[49m\u001b[43mvalidation_data\u001b[49m\u001b[38;5;241;43m=\u001b[39;49m\u001b[43mtest_ds\u001b[49m\u001b[43m,\u001b[49m\u001b[43m \u001b[49m\u001b[43mepochs\u001b[49m\u001b[38;5;241;43m=\u001b[39;49m\u001b[38;5;241;43m20\u001b[39;49m\u001b[43m)\u001b[49m)\n",
      "File \u001b[1;32mC:\\Python39\\lib\\site-packages\\keras\\utils\\traceback_utils.py:65\u001b[0m, in \u001b[0;36mfilter_traceback.<locals>.error_handler\u001b[1;34m(*args, **kwargs)\u001b[0m\n\u001b[0;32m     63\u001b[0m filtered_tb \u001b[38;5;241m=\u001b[39m \u001b[38;5;28;01mNone\u001b[39;00m\n\u001b[0;32m     64\u001b[0m \u001b[38;5;28;01mtry\u001b[39;00m:\n\u001b[1;32m---> 65\u001b[0m     \u001b[38;5;28;01mreturn\u001b[39;00m fn(\u001b[38;5;241m*\u001b[39margs, \u001b[38;5;241m*\u001b[39m\u001b[38;5;241m*\u001b[39mkwargs)\n\u001b[0;32m     66\u001b[0m \u001b[38;5;28;01mexcept\u001b[39;00m \u001b[38;5;167;01mException\u001b[39;00m \u001b[38;5;28;01mas\u001b[39;00m e:\n\u001b[0;32m     67\u001b[0m     filtered_tb \u001b[38;5;241m=\u001b[39m _process_traceback_frames(e\u001b[38;5;241m.\u001b[39m__traceback__)\n",
      "File \u001b[1;32mC:\\Python39\\lib\\site-packages\\keras\\engine\\training.py:1650\u001b[0m, in \u001b[0;36mModel.fit\u001b[1;34m(self, x, y, batch_size, epochs, verbose, callbacks, validation_split, validation_data, shuffle, class_weight, sample_weight, initial_epoch, steps_per_epoch, validation_steps, validation_batch_size, validation_freq, max_queue_size, workers, use_multiprocessing)\u001b[0m\n\u001b[0;32m   1642\u001b[0m \u001b[38;5;28;01mwith\u001b[39;00m tf\u001b[38;5;241m.\u001b[39mprofiler\u001b[38;5;241m.\u001b[39mexperimental\u001b[38;5;241m.\u001b[39mTrace(\n\u001b[0;32m   1643\u001b[0m     \u001b[38;5;124m\"\u001b[39m\u001b[38;5;124mtrain\u001b[39m\u001b[38;5;124m\"\u001b[39m,\n\u001b[0;32m   1644\u001b[0m     epoch_num\u001b[38;5;241m=\u001b[39mepoch,\n\u001b[1;32m   (...)\u001b[0m\n\u001b[0;32m   1647\u001b[0m     _r\u001b[38;5;241m=\u001b[39m\u001b[38;5;241m1\u001b[39m,\n\u001b[0;32m   1648\u001b[0m ):\n\u001b[0;32m   1649\u001b[0m     callbacks\u001b[38;5;241m.\u001b[39mon_train_batch_begin(step)\n\u001b[1;32m-> 1650\u001b[0m     tmp_logs \u001b[38;5;241m=\u001b[39m \u001b[38;5;28;43mself\u001b[39;49m\u001b[38;5;241;43m.\u001b[39;49m\u001b[43mtrain_function\u001b[49m\u001b[43m(\u001b[49m\u001b[43miterator\u001b[49m\u001b[43m)\u001b[49m\n\u001b[0;32m   1651\u001b[0m     \u001b[38;5;28;01mif\u001b[39;00m data_handler\u001b[38;5;241m.\u001b[39mshould_sync:\n\u001b[0;32m   1652\u001b[0m         context\u001b[38;5;241m.\u001b[39masync_wait()\n",
      "File \u001b[1;32mC:\\Python39\\lib\\site-packages\\tensorflow\\python\\util\\traceback_utils.py:150\u001b[0m, in \u001b[0;36mfilter_traceback.<locals>.error_handler\u001b[1;34m(*args, **kwargs)\u001b[0m\n\u001b[0;32m    148\u001b[0m filtered_tb \u001b[38;5;241m=\u001b[39m \u001b[38;5;28;01mNone\u001b[39;00m\n\u001b[0;32m    149\u001b[0m \u001b[38;5;28;01mtry\u001b[39;00m:\n\u001b[1;32m--> 150\u001b[0m   \u001b[38;5;28;01mreturn\u001b[39;00m fn(\u001b[38;5;241m*\u001b[39margs, \u001b[38;5;241m*\u001b[39m\u001b[38;5;241m*\u001b[39mkwargs)\n\u001b[0;32m    151\u001b[0m \u001b[38;5;28;01mexcept\u001b[39;00m \u001b[38;5;167;01mException\u001b[39;00m \u001b[38;5;28;01mas\u001b[39;00m e:\n\u001b[0;32m    152\u001b[0m   filtered_tb \u001b[38;5;241m=\u001b[39m _process_traceback_frames(e\u001b[38;5;241m.\u001b[39m__traceback__)\n",
      "File \u001b[1;32mC:\\Python39\\lib\\site-packages\\tensorflow\\python\\eager\\polymorphic_function\\polymorphic_function.py:880\u001b[0m, in \u001b[0;36mFunction.__call__\u001b[1;34m(self, *args, **kwds)\u001b[0m\n\u001b[0;32m    877\u001b[0m compiler \u001b[38;5;241m=\u001b[39m \u001b[38;5;124m\"\u001b[39m\u001b[38;5;124mxla\u001b[39m\u001b[38;5;124m\"\u001b[39m \u001b[38;5;28;01mif\u001b[39;00m \u001b[38;5;28mself\u001b[39m\u001b[38;5;241m.\u001b[39m_jit_compile \u001b[38;5;28;01melse\u001b[39;00m \u001b[38;5;124m\"\u001b[39m\u001b[38;5;124mnonXla\u001b[39m\u001b[38;5;124m\"\u001b[39m\n\u001b[0;32m    879\u001b[0m \u001b[38;5;28;01mwith\u001b[39;00m OptionalXlaContext(\u001b[38;5;28mself\u001b[39m\u001b[38;5;241m.\u001b[39m_jit_compile):\n\u001b[1;32m--> 880\u001b[0m   result \u001b[38;5;241m=\u001b[39m \u001b[38;5;28mself\u001b[39m\u001b[38;5;241m.\u001b[39m_call(\u001b[38;5;241m*\u001b[39margs, \u001b[38;5;241m*\u001b[39m\u001b[38;5;241m*\u001b[39mkwds)\n\u001b[0;32m    882\u001b[0m new_tracing_count \u001b[38;5;241m=\u001b[39m \u001b[38;5;28mself\u001b[39m\u001b[38;5;241m.\u001b[39mexperimental_get_tracing_count()\n\u001b[0;32m    883\u001b[0m without_tracing \u001b[38;5;241m=\u001b[39m (tracing_count \u001b[38;5;241m==\u001b[39m new_tracing_count)\n",
      "File \u001b[1;32mC:\\Python39\\lib\\site-packages\\tensorflow\\python\\eager\\polymorphic_function\\polymorphic_function.py:912\u001b[0m, in \u001b[0;36mFunction._call\u001b[1;34m(self, *args, **kwds)\u001b[0m\n\u001b[0;32m    909\u001b[0m   \u001b[38;5;28mself\u001b[39m\u001b[38;5;241m.\u001b[39m_lock\u001b[38;5;241m.\u001b[39mrelease()\n\u001b[0;32m    910\u001b[0m   \u001b[38;5;66;03m# In this case we have created variables on the first call, so we run the\u001b[39;00m\n\u001b[0;32m    911\u001b[0m   \u001b[38;5;66;03m# defunned version which is guaranteed to never create variables.\u001b[39;00m\n\u001b[1;32m--> 912\u001b[0m   \u001b[38;5;28;01mreturn\u001b[39;00m \u001b[38;5;28mself\u001b[39m\u001b[38;5;241m.\u001b[39m_no_variable_creation_fn(\u001b[38;5;241m*\u001b[39margs, \u001b[38;5;241m*\u001b[39m\u001b[38;5;241m*\u001b[39mkwds)  \u001b[38;5;66;03m# pylint: disable=not-callable\u001b[39;00m\n\u001b[0;32m    913\u001b[0m \u001b[38;5;28;01melif\u001b[39;00m \u001b[38;5;28mself\u001b[39m\u001b[38;5;241m.\u001b[39m_variable_creation_fn \u001b[38;5;129;01mis\u001b[39;00m \u001b[38;5;129;01mnot\u001b[39;00m \u001b[38;5;28;01mNone\u001b[39;00m:\n\u001b[0;32m    914\u001b[0m   \u001b[38;5;66;03m# Release the lock early so that multiple threads can perform the call\u001b[39;00m\n\u001b[0;32m    915\u001b[0m   \u001b[38;5;66;03m# in parallel.\u001b[39;00m\n\u001b[0;32m    916\u001b[0m   \u001b[38;5;28mself\u001b[39m\u001b[38;5;241m.\u001b[39m_lock\u001b[38;5;241m.\u001b[39mrelease()\n",
      "File \u001b[1;32mC:\\Python39\\lib\\site-packages\\tensorflow\\python\\eager\\polymorphic_function\\tracing_compiler.py:134\u001b[0m, in \u001b[0;36mTracingCompiler.__call__\u001b[1;34m(self, *args, **kwargs)\u001b[0m\n\u001b[0;32m    131\u001b[0m \u001b[38;5;28;01mwith\u001b[39;00m \u001b[38;5;28mself\u001b[39m\u001b[38;5;241m.\u001b[39m_lock:\n\u001b[0;32m    132\u001b[0m   (concrete_function,\n\u001b[0;32m    133\u001b[0m    filtered_flat_args) \u001b[38;5;241m=\u001b[39m \u001b[38;5;28mself\u001b[39m\u001b[38;5;241m.\u001b[39m_maybe_define_function(args, kwargs)\n\u001b[1;32m--> 134\u001b[0m \u001b[38;5;28;01mreturn\u001b[39;00m \u001b[43mconcrete_function\u001b[49m\u001b[38;5;241;43m.\u001b[39;49m\u001b[43m_call_flat\u001b[49m\u001b[43m(\u001b[49m\n\u001b[0;32m    135\u001b[0m \u001b[43m    \u001b[49m\u001b[43mfiltered_flat_args\u001b[49m\u001b[43m,\u001b[49m\u001b[43m \u001b[49m\u001b[43mcaptured_inputs\u001b[49m\u001b[38;5;241;43m=\u001b[39;49m\u001b[43mconcrete_function\u001b[49m\u001b[38;5;241;43m.\u001b[39;49m\u001b[43mcaptured_inputs\u001b[49m\u001b[43m)\u001b[49m\n",
      "File \u001b[1;32mC:\\Python39\\lib\\site-packages\\tensorflow\\python\\eager\\polymorphic_function\\monomorphic_function.py:1745\u001b[0m, in \u001b[0;36mConcreteFunction._call_flat\u001b[1;34m(self, args, captured_inputs, cancellation_manager)\u001b[0m\n\u001b[0;32m   1741\u001b[0m possible_gradient_type \u001b[38;5;241m=\u001b[39m gradients_util\u001b[38;5;241m.\u001b[39mPossibleTapeGradientTypes(args)\n\u001b[0;32m   1742\u001b[0m \u001b[38;5;28;01mif\u001b[39;00m (possible_gradient_type \u001b[38;5;241m==\u001b[39m gradients_util\u001b[38;5;241m.\u001b[39mPOSSIBLE_GRADIENT_TYPES_NONE\n\u001b[0;32m   1743\u001b[0m     \u001b[38;5;129;01mand\u001b[39;00m executing_eagerly):\n\u001b[0;32m   1744\u001b[0m   \u001b[38;5;66;03m# No tape is watching; skip to running the function.\u001b[39;00m\n\u001b[1;32m-> 1745\u001b[0m   \u001b[38;5;28;01mreturn\u001b[39;00m \u001b[38;5;28mself\u001b[39m\u001b[38;5;241m.\u001b[39m_build_call_outputs(\u001b[38;5;28;43mself\u001b[39;49m\u001b[38;5;241;43m.\u001b[39;49m\u001b[43m_inference_function\u001b[49m\u001b[38;5;241;43m.\u001b[39;49m\u001b[43mcall\u001b[49m\u001b[43m(\u001b[49m\n\u001b[0;32m   1746\u001b[0m \u001b[43m      \u001b[49m\u001b[43mctx\u001b[49m\u001b[43m,\u001b[49m\u001b[43m \u001b[49m\u001b[43margs\u001b[49m\u001b[43m,\u001b[49m\u001b[43m \u001b[49m\u001b[43mcancellation_manager\u001b[49m\u001b[38;5;241;43m=\u001b[39;49m\u001b[43mcancellation_manager\u001b[49m\u001b[43m)\u001b[49m)\n\u001b[0;32m   1747\u001b[0m forward_backward \u001b[38;5;241m=\u001b[39m \u001b[38;5;28mself\u001b[39m\u001b[38;5;241m.\u001b[39m_select_forward_and_backward_functions(\n\u001b[0;32m   1748\u001b[0m     args,\n\u001b[0;32m   1749\u001b[0m     possible_gradient_type,\n\u001b[0;32m   1750\u001b[0m     executing_eagerly)\n\u001b[0;32m   1751\u001b[0m forward_function, args_with_tangents \u001b[38;5;241m=\u001b[39m forward_backward\u001b[38;5;241m.\u001b[39mforward()\n",
      "File \u001b[1;32mC:\\Python39\\lib\\site-packages\\tensorflow\\python\\eager\\polymorphic_function\\monomorphic_function.py:378\u001b[0m, in \u001b[0;36m_EagerDefinedFunction.call\u001b[1;34m(self, ctx, args, cancellation_manager)\u001b[0m\n\u001b[0;32m    376\u001b[0m \u001b[38;5;28;01mwith\u001b[39;00m _InterpolateFunctionError(\u001b[38;5;28mself\u001b[39m):\n\u001b[0;32m    377\u001b[0m   \u001b[38;5;28;01mif\u001b[39;00m cancellation_manager \u001b[38;5;129;01mis\u001b[39;00m \u001b[38;5;28;01mNone\u001b[39;00m:\n\u001b[1;32m--> 378\u001b[0m     outputs \u001b[38;5;241m=\u001b[39m \u001b[43mexecute\u001b[49m\u001b[38;5;241;43m.\u001b[39;49m\u001b[43mexecute\u001b[49m\u001b[43m(\u001b[49m\n\u001b[0;32m    379\u001b[0m \u001b[43m        \u001b[49m\u001b[38;5;28;43mstr\u001b[39;49m\u001b[43m(\u001b[49m\u001b[38;5;28;43mself\u001b[39;49m\u001b[38;5;241;43m.\u001b[39;49m\u001b[43msignature\u001b[49m\u001b[38;5;241;43m.\u001b[39;49m\u001b[43mname\u001b[49m\u001b[43m)\u001b[49m\u001b[43m,\u001b[49m\n\u001b[0;32m    380\u001b[0m \u001b[43m        \u001b[49m\u001b[43mnum_outputs\u001b[49m\u001b[38;5;241;43m=\u001b[39;49m\u001b[38;5;28;43mself\u001b[39;49m\u001b[38;5;241;43m.\u001b[39;49m\u001b[43m_num_outputs\u001b[49m\u001b[43m,\u001b[49m\n\u001b[0;32m    381\u001b[0m \u001b[43m        \u001b[49m\u001b[43minputs\u001b[49m\u001b[38;5;241;43m=\u001b[39;49m\u001b[43margs\u001b[49m\u001b[43m,\u001b[49m\n\u001b[0;32m    382\u001b[0m \u001b[43m        \u001b[49m\u001b[43mattrs\u001b[49m\u001b[38;5;241;43m=\u001b[39;49m\u001b[43mattrs\u001b[49m\u001b[43m,\u001b[49m\n\u001b[0;32m    383\u001b[0m \u001b[43m        \u001b[49m\u001b[43mctx\u001b[49m\u001b[38;5;241;43m=\u001b[39;49m\u001b[43mctx\u001b[49m\u001b[43m)\u001b[49m\n\u001b[0;32m    384\u001b[0m   \u001b[38;5;28;01melse\u001b[39;00m:\n\u001b[0;32m    385\u001b[0m     outputs \u001b[38;5;241m=\u001b[39m execute\u001b[38;5;241m.\u001b[39mexecute_with_cancellation(\n\u001b[0;32m    386\u001b[0m         \u001b[38;5;28mstr\u001b[39m(\u001b[38;5;28mself\u001b[39m\u001b[38;5;241m.\u001b[39msignature\u001b[38;5;241m.\u001b[39mname),\n\u001b[0;32m    387\u001b[0m         num_outputs\u001b[38;5;241m=\u001b[39m\u001b[38;5;28mself\u001b[39m\u001b[38;5;241m.\u001b[39m_num_outputs,\n\u001b[1;32m   (...)\u001b[0m\n\u001b[0;32m    390\u001b[0m         ctx\u001b[38;5;241m=\u001b[39mctx,\n\u001b[0;32m    391\u001b[0m         cancellation_manager\u001b[38;5;241m=\u001b[39mcancellation_manager)\n",
      "File \u001b[1;32mC:\\Python39\\lib\\site-packages\\tensorflow\\python\\eager\\execute.py:52\u001b[0m, in \u001b[0;36mquick_execute\u001b[1;34m(op_name, num_outputs, inputs, attrs, ctx, name)\u001b[0m\n\u001b[0;32m     50\u001b[0m \u001b[38;5;28;01mtry\u001b[39;00m:\n\u001b[0;32m     51\u001b[0m   ctx\u001b[38;5;241m.\u001b[39mensure_initialized()\n\u001b[1;32m---> 52\u001b[0m   tensors \u001b[38;5;241m=\u001b[39m \u001b[43mpywrap_tfe\u001b[49m\u001b[38;5;241;43m.\u001b[39;49m\u001b[43mTFE_Py_Execute\u001b[49m\u001b[43m(\u001b[49m\u001b[43mctx\u001b[49m\u001b[38;5;241;43m.\u001b[39;49m\u001b[43m_handle\u001b[49m\u001b[43m,\u001b[49m\u001b[43m \u001b[49m\u001b[43mdevice_name\u001b[49m\u001b[43m,\u001b[49m\u001b[43m \u001b[49m\u001b[43mop_name\u001b[49m\u001b[43m,\u001b[49m\n\u001b[0;32m     53\u001b[0m \u001b[43m                                      \u001b[49m\u001b[43minputs\u001b[49m\u001b[43m,\u001b[49m\u001b[43m \u001b[49m\u001b[43mattrs\u001b[49m\u001b[43m,\u001b[49m\u001b[43m \u001b[49m\u001b[43mnum_outputs\u001b[49m\u001b[43m)\u001b[49m\n\u001b[0;32m     54\u001b[0m \u001b[38;5;28;01mexcept\u001b[39;00m core\u001b[38;5;241m.\u001b[39m_NotOkStatusException \u001b[38;5;28;01mas\u001b[39;00m e:\n\u001b[0;32m     55\u001b[0m   \u001b[38;5;28;01mif\u001b[39;00m name \u001b[38;5;129;01mis\u001b[39;00m \u001b[38;5;129;01mnot\u001b[39;00m \u001b[38;5;28;01mNone\u001b[39;00m:\n",
      "\u001b[1;31mKeyboardInterrupt\u001b[0m: "
     ]
    }
   ],
   "source": [
    "tuned_model = models.Sequential()\n",
    "tuned_model.add(layers.Conv2D(128, (3, 3), activation=\"relu\", input_shape=(IMG_SIZE, IMG_SIZE, 3)))\n",
    "tuned_model.add(layers.MaxPooling2D())\n",
    "tuned_model.add(layers.Conv2D(128, (3, 3), activation=\"relu\", input_shape=(IMG_SIZE, IMG_SIZE, 3)))\n",
    "tuned_model.add(layers.MaxPooling2D())\n",
    "tuned_model.add(layers.Flatten())\n",
    "tuned_model.add(layers.Dense(128, activation=\"relu\"))\n",
    "tuned_model.add(layers.Dense(1, activation=\"sigmoid\"))\n",
    "tuned_model.compile(optimizer=keras.optimizers.Adam(learning_rate=0.01),\n",
    "              loss='binary_crossentropy',\n",
    "              metrics=['accuracy', tf.keras.metrics.Precision(), tf.keras.metrics.Recall()])\n",
    "history.append(tuned_model.fit(train_ds, validation_data=test_ds, epochs=20))"
   ]
  },
  {
   "cell_type": "code",
   "execution_count": 182,
   "metadata": {},
   "outputs": [
    {
     "name": "stdout",
     "output_type": "stream",
     "text": [
      "Epoch 1/20\n",
      "12/12 [==============================] - 39s 3s/step - loss: 0.7006 - accuracy: 0.5433 - precision_7: 0.4131 - recall_7: 0.3367 - val_loss: 0.6366 - val_accuracy: 0.6580 - val_precision_7: 0.6585 - val_recall_7: 0.2741\n",
      "Epoch 2/20\n",
      "12/12 [==============================] - 38s 3s/step - loss: 0.6175 - accuracy: 0.6727 - precision_7: 0.6562 - recall_7: 0.3817 - val_loss: 0.6221 - val_accuracy: 0.6620 - val_precision_7: 0.5875 - val_recall_7: 0.4772\n",
      "Epoch 3/20\n",
      "12/12 [==============================] - 38s 3s/step - loss: 0.5961 - accuracy: 0.6973 - precision_7: 0.6780 - recall_7: 0.4633 - val_loss: 0.5950 - val_accuracy: 0.6840 - val_precision_7: 0.6466 - val_recall_7: 0.4365\n",
      "Epoch 4/20\n",
      "12/12 [==============================] - 39s 3s/step - loss: 0.5841 - accuracy: 0.7060 - precision_7: 0.7087 - recall_7: 0.4500 - val_loss: 0.5851 - val_accuracy: 0.6940 - val_precision_7: 0.6447 - val_recall_7: 0.4975\n",
      "Epoch 5/20\n",
      "12/12 [==============================] - 38s 3s/step - loss: 0.5852 - accuracy: 0.7013 - precision_7: 0.6727 - recall_7: 0.4933 - val_loss: 0.5694 - val_accuracy: 0.7060 - val_precision_7: 0.7083 - val_recall_7: 0.4315\n",
      "Epoch 6/20\n",
      "12/12 [==============================] - 39s 3s/step - loss: 0.5722 - accuracy: 0.7107 - precision_7: 0.7219 - recall_7: 0.4500 - val_loss: 0.5713 - val_accuracy: 0.7200 - val_precision_7: 0.6770 - val_recall_7: 0.5533\n",
      "Epoch 7/20\n",
      "12/12 [==============================] - 39s 3s/step - loss: 0.5547 - accuracy: 0.7293 - precision_7: 0.7195 - recall_7: 0.5300 - val_loss: 0.5650 - val_accuracy: 0.7300 - val_precision_7: 0.6742 - val_recall_7: 0.6091\n",
      "Epoch 8/20\n",
      "12/12 [==============================] - 38s 3s/step - loss: 0.5553 - accuracy: 0.7220 - precision_7: 0.7123 - recall_7: 0.5117 - val_loss: 0.5571 - val_accuracy: 0.7160 - val_precision_7: 0.7523 - val_recall_7: 0.4162\n",
      "Epoch 9/20\n",
      "12/12 [==============================] - 39s 3s/step - loss: 0.5422 - accuracy: 0.7313 - precision_7: 0.7351 - recall_7: 0.5133 - val_loss: 0.5413 - val_accuracy: 0.7220 - val_precision_7: 0.7266 - val_recall_7: 0.4721\n",
      "Epoch 10/20\n",
      "12/12 [==============================] - 39s 3s/step - loss: 0.5338 - accuracy: 0.7427 - precision_7: 0.7477 - recall_7: 0.5383 - val_loss: 0.5320 - val_accuracy: 0.7320 - val_precision_7: 0.7405 - val_recall_7: 0.4924\n",
      "Epoch 11/20\n",
      "12/12 [==============================] - 38s 3s/step - loss: 0.5353 - accuracy: 0.7420 - precision_7: 0.7261 - recall_7: 0.5700 - val_loss: 0.5267 - val_accuracy: 0.7480 - val_precision_7: 0.7351 - val_recall_7: 0.5635\n",
      "Epoch 12/20\n",
      "12/12 [==============================] - 39s 3s/step - loss: 0.5188 - accuracy: 0.7487 - precision_7: 0.7540 - recall_7: 0.5517 - val_loss: 0.5266 - val_accuracy: 0.7420 - val_precision_7: 0.7576 - val_recall_7: 0.5076\n",
      "Epoch 13/20\n",
      "12/12 [==============================] - 38s 3s/step - loss: 0.5143 - accuracy: 0.7520 - precision_7: 0.7836 - recall_7: 0.5250 - val_loss: 0.5883 - val_accuracy: 0.7240 - val_precision_7: 0.6255 - val_recall_7: 0.7462\n",
      "Epoch 14/20\n",
      "12/12 [==============================] - 39s 3s/step - loss: 0.5144 - accuracy: 0.7507 - precision_7: 0.7224 - recall_7: 0.6117 - val_loss: 0.5209 - val_accuracy: 0.7520 - val_precision_7: 0.6995 - val_recall_7: 0.6497\n",
      "Epoch 15/20\n",
      "12/12 [==============================] - 38s 3s/step - loss: 0.5052 - accuracy: 0.7587 - precision_7: 0.7656 - recall_7: 0.5717 - val_loss: 0.5170 - val_accuracy: 0.7400 - val_precision_7: 0.7481 - val_recall_7: 0.5127\n",
      "Epoch 16/20\n",
      "12/12 [==============================] - 39s 3s/step - loss: 0.4930 - accuracy: 0.7547 - precision_7: 0.7601 - recall_7: 0.5650 - val_loss: 0.5053 - val_accuracy: 0.7520 - val_precision_7: 0.7517 - val_recall_7: 0.5533\n",
      "Epoch 17/20\n",
      "12/12 [==============================] - 39s 3s/step - loss: 0.4858 - accuracy: 0.7707 - precision_7: 0.7612 - recall_7: 0.6217 - val_loss: 0.5419 - val_accuracy: 0.7220 - val_precision_7: 0.7843 - val_recall_7: 0.4061\n",
      "Epoch 18/20\n",
      "12/12 [==============================] - 38s 3s/step - loss: 0.4855 - accuracy: 0.7680 - precision_7: 0.7903 - recall_7: 0.5717 - val_loss: 0.5031 - val_accuracy: 0.7500 - val_precision_7: 0.7727 - val_recall_7: 0.5178\n",
      "Epoch 19/20\n",
      "12/12 [==============================] - 38s 3s/step - loss: 0.4817 - accuracy: 0.7667 - precision_7: 0.7413 - recall_7: 0.6400 - val_loss: 0.5076 - val_accuracy: 0.7500 - val_precision_7: 0.7400 - val_recall_7: 0.5635\n",
      "Epoch 20/20\n",
      "12/12 [==============================] - 39s 3s/step - loss: 0.4723 - accuracy: 0.7807 - precision_7: 0.8018 - recall_7: 0.6000 - val_loss: 0.5062 - val_accuracy: 0.7480 - val_precision_7: 0.8087 - val_recall_7: 0.4721\n"
     ]
    }
   ],
   "source": [
    "tuned_model = models.Sequential()\n",
    "tuned_model.add(layers.Conv2D(64, (3, 3), activation=\"relu\", input_shape=(IMG_SIZE, IMG_SIZE, 3)))\n",
    "tuned_model.add(layers.MaxPooling2D())\n",
    "tuned_model.add(layers.Conv2D(128, (3, 3), activation=\"relu\", input_shape=(IMG_SIZE, IMG_SIZE, 3)))\n",
    "tuned_model.add(layers.MaxPooling2D())\n",
    "tuned_model.add(layers.Flatten())\n",
    "tuned_model.add(layers.Dense(128, activation=\"relu\"))\n",
    "tuned_model.add(layers.Dense(1, activation=\"sigmoid\"))\n",
    "tuned_model.compile(optimizer=keras.optimizers.Adam(learning_rate=0.0001),\n",
    "              loss='binary_crossentropy',\n",
    "              metrics=['accuracy', tf.keras.metrics.Precision(), tf.keras.metrics.Recall()])\n",
    "history.append(tuned_model.fit(train_ds, validation_data=test_ds, epochs=20))"
   ]
  },
  {
   "cell_type": "code",
   "execution_count": 183,
   "metadata": {},
   "outputs": [
    {
     "name": "stdout",
     "output_type": "stream",
     "text": [
      "Epoch 1/20\n",
      "12/12 [==============================] - 70s 6s/step - loss: 0.7359 - accuracy: 0.5660 - precision_8: 0.4479 - recall_8: 0.3650 - val_loss: 0.6344 - val_accuracy: 0.6340 - val_precision_8: 0.7500 - val_recall_8: 0.1066\n",
      "Epoch 2/20\n",
      "12/12 [==============================] - 69s 6s/step - loss: 0.6281 - accuracy: 0.6620 - precision_8: 0.6598 - recall_8: 0.3200 - val_loss: 0.6077 - val_accuracy: 0.6760 - val_precision_8: 0.6606 - val_recall_8: 0.3655\n",
      "Epoch 3/20\n",
      "12/12 [==============================] - 69s 6s/step - loss: 0.5988 - accuracy: 0.7020 - precision_8: 0.6908 - recall_8: 0.4617 - val_loss: 0.6024 - val_accuracy: 0.6840 - val_precision_8: 0.6182 - val_recall_8: 0.5178\n",
      "Epoch 4/20\n",
      "12/12 [==============================] - 69s 6s/step - loss: 0.5848 - accuracy: 0.7147 - precision_8: 0.7118 - recall_8: 0.4817 - val_loss: 0.6066 - val_accuracy: 0.6800 - val_precision_8: 0.7342 - val_recall_8: 0.2944\n",
      "Epoch 5/20\n",
      "12/12 [==============================] - 69s 6s/step - loss: 0.5869 - accuracy: 0.7100 - precision_8: 0.7068 - recall_8: 0.4700 - val_loss: 0.5890 - val_accuracy: 0.6980 - val_precision_8: 0.6402 - val_recall_8: 0.5330\n",
      "Epoch 6/20\n",
      "12/12 [==============================] - 69s 6s/step - loss: 0.5827 - accuracy: 0.7080 - precision_8: 0.6800 - recall_8: 0.5100 - val_loss: 0.5920 - val_accuracy: 0.7220 - val_precision_8: 0.6559 - val_recall_8: 0.6193\n",
      "Epoch 7/20\n",
      "12/12 [==============================] - 69s 6s/step - loss: 0.5722 - accuracy: 0.7147 - precision_8: 0.6886 - recall_8: 0.5233 - val_loss: 0.5835 - val_accuracy: 0.6920 - val_precision_8: 0.7471 - val_recall_8: 0.3299\n",
      "Epoch 8/20\n",
      "12/12 [==============================] - 70s 6s/step - loss: 0.5634 - accuracy: 0.7087 - precision_8: 0.7095 - recall_8: 0.4600 - val_loss: 0.5711 - val_accuracy: 0.7020 - val_precision_8: 0.7500 - val_recall_8: 0.3655\n",
      "Epoch 9/20\n",
      "12/12 [==============================] - 69s 6s/step - loss: 0.5598 - accuracy: 0.7233 - precision_8: 0.7273 - recall_8: 0.4933 - val_loss: 0.5753 - val_accuracy: 0.7280 - val_precision_8: 0.6704 - val_recall_8: 0.6091\n",
      "Epoch 10/20\n",
      "12/12 [==============================] - 70s 6s/step - loss: 0.5461 - accuracy: 0.7393 - precision_8: 0.7247 - recall_8: 0.5617 - val_loss: 0.5546 - val_accuracy: 0.7220 - val_precision_8: 0.7500 - val_recall_8: 0.4416\n",
      "Epoch 11/20\n",
      "12/12 [==============================] - 69s 6s/step - loss: 0.5325 - accuracy: 0.7427 - precision_8: 0.7635 - recall_8: 0.5167 - val_loss: 0.5470 - val_accuracy: 0.7600 - val_precision_8: 0.7251 - val_recall_8: 0.6294\n",
      "Epoch 12/20\n",
      "12/12 [==============================] - 69s 6s/step - loss: 0.5358 - accuracy: 0.7340 - precision_8: 0.7279 - recall_8: 0.5350 - val_loss: 0.5444 - val_accuracy: 0.7260 - val_precision_8: 0.7459 - val_recall_8: 0.4619\n",
      "Epoch 13/20\n",
      "12/12 [==============================] - 69s 6s/step - loss: 0.5174 - accuracy: 0.7493 - precision_8: 0.7593 - recall_8: 0.5467 - val_loss: 0.5245 - val_accuracy: 0.7380 - val_precision_8: 0.7230 - val_recall_8: 0.5431\n",
      "Epoch 14/20\n",
      "12/12 [==============================] - 69s 6s/step - loss: 0.5107 - accuracy: 0.7553 - precision_8: 0.7728 - recall_8: 0.5500 - val_loss: 0.5253 - val_accuracy: 0.7500 - val_precision_8: 0.7169 - val_recall_8: 0.6041\n",
      "Epoch 15/20\n",
      "12/12 [==============================] - 69s 6s/step - loss: 0.5052 - accuracy: 0.7613 - precision_8: 0.7689 - recall_8: 0.5767 - val_loss: 0.5191 - val_accuracy: 0.7360 - val_precision_8: 0.7686 - val_recall_8: 0.4721\n",
      "Epoch 16/20\n",
      "12/12 [==============================] - 69s 6s/step - loss: 0.5181 - accuracy: 0.7487 - precision_8: 0.7290 - recall_8: 0.5917 - val_loss: 0.5433 - val_accuracy: 0.7160 - val_precision_8: 0.7835 - val_recall_8: 0.3858\n",
      "Epoch 17/20\n",
      "12/12 [==============================] - 69s 6s/step - loss: 0.5072 - accuracy: 0.7440 - precision_8: 0.7432 - recall_8: 0.5500 - val_loss: 0.5313 - val_accuracy: 0.7360 - val_precision_8: 0.7826 - val_recall_8: 0.4569\n",
      "Epoch 18/20\n",
      "12/12 [==============================] - 69s 6s/step - loss: 0.5026 - accuracy: 0.7587 - precision_8: 0.7479 - recall_8: 0.5983 - val_loss: 0.5200 - val_accuracy: 0.7380 - val_precision_8: 0.7619 - val_recall_8: 0.4873\n",
      "Epoch 19/20\n",
      "12/12 [==============================] - 70s 6s/step - loss: 0.4734 - accuracy: 0.7733 - precision_8: 0.7928 - recall_8: 0.5867 - val_loss: 0.5234 - val_accuracy: 0.7380 - val_precision_8: 0.7705 - val_recall_8: 0.4772\n",
      "Epoch 20/20\n",
      "12/12 [==============================] - 69s 6s/step - loss: 0.4647 - accuracy: 0.7793 - precision_8: 0.7969 - recall_8: 0.6017 - val_loss: 0.5113 - val_accuracy: 0.7400 - val_precision_8: 0.7769 - val_recall_8: 0.4772\n"
     ]
    }
   ],
   "source": [
    "tuned_model = models.Sequential()\n",
    "tuned_model.add(layers.Conv2D(128, (3, 3), activation=\"relu\", input_shape=(IMG_SIZE, IMG_SIZE, 3)))\n",
    "tuned_model.add(layers.MaxPooling2D())\n",
    "tuned_model.add(layers.Conv2D(128, (3, 3), activation=\"relu\", input_shape=(IMG_SIZE, IMG_SIZE, 3)))\n",
    "tuned_model.add(layers.MaxPooling2D())\n",
    "tuned_model.add(layers.Flatten())\n",
    "tuned_model.add(layers.Dense(128, activation=\"relu\"))\n",
    "tuned_model.add(layers.Dense(1, activation=\"sigmoid\"))\n",
    "tuned_model.compile(optimizer=keras.optimizers.Adam(learning_rate=0.0001),\n",
    "              loss='binary_crossentropy',\n",
    "              metrics=['accuracy', tf.keras.metrics.Precision(), tf.keras.metrics.Recall()])\n",
    "history.append(tuned_model.fit(train_ds, validation_data=test_ds, epochs=20))"
   ]
  },
  {
   "cell_type": "code",
   "execution_count": null,
   "metadata": {},
   "outputs": [],
   "source": [
    "# Crash\n",
    "yolo"
   ]
  },
  {
   "cell_type": "code",
   "execution_count": 196,
   "metadata": {},
   "outputs": [
    {
     "ename": "TypeError",
     "evalue": "'History' object is not subscriptable",
     "output_type": "error",
     "traceback": [
      "\u001b[1;31m---------------------------------------------------------------------------\u001b[0m",
      "\u001b[1;31mTypeError\u001b[0m                                 Traceback (most recent call last)",
      "Cell \u001b[1;32mIn[196], line 1\u001b[0m\n\u001b[1;32m----> 1\u001b[0m history \u001b[38;5;241m=\u001b[39m \u001b[43mhistory\u001b[49m\u001b[43m[\u001b[49m\u001b[38;5;241;43m1\u001b[39;49m\u001b[43m]\u001b[49m\n",
      "\u001b[1;31mTypeError\u001b[0m: 'History' object is not subscriptable"
     ]
    }
   ],
   "source": [
    "history = history[]"
   ]
  },
  {
   "cell_type": "code",
   "execution_count": 197,
   "metadata": {},
   "outputs": [
    {
     "data": {
      "image/png": "[encoded data removed]",
      "text/plain": [
       "<Figure size 800x800 with 2 Axes>"
      ]
     },
     "metadata": {},
     "output_type": "display_data"
    }
   ],
   "source": [
    "# plot the training and validation loss\n",
    "import matplotlib.pyplot as plt\n",
    "acc = history.history['accuracy']\n",
    "val_acc = history.history['val_accuracy']\n",
    "\n",
    "loss = history.history['loss']\n",
    "val_loss = history.history['val_loss']\n",
    "\n",
    "epochs_range = range(20)\n",
    "\n",
    "plt.figure(figsize=(8, 8))\n",
    "plt.subplot(1, 2, 1)\n",
    "plt.plot(epochs_range, acc, label='Training Accuracy')\n",
    "plt.plot(epochs_range, val_acc, label='Validation Accuracy')\n",
    "plt.legend(loc='lower right')\n",
    "plt.title('Training and Validation Accuracy')\n",
    "\n",
    "plt.subplot(1, 2, 2)\n",
    "plt.plot(epochs_range, loss, label='Training Loss')\n",
    "plt.plot(epochs_range, val_loss, label='Validation Loss')\n",
    "plt.legend(loc='upper right')\n",
    "plt.title('Training and Validation Loss')\n",
    "plt.show()"
   ]
  },
  {
   "cell_type": "markdown",
   "metadata": {
    "id": "BNECU7gs4Zwu"
   },
   "source": [
    "Make predictions with best model:"
   ]
  },
  {
   "cell_type": "code",
   "execution_count": null,
   "metadata": {
    "id": "M6pQPcF04eoW"
   },
   "outputs": [],
   "source": [
    "# load saved model\n",
    "test_model = keras.models.load_model('./best_model_checkpoint.hdf5')"
   ]
  },
  {
   "cell_type": "code",
   "execution_count": null,
   "metadata": {
    "colab": {
     "base_uri": "https://localhost:8080/",
     "height": 1000
    },
    "executionInfo": {
     "elapsed": 6740,
     "status": "ok",
     "timestamp": 1669936522875,
     "user": {
      "displayName": "Forest Shi",
      "userId": "16066859280328279662"
     },
     "user_tz": 300
    },
    "id": "-B6F6Un61eal",
    "outputId": "1d3d4dac-8eb7-41a3-c438-76d8b1a33fec"
   },
   "outputs": [],
   "source": [
    "# load an image off disk\n",
    "correct = 0\n",
    "for i in range(10):\n",
    "  img_index = random.randrange(2001, len(all_img_paths))\n",
    "  img = load_and_preprocess_image(all_img_paths[img_index])\n",
    "\n",
    "  print(img.shape) # before\n",
    "\n",
    "  im_batch = tf.expand_dims(img, axis=0) # YOUR CODE HERE, use tf.expand_dims\n",
    "\n",
    "  print(im_batch.shape) # after\n",
    "\n",
    "  # make predictions\n",
    "  batch_pred = test_model.predict(im_batch) # returns a list of predictions\n",
    "  pred = batch_pred[0] \n",
    "\n",
    "  print(\"Prediction: \", round(pred[0]))\n",
    "  print(\"Actual: \", all_bin_labels[img_index])\n",
    "  display.display(display.Image(all_img_paths[img_index]))\n",
    "  if round(pred[0]) == all_bin_labels[img_index]:\n",
    "    correct += 1\n",
    "\n",
    "print(\"\")\n",
    "print(\"Accuracy is: %d/10\" % correct)"
   ]
  },
  {
   "cell_type": "markdown",
   "metadata": {
    "id": "rYGZP0qgsfAI"
   },
   "source": [
    "Try using a ResNet50 Model for transfer learning:"
   ]
  },
  {
   "cell_type": "code",
   "execution_count": null,
   "metadata": {
    "colab": {
     "base_uri": "https://localhost:8080/"
    },
    "executionInfo": {
     "elapsed": 7941,
     "status": "ok",
     "timestamp": 1669937498542,
     "user": {
      "displayName": "Forest Shi",
      "userId": "16066859280328279662"
     },
     "user_tz": 300
    },
    "id": "Gfue4KPCrIqv",
    "outputId": "b6c179b7-57f9-4d14-c13b-cb2fbed2c538"
   },
   "outputs": [],
   "source": [
    "base_model = tf.keras.applications.EfficientNetB0(include_top=False, input_shape=(IMG_SIZE, IMG_SIZE, 3))"
   ]
  },
  {
   "cell_type": "code",
   "execution_count": null,
   "metadata": {
    "id": "YrkDPparrtyy"
   },
   "outputs": [],
   "source": [
    "global_average_layer = tf.keras.layers.GlobalAveragePooling2D()\n",
    "prediction_layer = tf.keras.layers.Dense(1, activation='sigmoid')"
   ]
  },
  {
   "cell_type": "code",
   "execution_count": null,
   "metadata": {
    "id": "lx5UDY41sOTY"
   },
   "outputs": [],
   "source": [
    "efficientNet = tf.keras.Sequential([\n",
    "  base_model,\n",
    "  global_average_layer,\n",
    "  prediction_layer\n",
    "])"
   ]
  },
  {
   "cell_type": "code",
   "execution_count": null,
   "metadata": {
    "id": "QVyqvhyjrODj"
   },
   "outputs": [],
   "source": [
    "efficientNet.compile(optimizer='adam',\n",
    "              loss='binary_crossentropy',\n",
    "              metrics=['accuracy'])"
   ]
  },
  {
   "cell_type": "code",
   "execution_count": null,
   "metadata": {
    "colab": {
     "base_uri": "https://localhost:8080/"
    },
    "executionInfo": {
     "elapsed": 44,
     "status": "ok",
     "timestamp": 1669937524526,
     "user": {
      "displayName": "Forest Shi",
      "userId": "16066859280328279662"
     },
     "user_tz": 300
    },
    "id": "U7FVb5Zh-kyt",
    "outputId": "18a4de20-02a2-4a43-a5b6-cd3cd40d8671"
   },
   "outputs": [],
   "source": [
    "# to save checkpoints of the model\n",
    "checkpoint2 = ModelCheckpoint(\"best_efficientNet_model.hdf5\", monitor='val_loss', verbose=1,\n",
    "    save_best_only=True, mode='auto', period=1)"
   ]
  },
  {
   "cell_type": "code",
   "execution_count": null,
   "metadata": {
    "colab": {
     "base_uri": "https://localhost:8080/"
    },
    "executionInfo": {
     "elapsed": 369,
     "status": "ok",
     "timestamp": 1669937528393,
     "user": {
      "displayName": "Forest Shi",
      "userId": "16066859280328279662"
     },
     "user_tz": 300
    },
    "id": "jO2qWoj__K45",
    "outputId": "26a844f7-aee9-405a-d200-a4f7268860f7"
   },
   "outputs": [],
   "source": [
    "for each, label in test_ds.take(1):\n",
    "  print(each.numpy().max())\n",
    "  print(each.numpy().min())\n",
    "  print(label)"
   ]
  },
  {
   "cell_type": "code",
   "execution_count": null,
   "metadata": {
    "colab": {
     "base_uri": "https://localhost:8080/",
     "height": 1000
    },
    "executionInfo": {
     "elapsed": 158645,
     "status": "error",
     "timestamp": 1669937722662,
     "user": {
      "displayName": "Forest Shi",
      "userId": "16066859280328279662"
     },
     "user_tz": 300
    },
    "id": "7fxonFXJrbpm",
    "outputId": "973556c1-e09d-45b6-d3c2-1937b17661de"
   },
   "outputs": [],
   "source": [
    "efficientNet_history = efficientNet.fit(train_ds, validation_data=test_ds, epochs=20, callbacks=[checkpoint2])"
   ]
  },
  {
   "cell_type": "code",
   "execution_count": null,
   "metadata": {
    "id": "DWgpN6ELtXNW"
   },
   "outputs": [],
   "source": [
    "my_model2 = models.Sequential()\n",
    "my_model2.add(layers.Conv2D(64, (3, 3), activation=\"relu\", input_shape=(IMG_SIZE, IMG_SIZE, 3)))\n",
    "my_model2.add(layers.MaxPooling2D())\n",
    "my_model2.add(layers.Conv2D(128, (3, 3), activation=\"relu\", input_shape=(IMG_SIZE, IMG_SIZE, 3)))\n",
    "my_model2.add(layers.MaxPooling2D())\n",
    "my_model2.add(layers.Flatten())\n",
    "my_model2.add(layers.Dense(128, activation=\"relu\"))\n",
    "my_model2.add(layers.Dense(1, activation=\"sigmoid\"))"
   ]
  },
  {
   "cell_type": "code",
   "execution_count": null,
   "metadata": {
    "id": "9BYrnGVJAL5B"
   },
   "outputs": [],
   "source": [
    "my_model2.compile(optimizer='adam',\n",
    "              loss='binary_crossentropy',\n",
    "              metrics=['accuracy'])"
   ]
  },
  {
   "cell_type": "code",
   "execution_count": null,
   "metadata": {
    "colab": {
     "base_uri": "https://localhost:8080/"
    },
    "executionInfo": {
     "elapsed": 55409,
     "status": "ok",
     "timestamp": 1669937910463,
     "user": {
      "displayName": "Forest Shi",
      "userId": "16066859280328279662"
     },
     "user_tz": 300
    },
    "id": "fLeVjv75ANJE",
    "outputId": "6382dc1e-2bbc-4477-f22d-58019d5c3f1e"
   },
   "outputs": [],
   "source": [
    "history = my_model2.fit(train_ds, validation_data=test_ds, epochs=15)"
   ]
  },
  {
   "cell_type": "code",
   "execution_count": null,
   "metadata": {
    "colab": {
     "base_uri": "https://localhost:8080/",
     "height": 499
    },
    "executionInfo": {
     "elapsed": 370,
     "status": "ok",
     "timestamp": 1669937918283,
     "user": {
      "displayName": "Forest Shi",
      "userId": "16066859280328279662"
     },
     "user_tz": 300
    },
    "id": "YZP1f3NrBBcf",
    "outputId": "0de82f30-b0f0-4928-e87a-2c33efb2dd03"
   },
   "outputs": [],
   "source": [
    "# plot the training and validation loss\n",
    "import matplotlib.pyplot as plt\n",
    "acc = history.history['accuracy']\n",
    "val_acc = history.history['val_accuracy']\n",
    "\n",
    "loss = history.history['loss']\n",
    "val_loss = history.history['val_loss']\n",
    "\n",
    "epochs_range = range(15)\n",
    "\n",
    "plt.figure(figsize=(8, 8))\n",
    "plt.subplot(1, 2, 1)\n",
    "plt.plot(epochs_range, acc, label='Training Accuracy')\n",
    "plt.plot(epochs_range, val_acc, label='Validation Accuracy')\n",
    "plt.legend(loc='lower right')\n",
    "plt.title('Training and Validation Accuracy')\n",
    "\n",
    "plt.subplot(1, 2, 2)\n",
    "plt.plot(epochs_range, loss, label='Training Loss')\n",
    "plt.plot(epochs_range, val_loss, label='Validation Loss')\n",
    "plt.legend(loc='upper right')\n",
    "plt.title('Training and Validation Loss')\n",
    "plt.show()"
   ]
  },
  {
   "cell_type": "markdown",
   "metadata": {
    "id": "obVrADcVB00P"
   },
   "source": [
    "Include Stratified Splitting:"
   ]
  },
  {
   "cell_type": "code",
   "execution_count": null,
   "metadata": {
    "id": "AbbgGINrB322"
   },
   "outputs": [],
   "source": [
    "# DELETE LATER\n",
    "train_paths, test_paths, train_labels, test_labels = train_test_split(small_img_paths, \n",
    "                                                                      small_bin_labels,\n",
    "                                                                      stratify=small_bin_labels,\n",
    "                                                                      test_size=0.25, \n",
    "                                                                      random_state=42)"
   ]
  },
  {
   "cell_type": "code",
   "execution_count": null,
   "metadata": {
    "id": "dhk3cRD4D7fX"
   },
   "outputs": [],
   "source": [
    "my_model3 = models.Sequential()\n",
    "my_model3.add(layers.Conv2D(64, (3, 3), activation=\"relu\", input_shape=(IMG_SIZE, IMG_SIZE, 3)))\n",
    "my_model3.add(layers.MaxPooling2D())\n",
    "my_model3.add(layers.Conv2D(128, (3, 3), activation=\"relu\", input_shape=(IMG_SIZE, IMG_SIZE, 3)))\n",
    "my_model3.add(layers.MaxPooling2D())\n",
    "my_model3.add(layers.Flatten())\n",
    "my_model3.add(layers.Dense(128, activation=\"relu\"))\n",
    "my_model3.add(layers.Dense(1, activation=\"sigmoid\"))"
   ]
  },
  {
   "cell_type": "code",
   "execution_count": null,
   "metadata": {
    "id": "PfxzqmrEEH3A"
   },
   "outputs": [],
   "source": [
    "my_model3.compile(optimizer='adam',\n",
    "              loss='binary_crossentropy',\n",
    "              metrics=['accuracy'])"
   ]
  },
  {
   "cell_type": "code",
   "execution_count": null,
   "metadata": {
    "colab": {
     "base_uri": "https://localhost:8080/"
    },
    "executionInfo": {
     "elapsed": 310,
     "status": "ok",
     "timestamp": 1669938107397,
     "user": {
      "displayName": "Forest Shi",
      "userId": "16066859280328279662"
     },
     "user_tz": 300
    },
    "id": "3xyqN1RGESxd",
    "outputId": "5125abc9-f413-40b1-9db0-7bb09ceab50e"
   },
   "outputs": [],
   "source": [
    "checkpoint3 = ModelCheckpoint(\"best_stratified_model.hdf5\", monitor='val_loss', verbose=1,\n",
    "    save_best_only=True, mode='auto', period=1)"
   ]
  },
  {
   "cell_type": "code",
   "execution_count": null,
   "metadata": {
    "colab": {
     "base_uri": "https://localhost:8080/"
    },
    "executionInfo": {
     "elapsed": 72107,
     "status": "ok",
     "timestamp": 1669938190693,
     "user": {
      "displayName": "Forest Shi",
      "userId": "16066859280328279662"
     },
     "user_tz": 300
    },
    "id": "Us3Y11O6EIns",
    "outputId": "a58c162f-b00a-403a-bfc7-be6cc5610db1"
   },
   "outputs": [],
   "source": [
    "history3 = my_model3.fit(train_ds, validation_data=test_ds, epochs=15, callbacks=[checkpoint3])"
   ]
  },
  {
   "cell_type": "code",
   "execution_count": null,
   "metadata": {
    "colab": {
     "base_uri": "https://localhost:8080/",
     "height": 499
    },
    "executionInfo": {
     "elapsed": 377,
     "status": "ok",
     "timestamp": 1669938251751,
     "user": {
      "displayName": "Forest Shi",
      "userId": "16066859280328279662"
     },
     "user_tz": 300
    },
    "id": "gs8jyWfsEy8C",
    "outputId": "1a6f4af7-7334-4586-def0-9469b566b5f1"
   },
   "outputs": [],
   "source": [
    "# plot the training and validation loss\n",
    "acc = history3.history['accuracy']\n",
    "val_acc = history3.history['val_accuracy']\n",
    "\n",
    "loss = history3.history['loss']\n",
    "val_loss = history3.history['val_loss']\n",
    "\n",
    "epochs_range = range(15)\n",
    "\n",
    "plt.figure(figsize=(8, 8))\n",
    "plt.subplot(1, 2, 1)\n",
    "plt.plot(epochs_range, acc, label='Training Accuracy')\n",
    "plt.plot(epochs_range, val_acc, label='Validation Accuracy')\n",
    "plt.legend(loc='lower right')\n",
    "plt.title('Training and Validation Accuracy')\n",
    "\n",
    "plt.subplot(1, 2, 2)\n",
    "plt.plot(epochs_range, loss, label='Training Loss')\n",
    "plt.plot(epochs_range, val_loss, label='Validation Loss')\n",
    "plt.legend(loc='upper right')\n",
    "plt.title('Training and Validation Loss')\n",
    "plt.show()"
   ]
  }
 ],
 "metadata": {
  "accelerator": "GPU",
  "colab": {
   "authorship_tag": "ABX9TyOg0snxhM251nYX+eBXeMcG",
   "collapsed_sections": [
    "hiQXOu4WH-oY"
   ],
   "mount_file_id": "11QuK7gatGfcTDuPjCakMH2KoIlLZlDGF",
   "provenance": []
  },
  "gpuClass": "standard",
  "kernelspec": {
   "display_name": "Python 3 (ipykernel)",
   "language": "python",
   "name": "python3"
  },
  "language_info": {
   "codemirror_mode": {
    "name": "ipython",
    "version": 3
   },
   "file_extension": ".py",
   "mimetype": "text/x-python",
   "name": "python",
   "nbconvert_exporter": "python",
   "pygments_lexer": "ipython3",
   "version": "3.10.4"
  }
 },
 "nbformat": 4,
 "nbformat_minor": 1
}
