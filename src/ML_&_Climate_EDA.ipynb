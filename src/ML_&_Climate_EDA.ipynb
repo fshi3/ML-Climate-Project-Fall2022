{
  "cells": [
    {
      "cell_type": "markdown",
      "metadata": {
        "id": "Bp0Zf0hGINn1"
      },
      "source": [
        "# Environment Setup"
      ]
    },
    {
      "cell_type": "code",
      "execution_count": 1,
      "metadata": {
        "colab": {
          "base_uri": "https://localhost:8080/"
        },
        "id": "kR8TGA64039h",
        "outputId": "1700c410-be93-4f29-acdf-562b00fdaa75"
      },
      "outputs": [
        {
          "output_type": "stream",
          "name": "stdout",
          "text": [
            "Drive already mounted at /content/drive; to attempt to forcibly remount, call drive.mount(\"/content/drive\", force_remount=True).\n"
          ]
        }
      ],
      "source": [
        "from google.colab import drive\n",
        "drive.mount('/content/drive')"
      ]
    },
    {
      "cell_type": "code",
      "execution_count": 76,
      "metadata": {
        "id": "cO0r-AbA69gV"
      },
      "outputs": [],
      "source": [
        "import pathlib\n",
        "import IPython.display as display\n",
        "import random\n",
        "import pandas as pd\n",
        "from collections import defaultdict\n",
        "import tensorflow as tf\n",
        "from tensorflow.keras import datasets, layers, models\n",
        "from sklearn.model_selection import train_test_split\n",
        "import time\n",
        "from keras.callbacks import ModelCheckpoint\n",
        "from random import choice\n",
        "from PIL import Image\n",
        "import numpy as np\n",
        "from tensorflow import keras"
      ]
    },
    {
      "cell_type": "code",
      "execution_count": 3,
      "metadata": {
        "colab": {
          "base_uri": "https://localhost:8080/"
        },
        "id": "PGx-5_te3QSD",
        "outputId": "26e6a05b-2236-4330-8567-be4f23bad3d1"
      },
      "outputs": [
        {
          "output_type": "stream",
          "name": "stdout",
          "text": [
            "/content/drive\n"
          ]
        }
      ],
      "source": [
        "%cd drive"
      ]
    },
    {
      "cell_type": "code",
      "execution_count": 4,
      "metadata": {
        "colab": {
          "base_uri": "https://localhost:8080/"
        },
        "id": "EYF-QXZH3TTd",
        "outputId": "2544ed90-2190-4600-e87d-3778708e8883"
      },
      "outputs": [
        {
          "output_type": "stream",
          "name": "stdout",
          "text": [
            "/content/drive/MyDrive\n"
          ]
        }
      ],
      "source": [
        "%cd MyDrive"
      ]
    },
    {
      "cell_type": "code",
      "execution_count": 5,
      "metadata": {
        "colab": {
          "base_uri": "https://localhost:8080/"
        },
        "id": "RFUo03Gr3Uzp",
        "outputId": "351d3a6e-ab5b-4f9c-9b51-91841e44e2da"
      },
      "outputs": [
        {
          "output_type": "stream",
          "name": "stdout",
          "text": [
            "/content/drive/MyDrive/ML & Climate\n"
          ]
        }
      ],
      "source": [
        "%cd ML\\ \\&\\ Climate"
      ]
    },
    {
      "cell_type": "code",
      "execution_count": 6,
      "metadata": {
        "colab": {
          "base_uri": "https://localhost:8080/"
        },
        "id": "TRNELd8epFar",
        "outputId": "821e6fc3-433e-4fde-9c8a-1358d8758510"
      },
      "outputs": [
        {
          "output_type": "stream",
          "name": "stdout",
          "text": [
            " best_model_checkpoint.hdf5\t\t  test-jpg.tar.7z\n",
            " cache.tf-data.data-00000-of-00001\t  test-tif-v2.tar.7z\n",
            " cache.tf-data.index\t\t\t  test_v2_file_mapping.csv.zip\n",
            "'ML & Climate EDA.ipynb'\t\t  train-jpg\n",
            " test_cache.tf-data.data-00000-of-00001   train-jpg.tar\n",
            " test_cache.tf-data.index\t\t  train-tif-v2.tar.7z\n",
            " test-jpg\t\t\t\t  train_v2.csv\n",
            " test-jpg.tar\t\t\t\t  train_v2.csv.zip\n"
          ]
        }
      ],
      "source": [
        "! ls"
      ]
    },
    {
      "cell_type": "code",
      "execution_count": null,
      "metadata": {
        "id": "NexLGVSj5c6-"
      },
      "outputs": [],
      "source": [
        "ls train-jpg | parallel convert -colorspace sRGB train-jpg/{} fixed-train-jpg/{}"
      ]
    },
    {
      "cell_type": "code",
      "execution_count": null,
      "metadata": {
        "id": "IqigBvzJ33JT"
      },
      "outputs": [],
      "source": [
        "#!tar -xvf 'train-jpg.tar'"
      ]
    },
    {
      "cell_type": "markdown",
      "metadata": {
        "id": "hsclCtxHIXEK"
      },
      "source": [
        "# Training Set"
      ]
    },
    {
      "cell_type": "code",
      "execution_count": 7,
      "metadata": {
        "id": "XxrEipIb6acr"
      },
      "outputs": [],
      "source": [
        "data_root = pathlib.Path(\"/content/drive/MyDrive/ML & Climate/train-jpg\")"
      ]
    },
    {
      "cell_type": "code",
      "execution_count": 9,
      "metadata": {
        "id": "IBw5DWNM7rvC"
      },
      "outputs": [],
      "source": [
        "all_img_paths = list(data_root.glob('*'))"
      ]
    },
    {
      "cell_type": "code",
      "execution_count": 10,
      "metadata": {
        "id": "g6ZOa6n57BLC"
      },
      "outputs": [],
      "source": [
        "all_img_paths = [str(path) for path in all_img_paths]"
      ]
    },
    {
      "cell_type": "code",
      "execution_count": 11,
      "metadata": {
        "colab": {
          "base_uri": "https://localhost:8080/"
        },
        "id": "MCeBOEFQ7NB0",
        "outputId": "c0de32f9-394a-4496-b0b6-0ff9ed7fbacb"
      },
      "outputs": [
        {
          "output_type": "execute_result",
          "data": {
            "text/plain": [
              "40479"
            ]
          },
          "metadata": {},
          "execution_count": 11
        }
      ],
      "source": [
        "len(all_img_paths)"
      ]
    },
    {
      "cell_type": "code",
      "execution_count": 12,
      "metadata": {
        "colab": {
          "base_uri": "https://localhost:8080/"
        },
        "id": "o0KIDVW17l20",
        "outputId": "d49b0467-161b-49e6-c608-df2d1a2e204a"
      },
      "outputs": [
        {
          "output_type": "execute_result",
          "data": {
            "text/plain": [
              "['/content/drive/MyDrive/ML & Climate/train-jpg/train_9443.jpg',\n",
              " '/content/drive/MyDrive/ML & Climate/train-jpg/train_9395.jpg',\n",
              " '/content/drive/MyDrive/ML & Climate/train-jpg/train_9322.jpg',\n",
              " '/content/drive/MyDrive/ML & Climate/train-jpg/train_9499.jpg',\n",
              " '/content/drive/MyDrive/ML & Climate/train-jpg/train_9385.jpg']"
            ]
          },
          "metadata": {},
          "execution_count": 12
        }
      ],
      "source": [
        "all_img_paths[:5]"
      ]
    },
    {
      "cell_type": "code",
      "execution_count": 13,
      "metadata": {
        "colab": {
          "base_uri": "https://localhost:8080/",
          "height": 785
        },
        "id": "7svhgXMq8pkJ",
        "outputId": "a58a08c3-893e-4d6b-8b16-89b684cd2d1f"
      },
      "outputs": [
        {
          "output_type": "display_data",
          "data": {
            "image/jpeg": "[encoded data removed]",
            "text/plain": [
              "<IPython.core.display.Image object>"
            ]
          },
          "metadata": {}
        },
        {
          "output_type": "display_data",
          "data": {
            "image/jpeg": "[encoded data removed]",
            "text/plain": [
              "<IPython.core.display.Image object>"
            ]
          },
          "metadata": {}
        },
        {
          "output_type": "display_data",
          "data": {
            "image/jpeg": "[encoded data removed]",
            "text/plain": [
              "<IPython.core.display.Image object>"
            ]
          },
          "metadata": {}
        }
      ],
      "source": [
        "for n in range(3):\n",
        "  image_path = random.choice(all_img_paths)\n",
        "  display.display(display.Image(image_path))"
      ]
    },
    {
      "cell_type": "code",
      "execution_count": 14,
      "metadata": {
        "id": "aqOpn0D1dNAI"
      },
      "outputs": [],
      "source": [
        "# for testing on the different methods of training using a subset of the data\n",
        "small_img_paths = []\n",
        "for i in range(2000):\n",
        "  small_img_paths.append(choice(all_img_paths))"
      ]
    },
    {
      "cell_type": "code",
      "execution_count": 15,
      "metadata": {
        "colab": {
          "base_uri": "https://localhost:8080/"
        },
        "id": "nABaYbdbdh5q",
        "outputId": "0e2a64e9-ca6f-4630-eeba-13517e3dc5f4"
      },
      "outputs": [
        {
          "output_type": "execute_result",
          "data": {
            "text/plain": [
              "2000"
            ]
          },
          "metadata": {},
          "execution_count": 15
        }
      ],
      "source": [
        "len(small_img_paths)"
      ]
    },
    {
      "cell_type": "markdown",
      "metadata": {
        "id": "hiQXOu4WH-oY"
      },
      "source": [
        "# Test Set"
      ]
    },
    {
      "cell_type": "code",
      "execution_count": null,
      "metadata": {
        "id": "L5pwmoS3BasK"
      },
      "outputs": [],
      "source": [
        "#!7z x 'test-jpg.tar.7z'"
      ]
    },
    {
      "cell_type": "code",
      "execution_count": null,
      "metadata": {
        "id": "clz_riB72YgV"
      },
      "outputs": [],
      "source": [
        "#!tar -xvf  'test-jpg.tar'"
      ]
    },
    {
      "cell_type": "code",
      "execution_count": null,
      "metadata": {
        "id": "HmZYxjc3IfpY"
      },
      "outputs": [],
      "source": [
        "test_root = pathlib.Path(\"/content/drive/MyDrive/ML & Climate/test-jpg\")"
      ]
    },
    {
      "cell_type": "code",
      "execution_count": null,
      "metadata": {
        "id": "dlhLmmQbI1ZR"
      },
      "outputs": [],
      "source": [
        "test_img_paths = list(test_root.glob('*'))"
      ]
    },
    {
      "cell_type": "code",
      "execution_count": null,
      "metadata": {
        "id": "e-GljcN32C3X"
      },
      "outputs": [],
      "source": [
        "test_img_paths = [str(path) for path in test_img_paths]"
      ]
    },
    {
      "cell_type": "code",
      "execution_count": null,
      "metadata": {
        "colab": {
          "base_uri": "https://localhost:8080/"
        },
        "id": "sEyEvO55I49V",
        "outputId": "30b313bb-67ac-4b29-a991-d76636830a96"
      },
      "outputs": [
        {
          "data": {
            "text/plain": [
              "24038"
            ]
          },
          "execution_count": 20,
          "metadata": {},
          "output_type": "execute_result"
        }
      ],
      "source": [
        "len(test_img_paths)"
      ]
    },
    {
      "cell_type": "code",
      "execution_count": null,
      "metadata": {
        "colab": {
          "base_uri": "https://localhost:8080/"
        },
        "id": "fCxRTqpa2NKA",
        "outputId": "0a3ede5f-e906-4494-e9d2-e7a035c2f0d9"
      },
      "outputs": [
        {
          "data": {
            "text/plain": [
              "['/content/drive/MyDrive/ML & Climate/test-jpg/test_8452.jpg',\n",
              " '/content/drive/MyDrive/ML & Climate/test-jpg/test_8563.jpg',\n",
              " '/content/drive/MyDrive/ML & Climate/test-jpg/test_8615.jpg',\n",
              " '/content/drive/MyDrive/ML & Climate/test-jpg/test_8596.jpg',\n",
              " '/content/drive/MyDrive/ML & Climate/test-jpg/test_8531.jpg']"
            ]
          },
          "execution_count": 22,
          "metadata": {},
          "output_type": "execute_result"
        }
      ],
      "source": [
        "test_img_paths[:5]"
      ]
    },
    {
      "cell_type": "code",
      "execution_count": null,
      "metadata": {
        "colab": {
          "base_uri": "https://localhost:8080/",
          "height": 785
        },
        "id": "je5XcHyB2Spn",
        "outputId": "f1e503bf-de9e-4cf8-ad39-13ec7e50224f"
      },
      "outputs": [
        {
          "data": {
            "image/jpeg": "[encoded data removed]",
            "text/plain": [
              "<IPython.core.display.Image object>"
            ]
          },
          "metadata": {},
          "output_type": "display_data"
        },
        {
          "data": {
            "image/jpeg": "[encoded data removed]",
            "text/plain": [
              "<IPython.core.display.Image object>"
            ]
          },
          "metadata": {},
          "output_type": "display_data"
        },
        {
          "data": {
            "image/jpeg": "[encoded data removed]",
            "text/plain": [
              "<IPython.core.display.Image object>"
            ]
          },
          "metadata": {},
          "output_type": "display_data"
        }
      ],
      "source": [
        "for n in range(3):\n",
        "  image_path = random.choice(all_img_paths)\n",
        "  display.display(display.Image(image_path))"
      ]
    },
    {
      "cell_type": "markdown",
      "metadata": {
        "id": "QBlZHQiiIGpY"
      },
      "source": [
        "# Data Labels"
      ]
    },
    {
      "cell_type": "code",
      "execution_count": 16,
      "metadata": {
        "id": "r2qb5y8FJf-G"
      },
      "outputs": [],
      "source": [
        "labels = pd.read_csv(\"train_v2.csv\")"
      ]
    },
    {
      "cell_type": "code",
      "execution_count": 17,
      "metadata": {
        "colab": {
          "base_uri": "https://localhost:8080/",
          "height": 424
        },
        "id": "MLmpoYceRUiA",
        "outputId": "ccdbb5ce-def1-4901-b3c8-4b7c838363f1"
      },
      "outputs": [
        {
          "output_type": "execute_result",
          "data": {
            "text/plain": [
              "        image_name                                           tags\n",
              "0          train_0                                   haze primary\n",
              "1          train_1                agriculture clear primary water\n",
              "2          train_2                                  clear primary\n",
              "3          train_3                                  clear primary\n",
              "4          train_4      agriculture clear habitation primary road\n",
              "...            ...                                            ...\n",
              "40474  train_40474                                  clear primary\n",
              "40475  train_40475                                         cloudy\n",
              "40476  train_40476                      agriculture clear primary\n",
              "40477  train_40477                 agriculture clear primary road\n",
              "40478  train_40478  agriculture cultivation partly_cloudy primary\n",
              "\n",
              "[40479 rows x 2 columns]"
            ],
            "text/html": [
              "\n",
              "  <div id=\"df-b224c250-a266-4585-8202-8a89ce14ef67\">\n",
              "    <div class=\"colab-df-container\">\n",
              "      <div>\n",
              "<style scoped>\n",
              "    .dataframe tbody tr th:only-of-type {\n",
              "        vertical-align: middle;\n",
              "    }\n",
              "\n",
              "    .dataframe tbody tr th {\n",
              "        vertical-align: top;\n",
              "    }\n",
              "\n",
              "    .dataframe thead th {\n",
              "        text-align: right;\n",
              "    }\n",
              "</style>\n",
              "<table border=\"1\" class=\"dataframe\">\n",
              "  <thead>\n",
              "    <tr style=\"text-align: right;\">\n",
              "      <th></th>\n",
              "      <th>image_name</th>\n",
              "      <th>tags</th>\n",
              "    </tr>\n",
              "  </thead>\n",
              "  <tbody>\n",
              "    <tr>\n",
              "      <th>0</th>\n",
              "      <td>train_0</td>\n",
              "      <td>haze primary</td>\n",
              "    </tr>\n",
              "    <tr>\n",
              "      <th>1</th>\n",
              "      <td>train_1</td>\n",
              "      <td>agriculture clear primary water</td>\n",
              "    </tr>\n",
              "    <tr>\n",
              "      <th>2</th>\n",
              "      <td>train_2</td>\n",
              "      <td>clear primary</td>\n",
              "    </tr>\n",
              "    <tr>\n",
              "      <th>3</th>\n",
              "      <td>train_3</td>\n",
              "      <td>clear primary</td>\n",
              "    </tr>\n",
              "    <tr>\n",
              "      <th>4</th>\n",
              "      <td>train_4</td>\n",
              "      <td>agriculture clear habitation primary road</td>\n",
              "    </tr>\n",
              "    <tr>\n",
              "      <th>...</th>\n",
              "      <td>...</td>\n",
              "      <td>...</td>\n",
              "    </tr>\n",
              "    <tr>\n",
              "      <th>40474</th>\n",
              "      <td>train_40474</td>\n",
              "      <td>clear primary</td>\n",
              "    </tr>\n",
              "    <tr>\n",
              "      <th>40475</th>\n",
              "      <td>train_40475</td>\n",
              "      <td>cloudy</td>\n",
              "    </tr>\n",
              "    <tr>\n",
              "      <th>40476</th>\n",
              "      <td>train_40476</td>\n",
              "      <td>agriculture clear primary</td>\n",
              "    </tr>\n",
              "    <tr>\n",
              "      <th>40477</th>\n",
              "      <td>train_40477</td>\n",
              "      <td>agriculture clear primary road</td>\n",
              "    </tr>\n",
              "    <tr>\n",
              "      <th>40478</th>\n",
              "      <td>train_40478</td>\n",
              "      <td>agriculture cultivation partly_cloudy primary</td>\n",
              "    </tr>\n",
              "  </tbody>\n",
              "</table>\n",
              "<p>40479 rows × 2 columns</p>\n",
              "</div>\n",
              "      <button class=\"colab-df-convert\" onclick=\"convertToInteractive('df-b224c250-a266-4585-8202-8a89ce14ef67')\"\n",
              "              title=\"Convert this dataframe to an interactive table.\"\n",
              "              style=\"display:none;\">\n",
              "        \n",
              "  <svg xmlns=\"http://www.w3.org/2000/svg\" height=\"24px\"viewBox=\"0 0 24 24\"\n",
              "       width=\"24px\">\n",
              "    <path d=\"M0 0h24v24H0V0z\" fill=\"none\"/>\n",
              "    <path d=\"M18.56 5.44l.94 2.06.94-2.06 2.06-.94-2.06-.94-.94-2.06-.94 2.06-2.06.94zm-11 1L8.5 8.5l.94-2.06 2.06-.94-2.06-.94L8.5 2.5l-.94 2.06-2.06.94zm10 10l.94 2.06.94-2.06 2.06-.94-2.06-.94-.94-2.06-.94 2.06-2.06.94z\"/><path d=\"M17.41 7.96l-1.37-1.37c-.4-.4-.92-.59-1.43-.59-.52 0-1.04.2-1.43.59L10.3 9.45l-7.72 7.72c-.78.78-.78 2.05 0 2.83L4 21.41c.39.39.9.59 1.41.59.51 0 1.02-.2 1.41-.59l7.78-7.78 2.81-2.81c.8-.78.8-2.07 0-2.86zM5.41 20L4 18.59l7.72-7.72 1.47 1.35L5.41 20z\"/>\n",
              "  </svg>\n",
              "      </button>\n",
              "      \n",
              "  <style>\n",
              "    .colab-df-container {\n",
              "      display:flex;\n",
              "      flex-wrap:wrap;\n",
              "      gap: 12px;\n",
              "    }\n",
              "\n",
              "    .colab-df-convert {\n",
              "      background-color: #E8F0FE;\n",
              "      border: none;\n",
              "      border-radius: 50%;\n",
              "      cursor: pointer;\n",
              "      display: none;\n",
              "      fill: #1967D2;\n",
              "      height: 32px;\n",
              "      padding: 0 0 0 0;\n",
              "      width: 32px;\n",
              "    }\n",
              "\n",
              "    .colab-df-convert:hover {\n",
              "      background-color: #E2EBFA;\n",
              "      box-shadow: 0px 1px 2px rgba(60, 64, 67, 0.3), 0px 1px 3px 1px rgba(60, 64, 67, 0.15);\n",
              "      fill: #174EA6;\n",
              "    }\n",
              "\n",
              "    [theme=dark] .colab-df-convert {\n",
              "      background-color: #3B4455;\n",
              "      fill: #D2E3FC;\n",
              "    }\n",
              "\n",
              "    [theme=dark] .colab-df-convert:hover {\n",
              "      background-color: #434B5C;\n",
              "      box-shadow: 0px 1px 3px 1px rgba(0, 0, 0, 0.15);\n",
              "      filter: drop-shadow(0px 1px 2px rgba(0, 0, 0, 0.3));\n",
              "      fill: #FFFFFF;\n",
              "    }\n",
              "  </style>\n",
              "\n",
              "      <script>\n",
              "        const buttonEl =\n",
              "          document.querySelector('#df-b224c250-a266-4585-8202-8a89ce14ef67 button.colab-df-convert');\n",
              "        buttonEl.style.display =\n",
              "          google.colab.kernel.accessAllowed ? 'block' : 'none';\n",
              "\n",
              "        async function convertToInteractive(key) {\n",
              "          const element = document.querySelector('#df-b224c250-a266-4585-8202-8a89ce14ef67');\n",
              "          const dataTable =\n",
              "            await google.colab.kernel.invokeFunction('convertToInteractive',\n",
              "                                                     [key], {});\n",
              "          if (!dataTable) return;\n",
              "\n",
              "          const docLinkHtml = 'Like what you see? Visit the ' +\n",
              "            '<a target=\"_blank\" href=https://colab.research.google.com/notebooks/data_table.ipynb>data table notebook</a>'\n",
              "            + ' to learn more about interactive tables.';\n",
              "          element.innerHTML = '';\n",
              "          dataTable['output_type'] = 'display_data';\n",
              "          await google.colab.output.renderOutput(dataTable, element);\n",
              "          const docLink = document.createElement('div');\n",
              "          docLink.innerHTML = docLinkHtml;\n",
              "          element.appendChild(docLink);\n",
              "        }\n",
              "      </script>\n",
              "    </div>\n",
              "  </div>\n",
              "  "
            ]
          },
          "metadata": {},
          "execution_count": 17
        }
      ],
      "source": [
        "labels"
      ]
    },
    {
      "cell_type": "markdown",
      "metadata": {
        "id": "K30zR7oLRe7X"
      },
      "source": [
        "There is no labels for the test set, since this is a kaggle competition. Will have to split the training set in to train, val, and test."
      ]
    },
    {
      "cell_type": "markdown",
      "metadata": {
        "id": "cu6tUI6lTIq_"
      },
      "source": [
        "Here are the label distributions:"
      ]
    },
    {
      "cell_type": "code",
      "execution_count": 18,
      "metadata": {
        "id": "T7DDvYt-TLZO"
      },
      "outputs": [],
      "source": [
        "tags = defaultdict(lambda: 0)\n",
        "for each in labels['tags']:\n",
        "  tag_list = each.split(\" \")\n",
        "  for tag in tag_list:\n",
        "    tags[tag] += 1"
      ]
    },
    {
      "cell_type": "code",
      "execution_count": 19,
      "metadata": {
        "colab": {
          "base_uri": "https://localhost:8080/"
        },
        "id": "W4JIHYAvTOe2",
        "outputId": "5fb8e5b3-b75b-47dc-bc10-a6e70f32d0e9"
      },
      "outputs": [
        {
          "output_type": "execute_result",
          "data": {
            "text/plain": [
              "defaultdict(<function __main__.<lambda>()>,\n",
              "            {'haze': 2697,\n",
              "             'primary': 37513,\n",
              "             'agriculture': 12315,\n",
              "             'clear': 28431,\n",
              "             'water': 7411,\n",
              "             'habitation': 3660,\n",
              "             'road': 8071,\n",
              "             'cultivation': 4547,\n",
              "             'slash_burn': 209,\n",
              "             'cloudy': 2089,\n",
              "             'partly_cloudy': 7261,\n",
              "             'conventional_mine': 100,\n",
              "             'bare_ground': 862,\n",
              "             'artisinal_mine': 339,\n",
              "             'blooming': 332,\n",
              "             'selective_logging': 340,\n",
              "             'blow_down': 101})"
            ]
          },
          "metadata": {},
          "execution_count": 19
        }
      ],
      "source": [
        "tags"
      ]
    },
    {
      "cell_type": "code",
      "execution_count": 20,
      "metadata": {
        "id": "dSWXC9rHWoAE"
      },
      "outputs": [],
      "source": [
        "deforest_tags = {}\n",
        "# these are the tags that we are considering as deforestation\n",
        "deforestation = ['agriculture', 'cultivation', 'slash_burn', 'conventional_mine', 'artisinal_mine',\n",
        "                 'selective_logging', 'road', 'habitation']    \n",
        "for tag, count in tags.items():\n",
        "  if tag in deforestation:\n",
        "    deforest_tags[tag] = count"
      ]
    },
    {
      "cell_type": "code",
      "execution_count": 21,
      "metadata": {
        "colab": {
          "base_uri": "https://localhost:8080/"
        },
        "id": "KjJq5q7A5ixD",
        "outputId": "5dd9c6c4-43ce-4e99-b263-25098a57602d"
      },
      "outputs": [
        {
          "output_type": "execute_result",
          "data": {
            "text/plain": [
              "{'agriculture': 12315,\n",
              " 'habitation': 3660,\n",
              " 'road': 8071,\n",
              " 'cultivation': 4547,\n",
              " 'slash_burn': 209,\n",
              " 'conventional_mine': 100,\n",
              " 'artisinal_mine': 339,\n",
              " 'selective_logging': 340}"
            ]
          },
          "metadata": {},
          "execution_count": 21
        }
      ],
      "source": [
        "deforest_tags"
      ]
    },
    {
      "cell_type": "code",
      "execution_count": 22,
      "metadata": {
        "id": "hmflNHKU5j6R"
      },
      "outputs": [],
      "source": [
        "deforestation_count = 0\n",
        "for each in labels['tags']:\n",
        "  tag_list = each.split(\" \")\n",
        "  for tag in tag_list:\n",
        "    if tag in deforest_tags:\n",
        "      deforestation_count += 1\n",
        "      break"
      ]
    },
    {
      "cell_type": "code",
      "execution_count": 23,
      "metadata": {
        "colab": {
          "base_uri": "https://localhost:8080/"
        },
        "id": "inN7PKon6FWM",
        "outputId": "e23274e4-4b34-41d3-cc98-8d6b93ff4a62"
      },
      "outputs": [
        {
          "output_type": "stream",
          "name": "stdout",
          "text": [
            "Total counts of deforestation:  15899\n",
            "The percentage of deforestation labels:  0.39277156056226686\n"
          ]
        }
      ],
      "source": [
        "print(\"Total counts of deforestation: \", deforestation_count)\n",
        "print(\"The percentage of deforestation labels: \", \n",
        "      deforestation_count/len(labels))"
      ]
    },
    {
      "cell_type": "markdown",
      "metadata": {
        "id": "Xl657X4KLhQf"
      },
      "source": [
        "The dataset is somewhat balanced, with around 40% positive labels (deforestation) and 60% negative labels (no deforestation)."
      ]
    },
    {
      "cell_type": "markdown",
      "metadata": {
        "id": "lz1NuQTewOJN"
      },
      "source": [
        "**Binary Data Labels**"
      ]
    },
    {
      "cell_type": "markdown",
      "metadata": {
        "id": "WdbnrrjowSsX"
      },
      "source": [
        "First run, try to encode all training example into either has some classification of deforestation or not."
      ]
    },
    {
      "cell_type": "code",
      "execution_count": 24,
      "metadata": {
        "colab": {
          "base_uri": "https://localhost:8080/",
          "height": 35
        },
        "id": "d6JstDLgYScY",
        "outputId": "e7597665-95e3-4371-931f-a9643b879045"
      },
      "outputs": [
        {
          "output_type": "execute_result",
          "data": {
            "text/plain": [
              "'train_9443'"
            ],
            "application/vnd.google.colaboratory.intrinsic+json": {
              "type": "string"
            }
          },
          "metadata": {},
          "execution_count": 24
        }
      ],
      "source": [
        "pathlib.Path(all_img_paths[0]).name.split(\".\")[0]"
      ]
    },
    {
      "cell_type": "code",
      "execution_count": 25,
      "metadata": {
        "id": "Uv60DYvDyntr"
      },
      "outputs": [],
      "source": [
        "bin_labels = {} # binary 0/1 labels for whether img has deforestation\n",
        "i = 0\n",
        "for each in labels[\"tags\"]:\n",
        "  tags = each.split(\" \")\n",
        "  for t in tags:\n",
        "    if t in deforest_tags:\n",
        "      # 1 for deforestation, 0 for no deforestation\n",
        "      bin_labels[labels.loc[i][\"image_name\"]] = 1\n",
        "      break\n",
        "  if labels.loc[i][\"image_name\"] not in bin_labels:\n",
        "    bin_labels[labels.loc[i][\"image_name\"]] = 0\n",
        "  i += 1"
      ]
    },
    {
      "cell_type": "code",
      "execution_count": 26,
      "metadata": {
        "id": "pl2g9YJW1rvP"
      },
      "outputs": [],
      "source": [
        "# an array of the binary labels to feed into train-test-split\n",
        "all_bin_labels = [bin_labels[pathlib.Path(path).name.split(\".\")[0]]\n",
        "                  for path in all_img_paths]"
      ]
    },
    {
      "cell_type": "code",
      "execution_count": 27,
      "metadata": {
        "colab": {
          "base_uri": "https://localhost:8080/"
        },
        "id": "ybLMTHEJ2ClW",
        "outputId": "ec022ce5-4f7f-4f28-e07e-8a90e71b9fbf"
      },
      "outputs": [
        {
          "output_type": "stream",
          "name": "stdout",
          "text": [
            "deforestation:  15899 \n",
            "no deforestation:  24580\n"
          ]
        }
      ],
      "source": [
        "count = 0\n",
        "for each in all_bin_labels:\n",
        "  count += each\n",
        "print(\"deforestation: \", count, \"\\nno deforestation: \", len(all_bin_labels)-count)"
      ]
    },
    {
      "cell_type": "code",
      "execution_count": 29,
      "metadata": {
        "colab": {
          "base_uri": "https://localhost:8080/"
        },
        "id": "CGYeuPGpeYK7",
        "outputId": "22576e38-5961-4d12-e737-6d359c40f712"
      },
      "outputs": [
        {
          "output_type": "stream",
          "name": "stdout",
          "text": [
            "deforestation:  777 \n",
            "no deforestation:  1223\n",
            "The percentage of deforestation labels:  0.3885\n"
          ]
        }
      ],
      "source": [
        "# DELETE LATER\n",
        "small_bin_labels = [bin_labels[pathlib.Path(path).name.split(\".\")[0]]\n",
        "                  for path in small_img_paths]\n",
        "count = 0\n",
        "for each in small_bin_labels:\n",
        "  count += each\n",
        "print(\"deforestation: \", count, \"\\nno deforestation: \", len(small_bin_labels)-count)\n",
        "print(\"The percentage of deforestation labels: \", \n",
        "      count/len(small_bin_labels))"
      ]
    },
    {
      "cell_type": "markdown",
      "metadata": {
        "id": "gwyePRaIL0Qh"
      },
      "source": [
        "# Modeling"
      ]
    },
    {
      "cell_type": "code",
      "execution_count": null,
      "metadata": {
        "id": "2GnLn77BL2CT"
      },
      "outputs": [],
      "source": [
        "train_paths, test_paths, train_labels, test_labels = train_test_split(all_img_paths, \n",
        "                                                                      all_bin_labels,\n",
        "                                                                      test_size=0.25, \n",
        "                                                                      random_state=42)"
      ]
    },
    {
      "cell_type": "code",
      "execution_count": 30,
      "metadata": {
        "id": "8_Xi_C1_elfb"
      },
      "outputs": [],
      "source": [
        "# DELETE LATER\n",
        "train_paths, test_paths, train_labels, test_labels = train_test_split(small_img_paths, \n",
        "                                                                      small_bin_labels,\n",
        "                                                                      test_size=0.25, \n",
        "                                                                      random_state=42)"
      ]
    },
    {
      "cell_type": "markdown",
      "metadata": {
        "id": "z9bjWGNm1UJ5"
      },
      "source": [
        "Display a few images and their labels"
      ]
    },
    {
      "cell_type": "code",
      "execution_count": 31,
      "metadata": {
        "colab": {
          "base_uri": "https://localhost:8080/",
          "height": 892
        },
        "id": "Lj4LkSUm0rNz",
        "outputId": "ab55e6c1-7390-4455-a9b9-f0c49a3f3a05"
      },
      "outputs": [
        {
          "output_type": "stream",
          "name": "stdout",
          "text": [
            "1\n"
          ]
        },
        {
          "output_type": "display_data",
          "data": {
            "image/jpeg": "[encoded data removed]",
            "text/plain": [
              "<IPython.core.display.Image object>"
            ]
          },
          "metadata": {}
        },
        {
          "output_type": "stream",
          "name": "stdout",
          "text": [
            "\n",
            "0\n"
          ]
        },
        {
          "output_type": "display_data",
          "data": {
            "image/jpeg": "[encoded data removed]",
            "text/plain": [
              "<IPython.core.display.Image object>"
            ]
          },
          "metadata": {}
        },
        {
          "output_type": "stream",
          "name": "stdout",
          "text": [
            "\n",
            "1\n"
          ]
        },
        {
          "output_type": "display_data",
          "data": {
            "image/jpeg": "[encoded data removed]",
            "text/plain": [
              "<IPython.core.display.Image object>"
            ]
          },
          "metadata": {}
        },
        {
          "output_type": "stream",
          "name": "stdout",
          "text": [
            "\n"
          ]
        }
      ],
      "source": [
        "for n in range(3):\n",
        "  i = random.randint(0,len(train_paths))\n",
        "  image_path = train_paths[i]\n",
        "  print(train_labels[i])\n",
        "  display.display(display.Image(image_path))\n",
        "  print()"
      ]
    },
    {
      "cell_type": "code",
      "execution_count": null,
      "metadata": {
        "id": "UKyZaNj003B-"
      },
      "outputs": [],
      "source": [
        "# img_raw = tf.io.read_file(train_paths[0])\n",
        "# print(repr(img_raw)[:100]+\"...\")"
      ]
    },
    {
      "cell_type": "code",
      "execution_count": null,
      "metadata": {
        "id": "YMvAE3PI2F_e"
      },
      "outputs": [],
      "source": [
        "# img_tensor = tf.image.decode_image(img_raw, channels=3, dtype=tf.dtypes.float32)\n",
        "# print(img_tensor.shape)\n",
        "# print(img_tensor.dtype)"
      ]
    },
    {
      "cell_type": "code",
      "execution_count": 32,
      "metadata": {
        "id": "cOMP8HUM3scy"
      },
      "outputs": [],
      "source": [
        "# Test to see the image dimensions\n",
        "img_raw = Image.open(train_paths[0]).convert(\"RGB\")\n",
        "img = img = np.asarray(img_raw) /255"
      ]
    },
    {
      "cell_type": "code",
      "execution_count": 33,
      "metadata": {
        "colab": {
          "base_uri": "https://localhost:8080/"
        },
        "id": "i4dyJMzB32Kl",
        "outputId": "3ea15690-466f-4d73-c136-593e06fa754a"
      },
      "outputs": [
        {
          "output_type": "stream",
          "name": "stdout",
          "text": [
            "(256, 256, 3)\n",
            "0.48627450980392156 0.6588235294117647\n"
          ]
        }
      ],
      "source": [
        "print(img.shape)\n",
        "print(img.min(), img.max())"
      ]
    },
    {
      "cell_type": "markdown",
      "metadata": {
        "id": "3u1PHgOrEQ7V"
      },
      "source": [
        "**Parameters for loader**"
      ]
    },
    {
      "cell_type": "code",
      "execution_count": 34,
      "metadata": {
        "id": "p5NVM770EL5M"
      },
      "outputs": [],
      "source": [
        "BATCH_SIZE = 64\n",
        "IMG_SIZE = 180\n",
        "AUTOTUNE = tf.data.experimental.AUTOTUNE\n",
        "SHUFFLE_SIZE = 1000\n",
        "BUFFER_SIZE = 1000"
      ]
    },
    {
      "cell_type": "code",
      "execution_count": 35,
      "metadata": {
        "id": "LUNMrSXhEvab"
      },
      "outputs": [],
      "source": [
        "# def load_and_preprocess_image(path):\n",
        "#   img = tf.io.read_file(path)\n",
        "#   img = tf.image.decode_jpeg(img, channels=3)\n",
        "#   img = tf.image.resize(img, [IMG_SIZE, IMG_SIZE ])\n",
        "#   # img /= 255.0  # normalize pixels to 0,1\n",
        "#   return img\n",
        "\n",
        "def load_and_preprocess_image(path):\n",
        "  img = Image.open(path).convert(\"RGB\")\n",
        "  img = np.asarray(img) /255\n",
        "  img = tf.convert_to_tensor(img)\n",
        "  img = tf.image.resize(img, [IMG_SIZE, IMG_SIZE ])\n",
        "  return img"
      ]
    },
    {
      "cell_type": "code",
      "execution_count": null,
      "metadata": {
        "id": "SA4stcXvvrU3"
      },
      "outputs": [],
      "source": [
        "# def load_and_preprocess_image(path):\n",
        "#   img = iio.imread(path)\n",
        "#   img = img /255\n",
        "#   img = tf.convert_to_tensor(img)\n",
        "#   img = tf.image.resize(img, [IMG_SIZE, IMG_SIZE ])\n",
        "#   return img"
      ]
    },
    {
      "cell_type": "markdown",
      "metadata": {
        "id": "Nw-UE6jwq8mB"
      },
      "source": [
        "Checking the shapes of the preprocessed dataset:"
      ]
    },
    {
      "cell_type": "code",
      "execution_count": null,
      "metadata": {
        "id": "MYSzJWizn3UG"
      },
      "outputs": [],
      "source": [
        "# a dataset that returns image paths\n",
        "# path_ds = tf.data.Dataset.from_tensor_slices(train_paths)\n",
        "# for n, img_path in enumerate(path_ds.take(4)):\n",
        "#   print(n, img_path)\n"
      ]
    },
    {
      "cell_type": "code",
      "execution_count": null,
      "metadata": {
        "id": "MLWCzh3hqql9"
      },
      "outputs": [],
      "source": [
        "# a dataset that returns images (loaded off disk, decoded, and preprocessed)\n",
        "# image_ds = path_ds.map(load_and_preprocess_image, num_parallel_calls=AUTOTUNE)\n",
        "# for n, image in enumerate(image_ds.take(4)):\n",
        "#   print(n, image.shape)"
      ]
    },
    {
      "cell_type": "code",
      "execution_count": 36,
      "metadata": {
        "colab": {
          "base_uri": "https://localhost:8080/"
        },
        "id": "3yI2Kfap1mGx",
        "outputId": "4c622c99-c36f-448b-a470-fe46e6d14407"
      },
      "outputs": [
        {
          "output_type": "execute_result",
          "data": {
            "text/plain": [
              "1500"
            ]
          },
          "metadata": {},
          "execution_count": 36
        }
      ],
      "source": [
        "len(train_paths)"
      ]
    },
    {
      "cell_type": "code",
      "execution_count": 42,
      "metadata": {
        "colab": {
          "base_uri": "https://localhost:8080/"
        },
        "id": "v8DeBQpClbcj",
        "outputId": "6cf7ce10-f4a5-4a28-cff5-c2287f6c3a5c"
      },
      "outputs": [
        {
          "output_type": "stream",
          "name": "stdout",
          "text": [
            "430.81975078582764\n"
          ]
        }
      ],
      "source": [
        "# PILLOW method runtime\n",
        "image_list = []\n",
        "start = time.time()\n",
        "for path in train_paths:\n",
        "  image_list.append(load_and_preprocess_image(path))\n",
        "end = time.time()\n",
        "print(end-start)"
      ]
    },
    {
      "cell_type": "code",
      "execution_count": 43,
      "metadata": {
        "colab": {
          "base_uri": "https://localhost:8080/"
        },
        "id": "6gLn2rV0w1_-",
        "outputId": "335a4aad-d987-4d9d-bf35-082594fe50a3"
      },
      "outputs": [
        {
          "output_type": "execute_result",
          "data": {
            "text/plain": [
              "1500"
            ]
          },
          "metadata": {},
          "execution_count": 43
        }
      ],
      "source": [
        "len(image_list)"
      ]
    },
    {
      "cell_type": "code",
      "execution_count": 44,
      "metadata": {
        "colab": {
          "base_uri": "https://localhost:8080/"
        },
        "id": "tc-PyFBRbogY",
        "outputId": "5ee39567-e86d-4b07-aaa2-2998daf61148"
      },
      "outputs": [
        {
          "output_type": "execute_result",
          "data": {
            "text/plain": [
              "<tf.Tensor: shape=(180, 180, 3), dtype=float32, numpy=\n",
              "array([[[0.54901963, 0.5882353 , 0.56078434],\n",
              "        [0.54901963, 0.5882353 , 0.56078434],\n",
              "        [0.54901963, 0.5882353 , 0.5568628 ],\n",
              "        ...,\n",
              "        [0.5803922 , 0.6039216 , 0.575299  ],\n",
              "        [0.5837894 , 0.60784316, 0.5787364 ],\n",
              "        [0.58740747, 0.6109369 , 0.581177  ]],\n",
              "\n",
              "       [[0.54901963, 0.5882353 , 0.5583007 ],\n",
              "        [0.54901963, 0.5882353 , 0.5583007 ],\n",
              "        [0.54901963, 0.5882353 , 0.5567248 ],\n",
              "        ...,\n",
              "        [0.5779085 , 0.6039216 , 0.5702033 ],\n",
              "        [0.5818301 , 0.6062702 , 0.5700654 ],\n",
              "        [0.5854481 , 0.6089775 , 0.56810606]],\n",
              "\n",
              "       [[0.54509807, 0.5882353 , 0.5556911 ],\n",
              "        [0.54509807, 0.5882353 , 0.5529412 ],\n",
              "        [0.54509807, 0.5882353 , 0.5529412 ],\n",
              "        ...,\n",
              "        [0.57625276, 0.6       , 0.5686154 ],\n",
              "        [0.57769066, 0.60514164, 0.5689252 ],\n",
              "        [0.5801743 , 0.60779715, 0.5690632 ]],\n",
              "\n",
              "       ...,\n",
              "\n",
              "       [[0.5766858 , 0.59525055, 0.55785984],\n",
              "        [0.568315  , 0.5896732 , 0.55489457],\n",
              "        [0.5605544 , 0.58801746, 0.552917  ],\n",
              "        ...,\n",
              "        [0.5139312 , 0.56100214, 0.5259258 ],\n",
              "        [0.5224763 , 0.562382  , 0.5274436 ],\n",
              "        [0.5395182 , 0.57132894, 0.53642446]],\n",
              "\n",
              "       [[0.5562498 , 0.590719  , 0.5391286 ],\n",
              "        [0.55542487, 0.5882353 , 0.5431329 ],\n",
              "        [0.55550474, 0.58273786, 0.5492375 ],\n",
              "        ...,\n",
              "        [0.5065358 , 0.56100214, 0.52322435],\n",
              "        [0.50143355, 0.5577734 , 0.5199957 ],\n",
              "        [0.50805956, 0.5655338 , 0.5266217 ]],\n",
              "\n",
              "       [[0.5491944 , 0.5875822 , 0.53416127],\n",
              "        [0.5498475 , 0.58265793, 0.5397386 ],\n",
              "        [0.5529872 , 0.57729846, 0.5461438 ],\n",
              "        ...,\n",
              "        [0.506364  , 0.561174  , 0.5289736 ],\n",
              "        [0.5022673 , 0.5568628 , 0.5246624 ],\n",
              "        [0.5097609 , 0.5606096 , 0.5277561 ]]], dtype=float32)>"
            ]
          },
          "metadata": {},
          "execution_count": 44
        }
      ],
      "source": [
        "image_list[0]"
      ]
    },
    {
      "cell_type": "code",
      "execution_count": 45,
      "metadata": {
        "colab": {
          "base_uri": "https://localhost:8080/"
        },
        "id": "zDiJ2tJdzGKY",
        "outputId": "4c8062ac-7696-4bed-895d-e193b8dc4493"
      },
      "outputs": [
        {
          "output_type": "stream",
          "name": "stdout",
          "text": [
            "0.4285101890563965\n"
          ]
        }
      ],
      "source": [
        "start = time.time()\n",
        "image_ds = tf.data.Dataset.from_tensor_slices(image_list)\n",
        "end = time.time()\n",
        "print(end-start)"
      ]
    },
    {
      "cell_type": "code",
      "execution_count": 46,
      "metadata": {
        "colab": {
          "base_uri": "https://localhost:8080/"
        },
        "id": "J-o6G-Ld7Iq0",
        "outputId": "098323cd-d58d-4692-aa8e-c097656e6412"
      },
      "outputs": [
        {
          "output_type": "execute_result",
          "data": {
            "text/plain": [
              "1500"
            ]
          },
          "metadata": {},
          "execution_count": 46
        }
      ],
      "source": [
        "len(image_ds)"
      ]
    },
    {
      "cell_type": "code",
      "execution_count": 47,
      "metadata": {
        "colab": {
          "base_uri": "https://localhost:8080/"
        },
        "id": "lqJUiqvRqvde",
        "outputId": "0c9399a5-b106-4a7f-c170-03200f642885"
      },
      "outputs": [
        {
          "output_type": "stream",
          "name": "stdout",
          "text": [
            "tf.Tensor(1, shape=(), dtype=int64)\n",
            "tf.Tensor(0, shape=(), dtype=int64)\n",
            "tf.Tensor(0, shape=(), dtype=int64)\n",
            "tf.Tensor(0, shape=(), dtype=int64)\n"
          ]
        }
      ],
      "source": [
        "# a dataset that returns labels\n",
        "label_ds = tf.data.Dataset.from_tensor_slices(tf.cast(train_labels, tf.int64))\n",
        "for label in label_ds.take(4):\n",
        "  print(label)"
      ]
    },
    {
      "cell_type": "code",
      "execution_count": 48,
      "metadata": {
        "colab": {
          "base_uri": "https://localhost:8080/"
        },
        "id": "3iXH2UtVr51c",
        "outputId": "198343a2-cd31-404e-d0e1-c9434027cff0"
      },
      "outputs": [
        {
          "output_type": "stream",
          "name": "stdout",
          "text": [
            "<ZipDataset element_spec=(TensorSpec(shape=(180, 180, 3), dtype=tf.float32, name=None), TensorSpec(shape=(), dtype=tf.int64, name=None))>\n"
          ]
        }
      ],
      "source": [
        "# a dataset that returns images and labels\n",
        "image_label_ds = tf.data.Dataset.zip((image_ds, label_ds))\n",
        "print(image_label_ds)"
      ]
    },
    {
      "cell_type": "code",
      "execution_count": 49,
      "metadata": {
        "colab": {
          "base_uri": "https://localhost:8080/"
        },
        "id": "Iy8mOsZWtc_6",
        "outputId": "4f0d70c5-1d8e-482d-a4d6-ee27724a8aca"
      },
      "outputs": [
        {
          "output_type": "stream",
          "name": "stdout",
          "text": [
            "(180, 180, 3) 1\n",
            "(180, 180, 3) 0\n"
          ]
        }
      ],
      "source": [
        "for img, label in image_label_ds.take(2):\n",
        "  print(img.shape, label.numpy())"
      ]
    },
    {
      "cell_type": "code",
      "execution_count": 50,
      "metadata": {
        "colab": {
          "base_uri": "https://localhost:8080/"
        },
        "id": "1SLgUhH5tiSz",
        "outputId": "433e2f29-353b-4ee2-c083-d1821e5562aa"
      },
      "outputs": [
        {
          "output_type": "stream",
          "name": "stdout",
          "text": [
            "(64, 180, 180, 3) (64,)\n",
            "(64, 180, 180, 3) (64,)\n"
          ]
        }
      ],
      "source": [
        "train_ds = image_label_ds.shuffle(SHUFFLE_SIZE)\n",
        "train_ds = train_ds.batch(BATCH_SIZE).prefetch(buffer_size=AUTOTUNE)\n",
        "\n",
        "for img, label in train_ds.take(2):\n",
        "  print(img.shape, label.shape) # notice it's returning batches of data now"
      ]
    },
    {
      "cell_type": "markdown",
      "metadata": {
        "id": "aPSducfPcPbW"
      },
      "source": [
        "Benchmark Utility to test runtime:"
      ]
    },
    {
      "cell_type": "code",
      "execution_count": 51,
      "metadata": {
        "id": "R2XQz64SZxPL"
      },
      "outputs": [],
      "source": [
        "# A benchmark utility to time how long it takes\n",
        "# to iterate once over the entire dataset\n",
        "def time_one_epoch(ds):\n",
        "  start = time.time()\n",
        "  batches = 0\n",
        "  for i,(images,labels) in enumerate(ds):\n",
        "    batches += 1\n",
        "    if i % 10 == 0:\n",
        "      print('.', end='')\n",
        "  print()\n",
        "  end = time.time()\n",
        "  duration = end-start\n",
        "  print(\"Read {} batches\".format(batches))\n",
        "  print(\"{:0.2f} Batches/s\".format(batches/duration))\n",
        "  print(\"{:0.2f} Images/s\".format(BATCH_SIZE*batches/duration))\n",
        "  print(\"Total time: {}s\".format(duration))"
      ]
    },
    {
      "cell_type": "markdown",
      "metadata": {
        "id": "06BTmC5-cWzn"
      },
      "source": [
        "Use on-disk caching.\n",
        "Make a train dataset."
      ]
    },
    {
      "cell_type": "code",
      "execution_count": 52,
      "metadata": {
        "id": "8C_Lfplczqz5"
      },
      "outputs": [],
      "source": [
        "# making your training dataset with image and label pairs\n",
        "# train_ds = image_label_ds.cache(filename='./cache.tf-data')\n",
        "train_ds = image_label_ds.shuffle(buffer_size=BUFFER_SIZE)\n",
        "train_ds = train_ds.batch(BATCH_SIZE).prefetch(buffer_size=AUTOTUNE)"
      ]
    },
    {
      "cell_type": "code",
      "execution_count": 53,
      "metadata": {
        "colab": {
          "base_uri": "https://localhost:8080/"
        },
        "id": "TcMZ9R9qbTfb",
        "outputId": "6feedebd-34f3-497b-8dbe-ed36562f8134"
      },
      "outputs": [
        {
          "output_type": "stream",
          "name": "stdout",
          "text": [
            "0.0\n",
            "0.9947012\n"
          ]
        }
      ],
      "source": [
        "for each, label in train_ds.take(1):\n",
        "  print(each.numpy().min())\n",
        "  print(each.numpy().max())"
      ]
    },
    {
      "cell_type": "code",
      "execution_count": 54,
      "metadata": {
        "colab": {
          "base_uri": "https://localhost:8080/"
        },
        "id": "enhNeg5Wzv6I",
        "outputId": "b6e3405d-0335-4ae5-80e5-a9ae4eb648d1"
      },
      "outputs": [
        {
          "output_type": "stream",
          "name": "stdout",
          "text": [
            "...\n",
            "Read 24 batches\n",
            "40.24 Batches/s\n",
            "2575.58 Images/s\n",
            "Total time: 0.5963695049285889s\n"
          ]
        }
      ],
      "source": [
        "time_one_epoch(train_ds) # this will be slow"
      ]
    },
    {
      "cell_type": "markdown",
      "metadata": {
        "id": "AqFesX4YcdUT"
      },
      "source": [
        "Now that the cache is built, iteration will be much faster."
      ]
    },
    {
      "cell_type": "code",
      "execution_count": 55,
      "metadata": {
        "colab": {
          "base_uri": "https://localhost:8080/"
        },
        "id": "rzHhzS-CcdyC",
        "outputId": "0fab4fc5-a12c-43bc-923f-89b0368364c4"
      },
      "outputs": [
        {
          "output_type": "stream",
          "name": "stdout",
          "text": [
            "...\n",
            "Read 24 batches\n",
            "156.08 Batches/s\n",
            "9989.13 Images/s\n",
            "Total time: 0.15376710891723633s\n"
          ]
        }
      ],
      "source": [
        "time_one_epoch(train_ds) # this will be fast"
      ]
    },
    {
      "cell_type": "markdown",
      "metadata": {
        "id": "PsIXNpwIiSit"
      },
      "source": [
        "Make a test dataset"
      ]
    },
    {
      "cell_type": "code",
      "execution_count": 56,
      "metadata": {
        "colab": {
          "base_uri": "https://localhost:8080/"
        },
        "id": "foyCgk-TZC1G",
        "outputId": "c3fd1e7f-a9a8-49ce-e905-ebe7b7f8681e"
      },
      "outputs": [
        {
          "output_type": "stream",
          "name": "stdout",
          "text": [
            "311.215544462204\n"
          ]
        }
      ],
      "source": [
        "# PILLOW method runtime\n",
        "test_list = []\n",
        "start = time.time()\n",
        "for path in test_paths:\n",
        "  test_list.append(load_and_preprocess_image(path))\n",
        "end = time.time()\n",
        "print(end-start)"
      ]
    },
    {
      "cell_type": "code",
      "execution_count": 57,
      "metadata": {
        "colab": {
          "base_uri": "https://localhost:8080/"
        },
        "id": "iSxqcXgvbAcW",
        "outputId": "be6312c1-21c3-4cee-ad01-a0daef7c1cd7"
      },
      "outputs": [
        {
          "output_type": "execute_result",
          "data": {
            "text/plain": [
              "500"
            ]
          },
          "metadata": {},
          "execution_count": 57
        }
      ],
      "source": [
        "len(test_list)"
      ]
    },
    {
      "cell_type": "code",
      "source": [
        "test_list[0]"
      ],
      "metadata": {
        "colab": {
          "base_uri": "https://localhost:8080/"
        },
        "id": "x46LKQo6w8bv",
        "outputId": "537447f2-7b4a-4f24-d1c5-d053d625a68c"
      },
      "execution_count": 58,
      "outputs": [
        {
          "output_type": "execute_result",
          "data": {
            "text/plain": [
              "<tf.Tensor: shape=(180, 180, 3), dtype=float32, numpy=\n",
              "array([[[0.30697122, 0.36575165, 0.34366015],\n",
              "        [0.3298475 , 0.38113436, 0.3454045 ],\n",
              "        [0.31202614, 0.37050352, 0.32692814],\n",
              "        ...,\n",
              "        [0.2841831 , 0.3372549 , 0.327756  ],\n",
              "        [0.28823385, 0.34117648, 0.3353813 ],\n",
              "        [0.2800871 , 0.34427017, 0.3434423 ]],\n",
              "\n",
              "       [[0.32427016, 0.371939  , 0.3492375 ],\n",
              "        [0.3431329 , 0.38770807, 0.35451418],\n",
              "        [0.32702252, 0.3800944 , 0.33808282],\n",
              "        ...,\n",
              "        [0.2755121 , 0.33973858, 0.32156864],\n",
              "        [0.28379086, 0.34208715, 0.32889324],\n",
              "        [0.28152215, 0.34479448, 0.33538127]],\n",
              "\n",
              "       [[0.30104333, 0.35167757, 0.34305254],\n",
              "        [0.3213072 , 0.36888164, 0.35264343],\n",
              "        [0.3124546 , 0.36384654, 0.34095863],\n",
              "        ...,\n",
              "        [0.27475193, 0.34117648, 0.32200438],\n",
              "        [0.27835152, 0.34283224, 0.32714596],\n",
              "        [0.2783854 , 0.34823772, 0.33255145]],\n",
              "\n",
              "       ...,\n",
              "\n",
              "       [[0.28692797, 0.35354865, 0.33250546],\n",
              "        [0.28430635, 0.35075518, 0.3269281 ],\n",
              "        [0.2825345 , 0.34878966, 0.32156864],\n",
              "        ...,\n",
              "        [0.30217862, 0.35686275, 0.34488022],\n",
              "        [0.29660133, 0.3514234 , 0.3342992 ],\n",
              "        [0.29721135, 0.34587994, 0.32317838]],\n",
              "\n",
              "       [[0.28152508, 0.35045752, 0.33250546],\n",
              "        [0.27752072, 0.35045752, 0.3269281 ],\n",
              "        [0.28692812, 0.35037765, 0.32156864],\n",
              "        ...,\n",
              "        [0.29673928, 0.35128546, 0.33973858],\n",
              "        [0.29555556, 0.35791722, 0.33778214],\n",
              "        [0.30226728, 0.36087295, 0.33424985]],\n",
              "\n",
              "       [[0.28396565, 0.3591286 , 0.33250546],\n",
              "        [0.27594772, 0.3591286 , 0.3269281 ],\n",
              "        [0.28383443, 0.35564515, 0.32156864],\n",
              "        ...,\n",
              "        [0.29102397, 0.34553626, 0.33708307],\n",
              "        [0.29473057, 0.36087295, 0.3434452 ],\n",
              "        [0.30732033, 0.3733339 , 0.3498045 ]]], dtype=float32)>"
            ]
          },
          "metadata": {},
          "execution_count": 58
        }
      ]
    },
    {
      "cell_type": "code",
      "execution_count": 59,
      "metadata": {
        "id": "fjVm18KeiZyx"
      },
      "outputs": [],
      "source": [
        "# let's make a test dataset as well\n",
        "# path_ds = tf.data.Dataset.from_tensor_slices(test_paths)\n",
        "# image_ds = path_ds.map(load_and_preprocess_image, num_parallel_calls=AUTOTUNE)\n",
        "test_images_ds = tf.data.Dataset.from_tensor_slices(test_list)\n",
        "test_label_ds = tf.data.Dataset.from_tensor_slices(tf.cast(test_labels, tf.int64))\n",
        "image_label_ds = tf.data.Dataset.zip((test_images_ds, test_label_ds))\n",
        "# test_ds = image_label_ds.cache(filename='./test_cache.tf-data')\n",
        "test_ds = image_label_ds.shuffle(buffer_size=BUFFER_SIZE)\n",
        "test_ds = test_ds.batch(BATCH_SIZE).prefetch(buffer_size=AUTOTUNE) # added this line to fix dim mismatch"
      ]
    },
    {
      "cell_type": "code",
      "source": [
        "for each in test_ds.take(1):\n",
        "  print(each[0].numpy().min())\n",
        "  print(each[0].numpy().max())"
      ],
      "metadata": {
        "colab": {
          "base_uri": "https://localhost:8080/"
        },
        "id": "eudHI0nvxKzH",
        "outputId": "234f9633-c036-4ec4-df88-5594a950d80f"
      },
      "execution_count": 68,
      "outputs": [
        {
          "output_type": "stream",
          "name": "stdout",
          "text": [
            "0.0\n",
            "0.99607843\n"
          ]
        }
      ]
    },
    {
      "cell_type": "code",
      "execution_count": 69,
      "metadata": {
        "id": "sjkKZuXccf9S"
      },
      "outputs": [],
      "source": [
        "my_model = models.Sequential()\n",
        "my_model.add(layers.Conv2D(64, (3, 3), activation=\"relu\", input_shape=(IMG_SIZE, IMG_SIZE, 3)))\n",
        "my_model.add(layers.MaxPooling2D())\n",
        "my_model.add(layers.Conv2D(128, (3, 3), activation=\"relu\", input_shape=(IMG_SIZE, IMG_SIZE, 3)))\n",
        "my_model.add(layers.MaxPooling2D())\n",
        "my_model.add(layers.Flatten())\n",
        "my_model.add(layers.Dense(128, activation=\"relu\"))\n",
        "my_model.add(layers.Dense(1, activation=\"sigmoid\"))"
      ]
    },
    {
      "cell_type": "code",
      "execution_count": 70,
      "metadata": {
        "colab": {
          "base_uri": "https://localhost:8080/"
        },
        "id": "9geJxE--f9cs",
        "outputId": "e96a83d0-e8bd-42e5-8a6e-c21418f81647"
      },
      "outputs": [
        {
          "output_type": "stream",
          "name": "stdout",
          "text": [
            "Model: \"sequential\"\n",
            "_________________________________________________________________\n",
            " Layer (type)                Output Shape              Param #   \n",
            "=================================================================\n",
            " conv2d (Conv2D)             (None, 178, 178, 64)      1792      \n",
            "                                                                 \n",
            " max_pooling2d (MaxPooling2D  (None, 89, 89, 64)       0         \n",
            " )                                                               \n",
            "                                                                 \n",
            " conv2d_1 (Conv2D)           (None, 87, 87, 128)       73856     \n",
            "                                                                 \n",
            " max_pooling2d_1 (MaxPooling  (None, 43, 43, 128)      0         \n",
            " 2D)                                                             \n",
            "                                                                 \n",
            " flatten (Flatten)           (None, 236672)            0         \n",
            "                                                                 \n",
            " dense (Dense)               (None, 128)               30294144  \n",
            "                                                                 \n",
            " dense_1 (Dense)             (None, 1)                 129       \n",
            "                                                                 \n",
            "=================================================================\n",
            "Total params: 30,369,921\n",
            "Trainable params: 30,369,921\n",
            "Non-trainable params: 0\n",
            "_________________________________________________________________\n"
          ]
        }
      ],
      "source": [
        "my_model.summary()"
      ]
    },
    {
      "cell_type": "code",
      "execution_count": null,
      "metadata": {
        "id": "KFCWdq40gBB2"
      },
      "outputs": [],
      "source": [
        "# my_model.compile(optimizer='adam',\n",
        "#               loss='sparse_categorical_crossentropy',\n",
        "#               metrics=['accuracy'])"
      ]
    },
    {
      "cell_type": "code",
      "execution_count": 71,
      "metadata": {
        "id": "XdtiV66qiVUo"
      },
      "outputs": [],
      "source": [
        "my_model.compile(optimizer='adam',\n",
        "              loss='binary_crossentropy',\n",
        "              metrics=['accuracy'])"
      ]
    },
    {
      "cell_type": "code",
      "execution_count": 72,
      "metadata": {
        "colab": {
          "base_uri": "https://localhost:8080/"
        },
        "id": "_zaGwKcJLscO",
        "outputId": "65f78029-58b2-46c0-e5ea-774ded164b78"
      },
      "outputs": [
        {
          "output_type": "stream",
          "name": "stderr",
          "text": [
            "WARNING:tensorflow:`period` argument is deprecated. Please use `save_freq` to specify the frequency in number of batches seen.\n"
          ]
        }
      ],
      "source": [
        "# to save checkpoints of the model\n",
        "checkpoint = ModelCheckpoint(\"best_model_checkpoint.hdf5\", monitor='val_loss', verbose=1,\n",
        "    save_best_only=True, mode='auto', period=1)"
      ]
    },
    {
      "cell_type": "markdown",
      "metadata": {
        "id": "Birbj5PxfTgu"
      },
      "source": [
        "Try models with smaller dataset first to optimize. For example use a premade model or use binary-loss instead of categorical cross entropy. Or change problem with binary classification to multiclass classification. Also look at what the papers did for their models."
      ]
    },
    {
      "cell_type": "code",
      "execution_count": 73,
      "metadata": {
        "colab": {
          "base_uri": "https://localhost:8080/"
        },
        "id": "2vHOInxS0Ejb",
        "outputId": "e14906d1-c1ad-4593-987d-1b1256403902"
      },
      "outputs": [
        {
          "output_type": "stream",
          "name": "stdout",
          "text": [
            "0.9882353\n",
            "0.0011982784\n",
            "tf.Tensor(\n",
            "[0 1 0 1 1 0 0 0 0 0 1 1 1 0 0 0 1 0 0 1 1 0 0 1 1 0 1 0 1 1 0 0 0 1 0 0 0\n",
            " 1 1 0 1 0 0 0 1 0 1 0 0 1 0 0 1 1 1 1 1 0 0 0 1 1 0 0], shape=(64,), dtype=int64)\n"
          ]
        }
      ],
      "source": [
        "# Make sure the shape of the test is correct\n",
        "for each, label in train_ds.take(1):\n",
        "  print(each.numpy().max())\n",
        "  print(each.numpy().min())\n",
        "  print(label)"
      ]
    },
    {
      "cell_type": "code",
      "execution_count": 74,
      "metadata": {
        "colab": {
          "base_uri": "https://localhost:8080/"
        },
        "id": "QDgyPSgkgGdr",
        "outputId": "93f98910-97f2-49b0-c61e-be2e34c5b67b"
      },
      "outputs": [
        {
          "output_type": "stream",
          "name": "stdout",
          "text": [
            "Epoch 1/15\n",
            "24/24 [==============================] - ETA: 0s - loss: 1.0302 - accuracy: 0.5940\n",
            "Epoch 1: val_loss improved from inf to 0.63272, saving model to best_model_checkpoint.hdf5\n",
            "24/24 [==============================] - 18s 384ms/step - loss: 1.0302 - accuracy: 0.5940 - val_loss: 0.6327 - val_accuracy: 0.6620\n",
            "Epoch 2/15\n",
            "24/24 [==============================] - ETA: 0s - loss: 0.6221 - accuracy: 0.6813\n",
            "Epoch 2: val_loss improved from 0.63272 to 0.58525, saving model to best_model_checkpoint.hdf5\n",
            "24/24 [==============================] - 4s 187ms/step - loss: 0.6221 - accuracy: 0.6813 - val_loss: 0.5853 - val_accuracy: 0.7020\n",
            "Epoch 3/15\n",
            "24/24 [==============================] - ETA: 0s - loss: 0.5684 - accuracy: 0.7313\n",
            "Epoch 3: val_loss improved from 0.58525 to 0.57305, saving model to best_model_checkpoint.hdf5\n",
            "24/24 [==============================] - 4s 184ms/step - loss: 0.5684 - accuracy: 0.7313 - val_loss: 0.5730 - val_accuracy: 0.7080\n",
            "Epoch 4/15\n",
            "24/24 [==============================] - ETA: 0s - loss: 0.5589 - accuracy: 0.7267\n",
            "Epoch 4: val_loss improved from 0.57305 to 0.54202, saving model to best_model_checkpoint.hdf5\n",
            "24/24 [==============================] - 4s 190ms/step - loss: 0.5589 - accuracy: 0.7267 - val_loss: 0.5420 - val_accuracy: 0.7420\n",
            "Epoch 5/15\n",
            "24/24 [==============================] - ETA: 0s - loss: 0.5491 - accuracy: 0.7360\n",
            "Epoch 5: val_loss improved from 0.54202 to 0.51307, saving model to best_model_checkpoint.hdf5\n",
            "24/24 [==============================] - 4s 180ms/step - loss: 0.5491 - accuracy: 0.7360 - val_loss: 0.5131 - val_accuracy: 0.7560\n",
            "Epoch 6/15\n",
            "24/24 [==============================] - ETA: 0s - loss: 0.5322 - accuracy: 0.7473\n",
            "Epoch 6: val_loss did not improve from 0.51307\n",
            "24/24 [==============================] - 3s 133ms/step - loss: 0.5322 - accuracy: 0.7473 - val_loss: 0.5628 - val_accuracy: 0.7160\n",
            "Epoch 7/15\n",
            "24/24 [==============================] - ETA: 0s - loss: 0.5428 - accuracy: 0.7160\n",
            "Epoch 7: val_loss improved from 0.51307 to 0.51059, saving model to best_model_checkpoint.hdf5\n",
            "24/24 [==============================] - 4s 185ms/step - loss: 0.5428 - accuracy: 0.7160 - val_loss: 0.5106 - val_accuracy: 0.7760\n",
            "Epoch 8/15\n",
            "24/24 [==============================] - ETA: 0s - loss: 0.5044 - accuracy: 0.7553\n",
            "Epoch 8: val_loss improved from 0.51059 to 0.49550, saving model to best_model_checkpoint.hdf5\n",
            "24/24 [==============================] - 5s 205ms/step - loss: 0.5044 - accuracy: 0.7553 - val_loss: 0.4955 - val_accuracy: 0.7760\n",
            "Epoch 9/15\n",
            "24/24 [==============================] - ETA: 0s - loss: 0.5078 - accuracy: 0.7520\n",
            "Epoch 9: val_loss did not improve from 0.49550\n",
            "24/24 [==============================] - 3s 132ms/step - loss: 0.5078 - accuracy: 0.7520 - val_loss: 0.5133 - val_accuracy: 0.7900\n",
            "Epoch 10/15\n",
            "24/24 [==============================] - ETA: 0s - loss: 0.4932 - accuracy: 0.7760\n",
            "Epoch 10: val_loss improved from 0.49550 to 0.47263, saving model to best_model_checkpoint.hdf5\n",
            "24/24 [==============================] - 4s 188ms/step - loss: 0.4932 - accuracy: 0.7760 - val_loss: 0.4726 - val_accuracy: 0.7940\n",
            "Epoch 11/15\n",
            "24/24 [==============================] - ETA: 0s - loss: 0.4853 - accuracy: 0.7727\n",
            "Epoch 11: val_loss did not improve from 0.47263\n",
            "24/24 [==============================] - 3s 133ms/step - loss: 0.4853 - accuracy: 0.7727 - val_loss: 0.5081 - val_accuracy: 0.8000\n",
            "Epoch 12/15\n",
            "24/24 [==============================] - ETA: 0s - loss: 0.4724 - accuracy: 0.7827\n",
            "Epoch 12: val_loss improved from 0.47263 to 0.45678, saving model to best_model_checkpoint.hdf5\n",
            "24/24 [==============================] - 5s 200ms/step - loss: 0.4724 - accuracy: 0.7827 - val_loss: 0.4568 - val_accuracy: 0.8180\n",
            "Epoch 13/15\n",
            "24/24 [==============================] - ETA: 0s - loss: 0.4516 - accuracy: 0.7973\n",
            "Epoch 13: val_loss did not improve from 0.45678\n",
            "24/24 [==============================] - 3s 133ms/step - loss: 0.4516 - accuracy: 0.7973 - val_loss: 0.5212 - val_accuracy: 0.7700\n",
            "Epoch 14/15\n",
            "24/24 [==============================] - ETA: 0s - loss: 0.4608 - accuracy: 0.7987\n",
            "Epoch 14: val_loss did not improve from 0.45678\n",
            "24/24 [==============================] - 3s 132ms/step - loss: 0.4608 - accuracy: 0.7987 - val_loss: 0.4786 - val_accuracy: 0.8140\n",
            "Epoch 15/15\n",
            "24/24 [==============================] - ETA: 0s - loss: 0.4491 - accuracy: 0.8007\n",
            "Epoch 15: val_loss did not improve from 0.45678\n",
            "24/24 [==============================] - 3s 133ms/step - loss: 0.4491 - accuracy: 0.8007 - val_loss: 0.4990 - val_accuracy: 0.8040\n"
          ]
        },
        {
          "output_type": "execute_result",
          "data": {
            "text/plain": [
              "<keras.callbacks.History at 0x7f0e06249890>"
            ]
          },
          "metadata": {},
          "execution_count": 74
        }
      ],
      "source": [
        "my_model.fit(train_ds, validation_data=test_ds, epochs=15, callbacks=[checkpoint])"
      ]
    },
    {
      "cell_type": "markdown",
      "source": [
        "Make predictions with best model:"
      ],
      "metadata": {
        "id": "BNECU7gs4Zwu"
      }
    },
    {
      "cell_type": "code",
      "source": [
        "# load saved model\n",
        "test_model = keras.models.load_model('./best_model_checkpoint.hdf5')"
      ],
      "metadata": {
        "id": "M6pQPcF04eoW"
      },
      "execution_count": 79,
      "outputs": []
    },
    {
      "cell_type": "code",
      "source": [
        "# load an image off disk\n",
        "correct = 0\n",
        "for i in range(10):\n",
        "  img_index = random.randrange(2001, len(all_img_paths))\n",
        "  img = load_and_preprocess_image(all_img_paths[img_index])\n",
        "\n",
        "  print(img.shape) # before\n",
        "\n",
        "  im_batch = tf.expand_dims(img, axis=0) # YOUR CODE HERE, use tf.expand_dims\n",
        "\n",
        "  print(im_batch.shape) # after\n",
        "\n",
        "  # make predictions\n",
        "  batch_pred = test_model.predict(im_batch) # returns a list of predictions\n",
        "  pred = batch_pred[0] \n",
        "\n",
        "  print(\"Prediction: \", round(pred[0]))\n",
        "  print(\"Actual: \", all_bin_labels[img_index])\n",
        "  display.display(display.Image(all_img_paths[img_index]))\n",
        "  if round(pred[0]) == all_bin_labels[img_index]:\n",
        "    correct += 1\n",
        "\n",
        "print(\"\")\n",
        "print(\"Accuracy is: %d/10\" % correct)"
      ],
      "metadata": {
        "colab": {
          "base_uri": "https://localhost:8080/",
          "height": 1000
        },
        "id": "-B6F6Un61eal",
        "outputId": "1d3d4dac-8eb7-41a3-c438-76d8b1a33fec"
      },
      "execution_count": 95,
      "outputs": [
        {
          "output_type": "stream",
          "name": "stdout",
          "text": [
            "(180, 180, 3)\n",
            "(1, 180, 180, 3)\n",
            "1/1 [==============================] - 0s 18ms/step\n",
            "Prediction:  0\n",
            "Actual:  0\n"
          ]
        },
        {
          "output_type": "display_data",
          "data": {
            "image/jpeg": "[encoded data removed]",
            "text/plain": [
              "<IPython.core.display.Image object>"
            ]
          },
          "metadata": {}
        },
        {
          "output_type": "stream",
          "name": "stdout",
          "text": [
            "(180, 180, 3)\n",
            "(1, 180, 180, 3)\n",
            "1/1 [==============================] - 0s 30ms/step\n",
            "Prediction:  0\n",
            "Actual:  0\n"
          ]
        },
        {
          "output_type": "display_data",
          "data": {
            "image/jpeg": "[encoded data removed]",
            "text/plain": [
              "<IPython.core.display.Image object>"
            ]
          },
          "metadata": {}
        },
        {
          "output_type": "stream",
          "name": "stdout",
          "text": [
            "(180, 180, 3)\n",
            "(1, 180, 180, 3)\n",
            "1/1 [==============================] - 0s 19ms/step\n",
            "Prediction:  0\n",
            "Actual:  0\n"
          ]
        },
        {
          "output_type": "display_data",
          "data": {
            "image/jpeg": "[encoded data removed]",
            "text/plain": [
              "<IPython.core.display.Image object>"
            ]
          },
          "metadata": {}
        },
        {
          "output_type": "stream",
          "name": "stdout",
          "text": [
            "(180, 180, 3)\n",
            "(1, 180, 180, 3)\n",
            "1/1 [==============================] - 0s 17ms/step\n",
            "Prediction:  0\n",
            "Actual:  0\n"
          ]
        },
        {
          "output_type": "display_data",
          "data": {
            "image/jpeg": "[encoded data removed]",
            "text/plain": [
              "<IPython.core.display.Image object>"
            ]
          },
          "metadata": {}
        },
        {
          "output_type": "stream",
          "name": "stdout",
          "text": [
            "(180, 180, 3)\n",
            "(1, 180, 180, 3)\n",
            "1/1 [==============================] - 0s 19ms/step\n",
            "Prediction:  0\n",
            "Actual:  0\n"
          ]
        },
        {
          "output_type": "display_data",
          "data": {
            "image/jpeg": "[encoded data removed]",
            "text/plain": [
              "<IPython.core.display.Image object>"
            ]
          },
          "metadata": {}
        },
        {
          "output_type": "stream",
          "name": "stdout",
          "text": [
            "(180, 180, 3)\n",
            "(1, 180, 180, 3)\n",
            "1/1 [==============================] - 0s 15ms/step\n",
            "Prediction:  1\n",
            "Actual:  1\n"
          ]
        },
        {
          "output_type": "display_data",
          "data": {
            "image/jpeg": "[encoded data removed]",
            "text/plain": [
              "<IPython.core.display.Image object>"
            ]
          },
          "metadata": {}
        },
        {
          "output_type": "stream",
          "name": "stdout",
          "text": [
            "(180, 180, 3)\n",
            "(1, 180, 180, 3)\n",
            "1/1 [==============================] - 0s 15ms/step\n",
            "Prediction:  0\n",
            "Actual:  0\n"
          ]
        },
        {
          "output_type": "display_data",
          "data": {
            "image/jpeg": "[encoded data removed]",
            "text/plain": [
              "<IPython.core.display.Image object>"
            ]
          },
          "metadata": {}
        },
        {
          "output_type": "stream",
          "name": "stdout",
          "text": [
            "(180, 180, 3)\n",
            "(1, 180, 180, 3)\n",
            "1/1 [==============================] - 0s 18ms/step\n",
            "Prediction:  1\n",
            "Actual:  0\n"
          ]
        },
        {
          "output_type": "display_data",
          "data": {
            "image/jpeg": "[encoded data removed]",
            "text/plain": [
              "<IPython.core.display.Image object>"
            ]
          },
          "metadata": {}
        },
        {
          "output_type": "stream",
          "name": "stdout",
          "text": [
            "(180, 180, 3)\n",
            "(1, 180, 180, 3)\n",
            "1/1 [==============================] - 0s 18ms/step\n",
            "Prediction:  1\n",
            "Actual:  1\n"
          ]
        },
        {
          "output_type": "display_data",
          "data": {
            "image/jpeg": "[encoded data removed]",
            "text/plain": [
              "<IPython.core.display.Image object>"
            ]
          },
          "metadata": {}
        },
        {
          "output_type": "stream",
          "name": "stdout",
          "text": [
            "(180, 180, 3)\n",
            "(1, 180, 180, 3)\n",
            "1/1 [==============================] - 0s 16ms/step\n",
            "Prediction:  0\n",
            "Actual:  0\n"
          ]
        },
        {
          "output_type": "display_data",
          "data": {
            "image/jpeg": "[encoded data removed]",
            "text/plain": [
              "<IPython.core.display.Image object>"
            ]
          },
          "metadata": {}
        },
        {
          "output_type": "stream",
          "name": "stdout",
          "text": [
            "\n",
            "Accuracy is: 9/10\n"
          ]
        }
      ]
    },
    {
      "cell_type": "markdown",
      "metadata": {
        "id": "rYGZP0qgsfAI"
      },
      "source": [
        "Try using a ResNet50 Model for transfer learning:"
      ]
    },
    {
      "cell_type": "code",
      "execution_count": 120,
      "metadata": {
        "id": "Gfue4KPCrIqv",
        "colab": {
          "base_uri": "https://localhost:8080/"
        },
        "outputId": "b6c179b7-57f9-4d14-c13b-cb2fbed2c538"
      },
      "outputs": [
        {
          "output_type": "stream",
          "name": "stdout",
          "text": [
            "Downloading data from https://storage.googleapis.com/tensorflow/keras-applications/resnet/resnet50_weights_tf_dim_ordering_tf_kernels_notop.h5\n",
            "94765736/94765736 [==============================] - 5s 0us/step\n"
          ]
        }
      ],
      "source": [
        "base_model = tf.keras.applications.ResNet50(include_top=False, input_shape=(IMG_SIZE, IMG_SIZE, 3))"
      ]
    },
    {
      "cell_type": "code",
      "execution_count": 122,
      "metadata": {
        "id": "YrkDPparrtyy"
      },
      "outputs": [],
      "source": [
        "global_average_layer = tf.keras.layers.GlobalAveragePooling2D()\n",
        "prediction_layer = tf.keras.layers.Dense(1, activation='sigmoid')"
      ]
    },
    {
      "cell_type": "code",
      "execution_count": 123,
      "metadata": {
        "id": "lx5UDY41sOTY"
      },
      "outputs": [],
      "source": [
        "resNet = tf.keras.Sequential([\n",
        "  base_model,\n",
        "  global_average_layer,\n",
        "  prediction_layer\n",
        "])"
      ]
    },
    {
      "cell_type": "code",
      "execution_count": 124,
      "metadata": {
        "id": "QVyqvhyjrODj"
      },
      "outputs": [],
      "source": [
        "resNet.compile(optimizer='adam',\n",
        "              loss='binary_crossentropy',\n",
        "              metrics=['accuracy'])"
      ]
    },
    {
      "cell_type": "code",
      "source": [
        "# to save checkpoints of the model\n",
        "checkpoint2 = ModelCheckpoint(\"best_resnet_model.hdf5\", monitor='val_loss', verbose=1,\n",
        "    save_best_only=True, mode='auto', period=1)"
      ],
      "metadata": {
        "colab": {
          "base_uri": "https://localhost:8080/"
        },
        "id": "U7FVb5Zh-kyt",
        "outputId": "18a4de20-02a2-4a43-a5b6-cd3cd40d8671"
      },
      "execution_count": 125,
      "outputs": [
        {
          "output_type": "stream",
          "name": "stderr",
          "text": [
            "WARNING:tensorflow:`period` argument is deprecated. Please use `save_freq` to specify the frequency in number of batches seen.\n"
          ]
        }
      ]
    },
    {
      "cell_type": "code",
      "source": [
        "for each, label in test_ds.take(1):\n",
        "  print(each.numpy().max())\n",
        "  print(each.numpy().min())\n",
        "  print(label)"
      ],
      "metadata": {
        "colab": {
          "base_uri": "https://localhost:8080/"
        },
        "id": "jO2qWoj__K45",
        "outputId": "26a844f7-aee9-405a-d200-a4f7268860f7"
      },
      "execution_count": 126,
      "outputs": [
        {
          "output_type": "stream",
          "name": "stdout",
          "text": [
            "0.9978006\n",
            "0.0022657507\n",
            "tf.Tensor(\n",
            "[1 1 0 0 0 1 0 1 0 0 1 1 0 0 1 0 1 0 1 0 0 0 0 0 0 1 0 0 1 0 0 0 0 0 1 0 1\n",
            " 0 0 0 0 0 1 1 0 1 0 1 0 0 1 1 0 0 1 1 0 0 0 1 1 0 0 0], shape=(64,), dtype=int64)\n"
          ]
        }
      ]
    },
    {
      "cell_type": "code",
      "execution_count": 129,
      "metadata": {
        "colab": {
          "base_uri": "https://localhost:8080/",
          "height": 1000
        },
        "id": "7fxonFXJrbpm",
        "outputId": "973556c1-e09d-45b6-d3c2-1937b17661de"
      },
      "outputs": [
        {
          "output_type": "stream",
          "name": "stdout",
          "text": [
            "Epoch 1/20\n",
            "24/24 [==============================] - ETA: 0s - loss: 0.3864 - accuracy: 0.8453\n",
            "Epoch 1: val_loss improved from 3657.45508 to 44.51215, saving model to best_resnet_model.hdf5\n",
            "24/24 [==============================] - 15s 640ms/step - loss: 0.3864 - accuracy: 0.8453 - val_loss: 44.5121 - val_accuracy: 0.5900\n",
            "Epoch 2/20\n",
            "24/24 [==============================] - ETA: 0s - loss: 0.3229 - accuracy: 0.8760\n",
            "Epoch 2: val_loss improved from 44.51215 to 2.07061, saving model to best_resnet_model.hdf5\n",
            "24/24 [==============================] - 13s 550ms/step - loss: 0.3229 - accuracy: 0.8760 - val_loss: 2.0706 - val_accuracy: 0.5900\n",
            "Epoch 3/20\n",
            "24/24 [==============================] - ETA: 0s - loss: 0.2674 - accuracy: 0.8980\n",
            "Epoch 3: val_loss improved from 2.07061 to 1.20106, saving model to best_resnet_model.hdf5\n",
            "24/24 [==============================] - 13s 558ms/step - loss: 0.2674 - accuracy: 0.8980 - val_loss: 1.2011 - val_accuracy: 0.5900\n",
            "Epoch 4/20\n",
            "24/24 [==============================] - ETA: 0s - loss: 0.2336 - accuracy: 0.9093\n",
            "Epoch 4: val_loss improved from 1.20106 to 0.67807, saving model to best_resnet_model.hdf5\n",
            "24/24 [==============================] - 13s 553ms/step - loss: 0.2336 - accuracy: 0.9093 - val_loss: 0.6781 - val_accuracy: 0.5900\n",
            "Epoch 5/20\n",
            "24/24 [==============================] - ETA: 0s - loss: 0.2165 - accuracy: 0.9207\n",
            "Epoch 5: val_loss did not improve from 0.67807\n",
            "24/24 [==============================] - 11s 478ms/step - loss: 0.2165 - accuracy: 0.9207 - val_loss: 1.6875 - val_accuracy: 0.5900\n",
            "Epoch 6/20\n",
            "24/24 [==============================] - ETA: 0s - loss: 0.1748 - accuracy: 0.9433\n",
            "Epoch 6: val_loss did not improve from 0.67807\n",
            "24/24 [==============================] - 12s 481ms/step - loss: 0.1748 - accuracy: 0.9433 - val_loss: 0.6784 - val_accuracy: 0.5900\n",
            "Epoch 7/20\n",
            "24/24 [==============================] - ETA: 0s - loss: 0.1709 - accuracy: 0.9380\n",
            "Epoch 7: val_loss did not improve from 0.67807\n",
            "24/24 [==============================] - 12s 481ms/step - loss: 0.1709 - accuracy: 0.9380 - val_loss: 0.6821 - val_accuracy: 0.5900\n",
            "Epoch 8/20\n",
            "24/24 [==============================] - ETA: 0s - loss: 0.1169 - accuracy: 0.9607\n",
            "Epoch 8: val_loss did not improve from 0.67807\n",
            "24/24 [==============================] - 11s 480ms/step - loss: 0.1169 - accuracy: 0.9607 - val_loss: 0.6874 - val_accuracy: 0.5900\n",
            "Epoch 9/20\n",
            "24/24 [==============================] - ETA: 0s - loss: 0.1731 - accuracy: 0.9347\n",
            "Epoch 9: val_loss did not improve from 0.67807\n",
            "24/24 [==============================] - 12s 481ms/step - loss: 0.1731 - accuracy: 0.9347 - val_loss: 0.6822 - val_accuracy: 0.5900\n",
            "Epoch 10/20\n",
            "24/24 [==============================] - ETA: 0s - loss: 0.1607 - accuracy: 0.9400\n",
            "Epoch 10: val_loss did not improve from 0.67807\n",
            "24/24 [==============================] - 12s 481ms/step - loss: 0.1607 - accuracy: 0.9400 - val_loss: 1.2923 - val_accuracy: 0.5900\n",
            "Epoch 11/20\n",
            " 8/24 [=========>....................] - ETA: 7s - loss: 0.1067 - accuracy: 0.9727"
          ]
        },
        {
          "output_type": "error",
          "ename": "KeyboardInterrupt",
          "evalue": "ignored",
          "traceback": [
            "\u001b[0;31m---------------------------------------------------------------------------\u001b[0m",
            "\u001b[0;31mKeyboardInterrupt\u001b[0m                         Traceback (most recent call last)",
            "\u001b[0;32m<ipython-input-129-4bcbdc99f393>\u001b[0m in \u001b[0;36m<module>\u001b[0;34m\u001b[0m\n\u001b[0;32m----> 1\u001b[0;31m \u001b[0mresNet_history\u001b[0m \u001b[0;34m=\u001b[0m \u001b[0mresNet\u001b[0m\u001b[0;34m.\u001b[0m\u001b[0mfit\u001b[0m\u001b[0;34m(\u001b[0m\u001b[0mtrain_ds\u001b[0m\u001b[0;34m,\u001b[0m \u001b[0mvalidation_data\u001b[0m\u001b[0;34m=\u001b[0m\u001b[0mtest_ds\u001b[0m\u001b[0;34m,\u001b[0m \u001b[0mepochs\u001b[0m\u001b[0;34m=\u001b[0m\u001b[0;36m20\u001b[0m\u001b[0;34m,\u001b[0m \u001b[0mcallbacks\u001b[0m\u001b[0;34m=\u001b[0m\u001b[0;34m[\u001b[0m\u001b[0mcheckpoint2\u001b[0m\u001b[0;34m]\u001b[0m\u001b[0;34m)\u001b[0m\u001b[0;34m\u001b[0m\u001b[0;34m\u001b[0m\u001b[0m\n\u001b[0m",
            "\u001b[0;32m/usr/local/lib/python3.7/dist-packages/keras/utils/traceback_utils.py\u001b[0m in \u001b[0;36merror_handler\u001b[0;34m(*args, **kwargs)\u001b[0m\n\u001b[1;32m     62\u001b[0m     \u001b[0mfiltered_tb\u001b[0m \u001b[0;34m=\u001b[0m \u001b[0;32mNone\u001b[0m\u001b[0;34m\u001b[0m\u001b[0;34m\u001b[0m\u001b[0m\n\u001b[1;32m     63\u001b[0m     \u001b[0;32mtry\u001b[0m\u001b[0;34m:\u001b[0m\u001b[0;34m\u001b[0m\u001b[0;34m\u001b[0m\u001b[0m\n\u001b[0;32m---> 64\u001b[0;31m       \u001b[0;32mreturn\u001b[0m \u001b[0mfn\u001b[0m\u001b[0;34m(\u001b[0m\u001b[0;34m*\u001b[0m\u001b[0margs\u001b[0m\u001b[0;34m,\u001b[0m \u001b[0;34m**\u001b[0m\u001b[0mkwargs\u001b[0m\u001b[0;34m)\u001b[0m\u001b[0;34m\u001b[0m\u001b[0;34m\u001b[0m\u001b[0m\n\u001b[0m\u001b[1;32m     65\u001b[0m     \u001b[0;32mexcept\u001b[0m \u001b[0mException\u001b[0m \u001b[0;32mas\u001b[0m \u001b[0me\u001b[0m\u001b[0;34m:\u001b[0m  \u001b[0;31m# pylint: disable=broad-except\u001b[0m\u001b[0;34m\u001b[0m\u001b[0;34m\u001b[0m\u001b[0m\n\u001b[1;32m     66\u001b[0m       \u001b[0mfiltered_tb\u001b[0m \u001b[0;34m=\u001b[0m \u001b[0m_process_traceback_frames\u001b[0m\u001b[0;34m(\u001b[0m\u001b[0me\u001b[0m\u001b[0;34m.\u001b[0m\u001b[0m__traceback__\u001b[0m\u001b[0;34m)\u001b[0m\u001b[0;34m\u001b[0m\u001b[0;34m\u001b[0m\u001b[0m\n",
            "\u001b[0;32m/usr/local/lib/python3.7/dist-packages/keras/engine/training.py\u001b[0m in \u001b[0;36mfit\u001b[0;34m(self, x, y, batch_size, epochs, verbose, callbacks, validation_split, validation_data, shuffle, class_weight, sample_weight, initial_epoch, steps_per_epoch, validation_steps, validation_batch_size, validation_freq, max_queue_size, workers, use_multiprocessing)\u001b[0m\n\u001b[1;32m   1412\u001b[0m               \u001b[0mlogs\u001b[0m \u001b[0;34m=\u001b[0m \u001b[0mtmp_logs\u001b[0m  \u001b[0;31m# No error, now safe to assign to logs.\u001b[0m\u001b[0;34m\u001b[0m\u001b[0;34m\u001b[0m\u001b[0m\n\u001b[1;32m   1413\u001b[0m               \u001b[0mend_step\u001b[0m \u001b[0;34m=\u001b[0m \u001b[0mstep\u001b[0m \u001b[0;34m+\u001b[0m \u001b[0mdata_handler\u001b[0m\u001b[0;34m.\u001b[0m\u001b[0mstep_increment\u001b[0m\u001b[0;34m\u001b[0m\u001b[0;34m\u001b[0m\u001b[0m\n\u001b[0;32m-> 1414\u001b[0;31m               \u001b[0mcallbacks\u001b[0m\u001b[0;34m.\u001b[0m\u001b[0mon_train_batch_end\u001b[0m\u001b[0;34m(\u001b[0m\u001b[0mend_step\u001b[0m\u001b[0;34m,\u001b[0m \u001b[0mlogs\u001b[0m\u001b[0;34m)\u001b[0m\u001b[0;34m\u001b[0m\u001b[0;34m\u001b[0m\u001b[0m\n\u001b[0m\u001b[1;32m   1415\u001b[0m               \u001b[0;32mif\u001b[0m \u001b[0mself\u001b[0m\u001b[0;34m.\u001b[0m\u001b[0mstop_training\u001b[0m\u001b[0;34m:\u001b[0m\u001b[0;34m\u001b[0m\u001b[0;34m\u001b[0m\u001b[0m\n\u001b[1;32m   1416\u001b[0m                 \u001b[0;32mbreak\u001b[0m\u001b[0;34m\u001b[0m\u001b[0;34m\u001b[0m\u001b[0m\n",
            "\u001b[0;32m/usr/local/lib/python3.7/dist-packages/keras/callbacks.py\u001b[0m in \u001b[0;36mon_train_batch_end\u001b[0;34m(self, batch, logs)\u001b[0m\n\u001b[1;32m    436\u001b[0m     \"\"\"\n\u001b[1;32m    437\u001b[0m     \u001b[0;32mif\u001b[0m \u001b[0mself\u001b[0m\u001b[0;34m.\u001b[0m\u001b[0m_should_call_train_batch_hooks\u001b[0m\u001b[0;34m:\u001b[0m\u001b[0;34m\u001b[0m\u001b[0;34m\u001b[0m\u001b[0m\n\u001b[0;32m--> 438\u001b[0;31m       \u001b[0mself\u001b[0m\u001b[0;34m.\u001b[0m\u001b[0m_call_batch_hook\u001b[0m\u001b[0;34m(\u001b[0m\u001b[0mModeKeys\u001b[0m\u001b[0;34m.\u001b[0m\u001b[0mTRAIN\u001b[0m\u001b[0;34m,\u001b[0m \u001b[0;34m'end'\u001b[0m\u001b[0;34m,\u001b[0m \u001b[0mbatch\u001b[0m\u001b[0;34m,\u001b[0m \u001b[0mlogs\u001b[0m\u001b[0;34m=\u001b[0m\u001b[0mlogs\u001b[0m\u001b[0;34m)\u001b[0m\u001b[0;34m\u001b[0m\u001b[0;34m\u001b[0m\u001b[0m\n\u001b[0m\u001b[1;32m    439\u001b[0m \u001b[0;34m\u001b[0m\u001b[0m\n\u001b[1;32m    440\u001b[0m   \u001b[0;32mdef\u001b[0m \u001b[0mon_test_batch_begin\u001b[0m\u001b[0;34m(\u001b[0m\u001b[0mself\u001b[0m\u001b[0;34m,\u001b[0m \u001b[0mbatch\u001b[0m\u001b[0;34m,\u001b[0m \u001b[0mlogs\u001b[0m\u001b[0;34m=\u001b[0m\u001b[0;32mNone\u001b[0m\u001b[0;34m)\u001b[0m\u001b[0;34m:\u001b[0m\u001b[0;34m\u001b[0m\u001b[0;34m\u001b[0m\u001b[0m\n",
            "\u001b[0;32m/usr/local/lib/python3.7/dist-packages/keras/callbacks.py\u001b[0m in \u001b[0;36m_call_batch_hook\u001b[0;34m(self, mode, hook, batch, logs)\u001b[0m\n\u001b[1;32m    295\u001b[0m       \u001b[0mself\u001b[0m\u001b[0;34m.\u001b[0m\u001b[0m_call_batch_begin_hook\u001b[0m\u001b[0;34m(\u001b[0m\u001b[0mmode\u001b[0m\u001b[0;34m,\u001b[0m \u001b[0mbatch\u001b[0m\u001b[0;34m,\u001b[0m \u001b[0mlogs\u001b[0m\u001b[0;34m)\u001b[0m\u001b[0;34m\u001b[0m\u001b[0;34m\u001b[0m\u001b[0m\n\u001b[1;32m    296\u001b[0m     \u001b[0;32melif\u001b[0m \u001b[0mhook\u001b[0m \u001b[0;34m==\u001b[0m \u001b[0;34m'end'\u001b[0m\u001b[0;34m:\u001b[0m\u001b[0;34m\u001b[0m\u001b[0;34m\u001b[0m\u001b[0m\n\u001b[0;32m--> 297\u001b[0;31m       \u001b[0mself\u001b[0m\u001b[0;34m.\u001b[0m\u001b[0m_call_batch_end_hook\u001b[0m\u001b[0;34m(\u001b[0m\u001b[0mmode\u001b[0m\u001b[0;34m,\u001b[0m \u001b[0mbatch\u001b[0m\u001b[0;34m,\u001b[0m \u001b[0mlogs\u001b[0m\u001b[0;34m)\u001b[0m\u001b[0;34m\u001b[0m\u001b[0;34m\u001b[0m\u001b[0m\n\u001b[0m\u001b[1;32m    298\u001b[0m     \u001b[0;32melse\u001b[0m\u001b[0;34m:\u001b[0m\u001b[0;34m\u001b[0m\u001b[0;34m\u001b[0m\u001b[0m\n\u001b[1;32m    299\u001b[0m       raise ValueError(\n",
            "\u001b[0;32m/usr/local/lib/python3.7/dist-packages/keras/callbacks.py\u001b[0m in \u001b[0;36m_call_batch_end_hook\u001b[0;34m(self, mode, batch, logs)\u001b[0m\n\u001b[1;32m    316\u001b[0m       \u001b[0mself\u001b[0m\u001b[0;34m.\u001b[0m\u001b[0m_batch_times\u001b[0m\u001b[0;34m.\u001b[0m\u001b[0mappend\u001b[0m\u001b[0;34m(\u001b[0m\u001b[0mbatch_time\u001b[0m\u001b[0;34m)\u001b[0m\u001b[0;34m\u001b[0m\u001b[0;34m\u001b[0m\u001b[0m\n\u001b[1;32m    317\u001b[0m \u001b[0;34m\u001b[0m\u001b[0m\n\u001b[0;32m--> 318\u001b[0;31m     \u001b[0mself\u001b[0m\u001b[0;34m.\u001b[0m\u001b[0m_call_batch_hook_helper\u001b[0m\u001b[0;34m(\u001b[0m\u001b[0mhook_name\u001b[0m\u001b[0;34m,\u001b[0m \u001b[0mbatch\u001b[0m\u001b[0;34m,\u001b[0m \u001b[0mlogs\u001b[0m\u001b[0;34m)\u001b[0m\u001b[0;34m\u001b[0m\u001b[0;34m\u001b[0m\u001b[0m\n\u001b[0m\u001b[1;32m    319\u001b[0m \u001b[0;34m\u001b[0m\u001b[0m\n\u001b[1;32m    320\u001b[0m     \u001b[0;32mif\u001b[0m \u001b[0mlen\u001b[0m\u001b[0;34m(\u001b[0m\u001b[0mself\u001b[0m\u001b[0;34m.\u001b[0m\u001b[0m_batch_times\u001b[0m\u001b[0;34m)\u001b[0m \u001b[0;34m>=\u001b[0m \u001b[0mself\u001b[0m\u001b[0;34m.\u001b[0m\u001b[0m_num_batches_for_timing_check\u001b[0m\u001b[0;34m:\u001b[0m\u001b[0;34m\u001b[0m\u001b[0;34m\u001b[0m\u001b[0m\n",
            "\u001b[0;32m/usr/local/lib/python3.7/dist-packages/keras/callbacks.py\u001b[0m in \u001b[0;36m_call_batch_hook_helper\u001b[0;34m(self, hook_name, batch, logs)\u001b[0m\n\u001b[1;32m    354\u001b[0m     \u001b[0;32mfor\u001b[0m \u001b[0mcallback\u001b[0m \u001b[0;32min\u001b[0m \u001b[0mself\u001b[0m\u001b[0;34m.\u001b[0m\u001b[0mcallbacks\u001b[0m\u001b[0;34m:\u001b[0m\u001b[0;34m\u001b[0m\u001b[0;34m\u001b[0m\u001b[0m\n\u001b[1;32m    355\u001b[0m       \u001b[0mhook\u001b[0m \u001b[0;34m=\u001b[0m \u001b[0mgetattr\u001b[0m\u001b[0;34m(\u001b[0m\u001b[0mcallback\u001b[0m\u001b[0;34m,\u001b[0m \u001b[0mhook_name\u001b[0m\u001b[0;34m)\u001b[0m\u001b[0;34m\u001b[0m\u001b[0;34m\u001b[0m\u001b[0m\n\u001b[0;32m--> 356\u001b[0;31m       \u001b[0mhook\u001b[0m\u001b[0;34m(\u001b[0m\u001b[0mbatch\u001b[0m\u001b[0;34m,\u001b[0m \u001b[0mlogs\u001b[0m\u001b[0;34m)\u001b[0m\u001b[0;34m\u001b[0m\u001b[0;34m\u001b[0m\u001b[0m\n\u001b[0m\u001b[1;32m    357\u001b[0m \u001b[0;34m\u001b[0m\u001b[0m\n\u001b[1;32m    358\u001b[0m     \u001b[0;32mif\u001b[0m \u001b[0mself\u001b[0m\u001b[0;34m.\u001b[0m\u001b[0m_check_timing\u001b[0m\u001b[0;34m:\u001b[0m\u001b[0;34m\u001b[0m\u001b[0;34m\u001b[0m\u001b[0m\n",
            "\u001b[0;32m/usr/local/lib/python3.7/dist-packages/keras/callbacks.py\u001b[0m in \u001b[0;36mon_train_batch_end\u001b[0;34m(self, batch, logs)\u001b[0m\n\u001b[1;32m   1032\u001b[0m \u001b[0;34m\u001b[0m\u001b[0m\n\u001b[1;32m   1033\u001b[0m   \u001b[0;32mdef\u001b[0m \u001b[0mon_train_batch_end\u001b[0m\u001b[0;34m(\u001b[0m\u001b[0mself\u001b[0m\u001b[0;34m,\u001b[0m \u001b[0mbatch\u001b[0m\u001b[0;34m,\u001b[0m \u001b[0mlogs\u001b[0m\u001b[0;34m=\u001b[0m\u001b[0;32mNone\u001b[0m\u001b[0;34m)\u001b[0m\u001b[0;34m:\u001b[0m\u001b[0;34m\u001b[0m\u001b[0;34m\u001b[0m\u001b[0m\n\u001b[0;32m-> 1034\u001b[0;31m     \u001b[0mself\u001b[0m\u001b[0;34m.\u001b[0m\u001b[0m_batch_update_progbar\u001b[0m\u001b[0;34m(\u001b[0m\u001b[0mbatch\u001b[0m\u001b[0;34m,\u001b[0m \u001b[0mlogs\u001b[0m\u001b[0;34m)\u001b[0m\u001b[0;34m\u001b[0m\u001b[0;34m\u001b[0m\u001b[0m\n\u001b[0m\u001b[1;32m   1035\u001b[0m \u001b[0;34m\u001b[0m\u001b[0m\n\u001b[1;32m   1036\u001b[0m   \u001b[0;32mdef\u001b[0m \u001b[0mon_test_batch_end\u001b[0m\u001b[0;34m(\u001b[0m\u001b[0mself\u001b[0m\u001b[0;34m,\u001b[0m \u001b[0mbatch\u001b[0m\u001b[0;34m,\u001b[0m \u001b[0mlogs\u001b[0m\u001b[0;34m=\u001b[0m\u001b[0;32mNone\u001b[0m\u001b[0;34m)\u001b[0m\u001b[0;34m:\u001b[0m\u001b[0;34m\u001b[0m\u001b[0;34m\u001b[0m\u001b[0m\n",
            "\u001b[0;32m/usr/local/lib/python3.7/dist-packages/keras/callbacks.py\u001b[0m in \u001b[0;36m_batch_update_progbar\u001b[0;34m(self, batch, logs)\u001b[0m\n\u001b[1;32m   1104\u001b[0m     \u001b[0;32mif\u001b[0m \u001b[0mself\u001b[0m\u001b[0;34m.\u001b[0m\u001b[0mverbose\u001b[0m \u001b[0;34m==\u001b[0m \u001b[0;36m1\u001b[0m\u001b[0;34m:\u001b[0m\u001b[0;34m\u001b[0m\u001b[0;34m\u001b[0m\u001b[0m\n\u001b[1;32m   1105\u001b[0m       \u001b[0;31m# Only block async when verbose = 1.\u001b[0m\u001b[0;34m\u001b[0m\u001b[0;34m\u001b[0m\u001b[0;34m\u001b[0m\u001b[0m\n\u001b[0;32m-> 1106\u001b[0;31m       \u001b[0mlogs\u001b[0m \u001b[0;34m=\u001b[0m \u001b[0mtf_utils\u001b[0m\u001b[0;34m.\u001b[0m\u001b[0msync_to_numpy_or_python_type\u001b[0m\u001b[0;34m(\u001b[0m\u001b[0mlogs\u001b[0m\u001b[0;34m)\u001b[0m\u001b[0;34m\u001b[0m\u001b[0;34m\u001b[0m\u001b[0m\n\u001b[0m\u001b[1;32m   1107\u001b[0m       \u001b[0mself\u001b[0m\u001b[0;34m.\u001b[0m\u001b[0mprogbar\u001b[0m\u001b[0;34m.\u001b[0m\u001b[0mupdate\u001b[0m\u001b[0;34m(\u001b[0m\u001b[0mself\u001b[0m\u001b[0;34m.\u001b[0m\u001b[0mseen\u001b[0m\u001b[0;34m,\u001b[0m \u001b[0mlist\u001b[0m\u001b[0;34m(\u001b[0m\u001b[0mlogs\u001b[0m\u001b[0;34m.\u001b[0m\u001b[0mitems\u001b[0m\u001b[0;34m(\u001b[0m\u001b[0;34m)\u001b[0m\u001b[0;34m)\u001b[0m\u001b[0;34m,\u001b[0m \u001b[0mfinalize\u001b[0m\u001b[0;34m=\u001b[0m\u001b[0;32mFalse\u001b[0m\u001b[0;34m)\u001b[0m\u001b[0;34m\u001b[0m\u001b[0;34m\u001b[0m\u001b[0m\n\u001b[1;32m   1108\u001b[0m \u001b[0;34m\u001b[0m\u001b[0m\n",
            "\u001b[0;32m/usr/local/lib/python3.7/dist-packages/keras/utils/tf_utils.py\u001b[0m in \u001b[0;36msync_to_numpy_or_python_type\u001b[0;34m(tensors)\u001b[0m\n\u001b[1;32m    605\u001b[0m     \u001b[0;32mreturn\u001b[0m \u001b[0mt\u001b[0m\u001b[0;34m.\u001b[0m\u001b[0mitem\u001b[0m\u001b[0;34m(\u001b[0m\u001b[0;34m)\u001b[0m \u001b[0;32mif\u001b[0m \u001b[0mnp\u001b[0m\u001b[0;34m.\u001b[0m\u001b[0mndim\u001b[0m\u001b[0;34m(\u001b[0m\u001b[0mt\u001b[0m\u001b[0;34m)\u001b[0m \u001b[0;34m==\u001b[0m \u001b[0;36m0\u001b[0m \u001b[0;32melse\u001b[0m \u001b[0mt\u001b[0m\u001b[0;34m\u001b[0m\u001b[0;34m\u001b[0m\u001b[0m\n\u001b[1;32m    606\u001b[0m \u001b[0;34m\u001b[0m\u001b[0m\n\u001b[0;32m--> 607\u001b[0;31m   \u001b[0;32mreturn\u001b[0m \u001b[0mtf\u001b[0m\u001b[0;34m.\u001b[0m\u001b[0mnest\u001b[0m\u001b[0;34m.\u001b[0m\u001b[0mmap_structure\u001b[0m\u001b[0;34m(\u001b[0m\u001b[0m_to_single_numpy_or_python_type\u001b[0m\u001b[0;34m,\u001b[0m \u001b[0mtensors\u001b[0m\u001b[0;34m)\u001b[0m\u001b[0;34m\u001b[0m\u001b[0;34m\u001b[0m\u001b[0m\n\u001b[0m\u001b[1;32m    608\u001b[0m \u001b[0;34m\u001b[0m\u001b[0m\n\u001b[1;32m    609\u001b[0m \u001b[0;34m\u001b[0m\u001b[0m\n",
            "\u001b[0;32m/usr/local/lib/python3.7/dist-packages/tensorflow/python/util/nest.py\u001b[0m in \u001b[0;36mmap_structure\u001b[0;34m(func, *structure, **kwargs)\u001b[0m\n\u001b[1;32m    914\u001b[0m \u001b[0;34m\u001b[0m\u001b[0m\n\u001b[1;32m    915\u001b[0m   return pack_sequence_as(\n\u001b[0;32m--> 916\u001b[0;31m       \u001b[0mstructure\u001b[0m\u001b[0;34m[\u001b[0m\u001b[0;36m0\u001b[0m\u001b[0;34m]\u001b[0m\u001b[0;34m,\u001b[0m \u001b[0;34m[\u001b[0m\u001b[0mfunc\u001b[0m\u001b[0;34m(\u001b[0m\u001b[0;34m*\u001b[0m\u001b[0mx\u001b[0m\u001b[0;34m)\u001b[0m \u001b[0;32mfor\u001b[0m \u001b[0mx\u001b[0m \u001b[0;32min\u001b[0m \u001b[0mentries\u001b[0m\u001b[0;34m]\u001b[0m\u001b[0;34m,\u001b[0m\u001b[0;34m\u001b[0m\u001b[0;34m\u001b[0m\u001b[0m\n\u001b[0m\u001b[1;32m    917\u001b[0m       expand_composites=expand_composites)\n\u001b[1;32m    918\u001b[0m \u001b[0;34m\u001b[0m\u001b[0m\n",
            "\u001b[0;32m/usr/local/lib/python3.7/dist-packages/tensorflow/python/util/nest.py\u001b[0m in \u001b[0;36m<listcomp>\u001b[0;34m(.0)\u001b[0m\n\u001b[1;32m    914\u001b[0m \u001b[0;34m\u001b[0m\u001b[0m\n\u001b[1;32m    915\u001b[0m   return pack_sequence_as(\n\u001b[0;32m--> 916\u001b[0;31m       \u001b[0mstructure\u001b[0m\u001b[0;34m[\u001b[0m\u001b[0;36m0\u001b[0m\u001b[0;34m]\u001b[0m\u001b[0;34m,\u001b[0m \u001b[0;34m[\u001b[0m\u001b[0mfunc\u001b[0m\u001b[0;34m(\u001b[0m\u001b[0;34m*\u001b[0m\u001b[0mx\u001b[0m\u001b[0;34m)\u001b[0m \u001b[0;32mfor\u001b[0m \u001b[0mx\u001b[0m \u001b[0;32min\u001b[0m \u001b[0mentries\u001b[0m\u001b[0;34m]\u001b[0m\u001b[0;34m,\u001b[0m\u001b[0;34m\u001b[0m\u001b[0;34m\u001b[0m\u001b[0m\n\u001b[0m\u001b[1;32m    917\u001b[0m       expand_composites=expand_composites)\n\u001b[1;32m    918\u001b[0m \u001b[0;34m\u001b[0m\u001b[0m\n",
            "\u001b[0;32m/usr/local/lib/python3.7/dist-packages/keras/utils/tf_utils.py\u001b[0m in \u001b[0;36m_to_single_numpy_or_python_type\u001b[0;34m(t)\u001b[0m\n\u001b[1;32m    599\u001b[0m     \u001b[0;31m# Don't turn ragged or sparse tensors to NumPy.\u001b[0m\u001b[0;34m\u001b[0m\u001b[0;34m\u001b[0m\u001b[0;34m\u001b[0m\u001b[0m\n\u001b[1;32m    600\u001b[0m     \u001b[0;32mif\u001b[0m \u001b[0misinstance\u001b[0m\u001b[0;34m(\u001b[0m\u001b[0mt\u001b[0m\u001b[0;34m,\u001b[0m \u001b[0mtf\u001b[0m\u001b[0;34m.\u001b[0m\u001b[0mTensor\u001b[0m\u001b[0;34m)\u001b[0m\u001b[0;34m:\u001b[0m\u001b[0;34m\u001b[0m\u001b[0;34m\u001b[0m\u001b[0m\n\u001b[0;32m--> 601\u001b[0;31m       \u001b[0mt\u001b[0m \u001b[0;34m=\u001b[0m \u001b[0mt\u001b[0m\u001b[0;34m.\u001b[0m\u001b[0mnumpy\u001b[0m\u001b[0;34m(\u001b[0m\u001b[0;34m)\u001b[0m\u001b[0;34m\u001b[0m\u001b[0;34m\u001b[0m\u001b[0m\n\u001b[0m\u001b[1;32m    602\u001b[0m     \u001b[0;31m# Strings, ragged and sparse tensors don't have .item(). Return them as-is.\u001b[0m\u001b[0;34m\u001b[0m\u001b[0;34m\u001b[0m\u001b[0;34m\u001b[0m\u001b[0m\n\u001b[1;32m    603\u001b[0m     \u001b[0;32mif\u001b[0m \u001b[0;32mnot\u001b[0m \u001b[0misinstance\u001b[0m\u001b[0;34m(\u001b[0m\u001b[0mt\u001b[0m\u001b[0;34m,\u001b[0m \u001b[0;34m(\u001b[0m\u001b[0mnp\u001b[0m\u001b[0;34m.\u001b[0m\u001b[0mndarray\u001b[0m\u001b[0;34m,\u001b[0m \u001b[0mnp\u001b[0m\u001b[0;34m.\u001b[0m\u001b[0mgeneric\u001b[0m\u001b[0;34m)\u001b[0m\u001b[0;34m)\u001b[0m\u001b[0;34m:\u001b[0m\u001b[0;34m\u001b[0m\u001b[0;34m\u001b[0m\u001b[0m\n",
            "\u001b[0;32m/usr/local/lib/python3.7/dist-packages/tensorflow/python/framework/ops.py\u001b[0m in \u001b[0;36mnumpy\u001b[0;34m(self)\u001b[0m\n\u001b[1;32m   1157\u001b[0m     \"\"\"\n\u001b[1;32m   1158\u001b[0m     \u001b[0;31m# TODO(slebedev): Consider avoiding a copy for non-CPU or remote tensors.\u001b[0m\u001b[0;34m\u001b[0m\u001b[0;34m\u001b[0m\u001b[0;34m\u001b[0m\u001b[0m\n\u001b[0;32m-> 1159\u001b[0;31m     \u001b[0mmaybe_arr\u001b[0m \u001b[0;34m=\u001b[0m \u001b[0mself\u001b[0m\u001b[0;34m.\u001b[0m\u001b[0m_numpy\u001b[0m\u001b[0;34m(\u001b[0m\u001b[0;34m)\u001b[0m  \u001b[0;31m# pylint: disable=protected-access\u001b[0m\u001b[0;34m\u001b[0m\u001b[0;34m\u001b[0m\u001b[0m\n\u001b[0m\u001b[1;32m   1160\u001b[0m     \u001b[0;32mreturn\u001b[0m \u001b[0mmaybe_arr\u001b[0m\u001b[0;34m.\u001b[0m\u001b[0mcopy\u001b[0m\u001b[0;34m(\u001b[0m\u001b[0;34m)\u001b[0m \u001b[0;32mif\u001b[0m \u001b[0misinstance\u001b[0m\u001b[0;34m(\u001b[0m\u001b[0mmaybe_arr\u001b[0m\u001b[0;34m,\u001b[0m \u001b[0mnp\u001b[0m\u001b[0;34m.\u001b[0m\u001b[0mndarray\u001b[0m\u001b[0;34m)\u001b[0m \u001b[0;32melse\u001b[0m \u001b[0mmaybe_arr\u001b[0m\u001b[0;34m\u001b[0m\u001b[0;34m\u001b[0m\u001b[0m\n\u001b[1;32m   1161\u001b[0m \u001b[0;34m\u001b[0m\u001b[0m\n",
            "\u001b[0;32m/usr/local/lib/python3.7/dist-packages/tensorflow/python/framework/ops.py\u001b[0m in \u001b[0;36m_numpy\u001b[0;34m(self)\u001b[0m\n\u001b[1;32m   1123\u001b[0m   \u001b[0;32mdef\u001b[0m \u001b[0m_numpy\u001b[0m\u001b[0;34m(\u001b[0m\u001b[0mself\u001b[0m\u001b[0;34m)\u001b[0m\u001b[0;34m:\u001b[0m\u001b[0;34m\u001b[0m\u001b[0;34m\u001b[0m\u001b[0m\n\u001b[1;32m   1124\u001b[0m     \u001b[0;32mtry\u001b[0m\u001b[0;34m:\u001b[0m\u001b[0;34m\u001b[0m\u001b[0;34m\u001b[0m\u001b[0m\n\u001b[0;32m-> 1125\u001b[0;31m       \u001b[0;32mreturn\u001b[0m \u001b[0mself\u001b[0m\u001b[0;34m.\u001b[0m\u001b[0m_numpy_internal\u001b[0m\u001b[0;34m(\u001b[0m\u001b[0;34m)\u001b[0m\u001b[0;34m\u001b[0m\u001b[0;34m\u001b[0m\u001b[0m\n\u001b[0m\u001b[1;32m   1126\u001b[0m     \u001b[0;32mexcept\u001b[0m \u001b[0mcore\u001b[0m\u001b[0;34m.\u001b[0m\u001b[0m_NotOkStatusException\u001b[0m \u001b[0;32mas\u001b[0m \u001b[0me\u001b[0m\u001b[0;34m:\u001b[0m  \u001b[0;31m# pylint: disable=protected-access\u001b[0m\u001b[0;34m\u001b[0m\u001b[0;34m\u001b[0m\u001b[0m\n\u001b[1;32m   1127\u001b[0m       \u001b[0;32mraise\u001b[0m \u001b[0mcore\u001b[0m\u001b[0;34m.\u001b[0m\u001b[0m_status_to_exception\u001b[0m\u001b[0;34m(\u001b[0m\u001b[0me\u001b[0m\u001b[0;34m)\u001b[0m \u001b[0;32mfrom\u001b[0m \u001b[0;32mNone\u001b[0m  \u001b[0;31m# pylint: disable=protected-access\u001b[0m\u001b[0;34m\u001b[0m\u001b[0;34m\u001b[0m\u001b[0m\n",
            "\u001b[0;31mKeyboardInterrupt\u001b[0m: "
          ]
        }
      ],
      "source": [
        "resNet_history = resNet.fit(train_ds, validation_data=test_ds, epochs=20, callbacks=[checkpoint2])"
      ]
    },
    {
      "cell_type": "code",
      "execution_count": 134,
      "metadata": {
        "id": "DWgpN6ELtXNW"
      },
      "outputs": [],
      "source": [
        "my_model2 = models.Sequential()\n",
        "my_model2.add(layers.Conv2D(64, (3, 3), activation=\"relu\", input_shape=(IMG_SIZE, IMG_SIZE, 3)))\n",
        "my_model2.add(layers.MaxPooling2D())\n",
        "my_model2.add(layers.Conv2D(128, (3, 3), activation=\"relu\", input_shape=(IMG_SIZE, IMG_SIZE, 3)))\n",
        "my_model2.add(layers.MaxPooling2D())\n",
        "my_model2.add(layers.Flatten())\n",
        "my_model2.add(layers.Dense(128, activation=\"relu\"))\n",
        "my_model2.add(layers.Dense(1, activation=\"sigmoid\"))"
      ]
    },
    {
      "cell_type": "code",
      "source": [
        "my_model2.compile(optimizer='adam',\n",
        "              loss='binary_crossentropy',\n",
        "              metrics=['accuracy'])"
      ],
      "metadata": {
        "id": "9BYrnGVJAL5B"
      },
      "execution_count": 135,
      "outputs": []
    },
    {
      "cell_type": "code",
      "source": [
        "history = my_model2.fit(train_ds, validation_data=test_ds, epochs=15)"
      ],
      "metadata": {
        "colab": {
          "base_uri": "https://localhost:8080/"
        },
        "id": "fLeVjv75ANJE",
        "outputId": "6382dc1e-2bbc-4477-f22d-58019d5c3f1e"
      },
      "execution_count": 136,
      "outputs": [
        {
          "output_type": "stream",
          "name": "stdout",
          "text": [
            "Epoch 1/15\n",
            "24/24 [==============================] - 4s 155ms/step - loss: 1.2152 - accuracy: 0.6187 - val_loss: 0.6338 - val_accuracy: 0.6580\n",
            "Epoch 2/15\n",
            "24/24 [==============================] - 3s 141ms/step - loss: 0.6244 - accuracy: 0.6780 - val_loss: 0.5911 - val_accuracy: 0.7240\n",
            "Epoch 3/15\n",
            "24/24 [==============================] - 3s 133ms/step - loss: 0.5843 - accuracy: 0.6960 - val_loss: 0.5678 - val_accuracy: 0.7180\n",
            "Epoch 4/15\n",
            "24/24 [==============================] - 3s 134ms/step - loss: 0.5763 - accuracy: 0.7020 - val_loss: 0.5784 - val_accuracy: 0.6940\n",
            "Epoch 5/15\n",
            "24/24 [==============================] - 3s 135ms/step - loss: 0.5735 - accuracy: 0.7013 - val_loss: 0.5765 - val_accuracy: 0.7340\n",
            "Epoch 6/15\n",
            "24/24 [==============================] - 3s 134ms/step - loss: 0.5868 - accuracy: 0.6913 - val_loss: 0.5674 - val_accuracy: 0.7060\n",
            "Epoch 7/15\n",
            "24/24 [==============================] - 3s 134ms/step - loss: 0.5679 - accuracy: 0.7093 - val_loss: 0.5573 - val_accuracy: 0.7280\n",
            "Epoch 8/15\n",
            "24/24 [==============================] - 3s 134ms/step - loss: 0.5552 - accuracy: 0.7280 - val_loss: 0.5647 - val_accuracy: 0.7400\n",
            "Epoch 9/15\n",
            "24/24 [==============================] - 3s 135ms/step - loss: 0.5559 - accuracy: 0.7293 - val_loss: 0.5820 - val_accuracy: 0.7320\n",
            "Epoch 10/15\n",
            "24/24 [==============================] - 3s 135ms/step - loss: 0.5609 - accuracy: 0.7180 - val_loss: 0.5595 - val_accuracy: 0.7360\n",
            "Epoch 11/15\n",
            "24/24 [==============================] - 3s 134ms/step - loss: 0.5469 - accuracy: 0.7220 - val_loss: 0.6164 - val_accuracy: 0.7180\n",
            "Epoch 12/15\n",
            "24/24 [==============================] - 3s 134ms/step - loss: 0.5606 - accuracy: 0.7193 - val_loss: 0.5555 - val_accuracy: 0.7020\n",
            "Epoch 13/15\n",
            "24/24 [==============================] - 3s 134ms/step - loss: 0.5432 - accuracy: 0.7287 - val_loss: 0.5388 - val_accuracy: 0.7500\n",
            "Epoch 14/15\n",
            "24/24 [==============================] - 3s 134ms/step - loss: 0.5214 - accuracy: 0.7480 - val_loss: 0.5199 - val_accuracy: 0.7880\n",
            "Epoch 15/15\n",
            "24/24 [==============================] - 3s 134ms/step - loss: 0.5118 - accuracy: 0.7627 - val_loss: 0.4971 - val_accuracy: 0.7920\n"
          ]
        }
      ]
    },
    {
      "cell_type": "code",
      "source": [
        "# plot the training and validation loss\n",
        "import matplotlib.pyplot as plt\n",
        "acc = history.history['accuracy']\n",
        "val_acc = history.history['val_accuracy']\n",
        "\n",
        "loss = history.history['loss']\n",
        "val_loss = history.history['val_loss']\n",
        "\n",
        "epochs_range = range(15)\n",
        "\n",
        "plt.figure(figsize=(8, 8))\n",
        "plt.subplot(1, 2, 1)\n",
        "plt.plot(epochs_range, acc, label='Training Accuracy')\n",
        "plt.plot(epochs_range, val_acc, label='Validation Accuracy')\n",
        "plt.legend(loc='lower right')\n",
        "plt.title('Training and Validation Accuracy')\n",
        "\n",
        "plt.subplot(1, 2, 2)\n",
        "plt.plot(epochs_range, loss, label='Training Loss')\n",
        "plt.plot(epochs_range, val_loss, label='Validation Loss')\n",
        "plt.legend(loc='upper right')\n",
        "plt.title('Training and Validation Loss')\n",
        "plt.show()"
      ],
      "metadata": {
        "colab": {
          "base_uri": "https://localhost:8080/",
          "height": 499
        },
        "id": "YZP1f3NrBBcf",
        "outputId": "0de82f30-b0f0-4928-e87a-2c33efb2dd03"
      },
      "execution_count": 137,
      "outputs": [
        {
          "output_type": "display_data",
          "data": {
            "text/plain": [
              "<Figure size 576x576 with 2 Axes>"
            ],
            "image/png": "[encoded data removed]"
          },
          "metadata": {
            "needs_background": "light"
          }
        }
      ]
    },
    {
      "cell_type": "markdown",
      "source": [
        "Include Stratified Splitting:"
      ],
      "metadata": {
        "id": "obVrADcVB00P"
      }
    },
    {
      "cell_type": "code",
      "source": [
        "# DELETE LATER\n",
        "train_paths, test_paths, train_labels, test_labels = train_test_split(small_img_paths, \n",
        "                                                                      small_bin_labels,\n",
        "                                                                      stratify=small_bin_labels,\n",
        "                                                                      test_size=0.25, \n",
        "                                                                      random_state=42)"
      ],
      "metadata": {
        "id": "AbbgGINrB322"
      },
      "execution_count": 139,
      "outputs": []
    },
    {
      "cell_type": "code",
      "source": [
        "my_model3 = models.Sequential()\n",
        "my_model3.add(layers.Conv2D(64, (3, 3), activation=\"relu\", input_shape=(IMG_SIZE, IMG_SIZE, 3)))\n",
        "my_model3.add(layers.MaxPooling2D())\n",
        "my_model3.add(layers.Conv2D(128, (3, 3), activation=\"relu\", input_shape=(IMG_SIZE, IMG_SIZE, 3)))\n",
        "my_model3.add(layers.MaxPooling2D())\n",
        "my_model3.add(layers.Flatten())\n",
        "my_model3.add(layers.Dense(128, activation=\"relu\"))\n",
        "my_model3.add(layers.Dense(1, activation=\"sigmoid\"))"
      ],
      "metadata": {
        "id": "dhk3cRD4D7fX"
      },
      "execution_count": 140,
      "outputs": []
    },
    {
      "cell_type": "code",
      "source": [
        "my_model3.compile(optimizer='adam',\n",
        "              loss='binary_crossentropy',\n",
        "              metrics=['accuracy'])"
      ],
      "metadata": {
        "id": "PfxzqmrEEH3A"
      },
      "execution_count": 141,
      "outputs": []
    },
    {
      "cell_type": "code",
      "source": [
        "checkpoint3 = ModelCheckpoint(\"best_stratified_model.hdf5\", monitor='val_loss', verbose=1,\n",
        "    save_best_only=True, mode='auto', period=1)"
      ],
      "metadata": {
        "colab": {
          "base_uri": "https://localhost:8080/"
        },
        "id": "3xyqN1RGESxd",
        "outputId": "5125abc9-f413-40b1-9db0-7bb09ceab50e"
      },
      "execution_count": 142,
      "outputs": [
        {
          "output_type": "stream",
          "name": "stderr",
          "text": [
            "WARNING:tensorflow:`period` argument is deprecated. Please use `save_freq` to specify the frequency in number of batches seen.\n"
          ]
        }
      ]
    },
    {
      "cell_type": "code",
      "source": [
        "history3 = my_model3.fit(train_ds, validation_data=test_ds, epochs=15, callbacks=[checkpoint3])"
      ],
      "metadata": {
        "colab": {
          "base_uri": "https://localhost:8080/"
        },
        "id": "Us3Y11O6EIns",
        "outputId": "a58c162f-b00a-403a-bfc7-be6cc5610db1"
      },
      "execution_count": 143,
      "outputs": [
        {
          "output_type": "stream",
          "name": "stdout",
          "text": [
            "Epoch 1/15\n",
            "24/24 [==============================] - ETA: 0s - loss: 0.9457 - accuracy: 0.6433\n",
            "Epoch 1: val_loss improved from inf to 0.59038, saving model to best_stratified_model.hdf5\n",
            "24/24 [==============================] - 5s 205ms/step - loss: 0.9457 - accuracy: 0.6433 - val_loss: 0.5904 - val_accuracy: 0.7260\n",
            "Epoch 2/15\n",
            "24/24 [==============================] - ETA: 0s - loss: 0.6094 - accuracy: 0.7027\n",
            "Epoch 2: val_loss did not improve from 0.59038\n",
            "24/24 [==============================] - 3s 132ms/step - loss: 0.6094 - accuracy: 0.7027 - val_loss: 0.6237 - val_accuracy: 0.6580\n",
            "Epoch 3/15\n",
            "24/24 [==============================] - ETA: 0s - loss: 0.5998 - accuracy: 0.6953\n",
            "Epoch 3: val_loss did not improve from 0.59038\n",
            "24/24 [==============================] - 3s 133ms/step - loss: 0.5998 - accuracy: 0.6953 - val_loss: 0.6273 - val_accuracy: 0.6720\n",
            "Epoch 4/15\n",
            "24/24 [==============================] - ETA: 0s - loss: 0.5668 - accuracy: 0.7200\n",
            "Epoch 4: val_loss improved from 0.59038 to 0.57380, saving model to best_stratified_model.hdf5\n",
            "24/24 [==============================] - 5s 191ms/step - loss: 0.5668 - accuracy: 0.7200 - val_loss: 0.5738 - val_accuracy: 0.7000\n",
            "Epoch 5/15\n",
            "24/24 [==============================] - ETA: 0s - loss: 0.5584 - accuracy: 0.7293\n",
            "Epoch 5: val_loss improved from 0.57380 to 0.55121, saving model to best_stratified_model.hdf5\n",
            "24/24 [==============================] - 4s 185ms/step - loss: 0.5584 - accuracy: 0.7293 - val_loss: 0.5512 - val_accuracy: 0.7580\n",
            "Epoch 6/15\n",
            "24/24 [==============================] - ETA: 0s - loss: 0.5447 - accuracy: 0.7407\n",
            "Epoch 6: val_loss improved from 0.55121 to 0.54125, saving model to best_stratified_model.hdf5\n",
            "24/24 [==============================] - 4s 185ms/step - loss: 0.5447 - accuracy: 0.7407 - val_loss: 0.5413 - val_accuracy: 0.7640\n",
            "Epoch 7/15\n",
            "24/24 [==============================] - ETA: 0s - loss: 0.5408 - accuracy: 0.7173\n",
            "Epoch 7: val_loss did not improve from 0.54125\n",
            "24/24 [==============================] - 3s 133ms/step - loss: 0.5408 - accuracy: 0.7173 - val_loss: 0.5940 - val_accuracy: 0.7120\n",
            "Epoch 8/15\n",
            "24/24 [==============================] - ETA: 0s - loss: 0.5535 - accuracy: 0.7260\n",
            "Epoch 8: val_loss did not improve from 0.54125\n",
            "24/24 [==============================] - 3s 134ms/step - loss: 0.5535 - accuracy: 0.7260 - val_loss: 0.5483 - val_accuracy: 0.7240\n",
            "Epoch 9/15\n",
            "24/24 [==============================] - ETA: 0s - loss: 0.5035 - accuracy: 0.7627\n",
            "Epoch 9: val_loss improved from 0.54125 to 0.53623, saving model to best_stratified_model.hdf5\n",
            "24/24 [==============================] - 4s 188ms/step - loss: 0.5035 - accuracy: 0.7627 - val_loss: 0.5362 - val_accuracy: 0.7500\n",
            "Epoch 10/15\n",
            "24/24 [==============================] - ETA: 0s - loss: 0.4935 - accuracy: 0.7707\n",
            "Epoch 10: val_loss improved from 0.53623 to 0.50326, saving model to best_stratified_model.hdf5\n",
            "24/24 [==============================] - 5s 202ms/step - loss: 0.4935 - accuracy: 0.7707 - val_loss: 0.5033 - val_accuracy: 0.7880\n",
            "Epoch 11/15\n",
            "24/24 [==============================] - ETA: 0s - loss: 0.5037 - accuracy: 0.7713\n",
            "Epoch 11: val_loss did not improve from 0.50326\n",
            "24/24 [==============================] - 3s 133ms/step - loss: 0.5037 - accuracy: 0.7713 - val_loss: 0.5687 - val_accuracy: 0.7060\n",
            "Epoch 12/15\n",
            "24/24 [==============================] - ETA: 0s - loss: 0.4670 - accuracy: 0.7813\n",
            "Epoch 12: val_loss did not improve from 0.50326\n",
            "24/24 [==============================] - 3s 134ms/step - loss: 0.4670 - accuracy: 0.7813 - val_loss: 0.5329 - val_accuracy: 0.7680\n",
            "Epoch 13/15\n",
            "24/24 [==============================] - ETA: 0s - loss: 0.4780 - accuracy: 0.7827\n",
            "Epoch 13: val_loss improved from 0.50326 to 0.49497, saving model to best_stratified_model.hdf5\n",
            "24/24 [==============================] - 5s 210ms/step - loss: 0.4780 - accuracy: 0.7827 - val_loss: 0.4950 - val_accuracy: 0.8140\n",
            "Epoch 14/15\n",
            "24/24 [==============================] - ETA: 0s - loss: 0.4615 - accuracy: 0.7913\n",
            "Epoch 14: val_loss did not improve from 0.49497\n",
            "24/24 [==============================] - 3s 133ms/step - loss: 0.4615 - accuracy: 0.7913 - val_loss: 0.5135 - val_accuracy: 0.7500\n",
            "Epoch 15/15\n",
            "24/24 [==============================] - ETA: 0s - loss: 0.4425 - accuracy: 0.7947\n",
            "Epoch 15: val_loss improved from 0.49497 to 0.47273, saving model to best_stratified_model.hdf5\n",
            "24/24 [==============================] - 5s 194ms/step - loss: 0.4425 - accuracy: 0.7947 - val_loss: 0.4727 - val_accuracy: 0.8020\n"
          ]
        }
      ]
    },
    {
      "cell_type": "code",
      "source": [
        "# plot the training and validation loss\n",
        "acc = history3.history['accuracy']\n",
        "val_acc = history3.history['val_accuracy']\n",
        "\n",
        "loss = history3.history['loss']\n",
        "val_loss = history3.history['val_loss']\n",
        "\n",
        "epochs_range = range(15)\n",
        "\n",
        "plt.figure(figsize=(8, 8))\n",
        "plt.subplot(1, 2, 1)\n",
        "plt.plot(epochs_range, acc, label='Training Accuracy')\n",
        "plt.plot(epochs_range, val_acc, label='Validation Accuracy')\n",
        "plt.legend(loc='lower right')\n",
        "plt.title('Training and Validation Accuracy')\n",
        "\n",
        "plt.subplot(1, 2, 2)\n",
        "plt.plot(epochs_range, loss, label='Training Loss')\n",
        "plt.plot(epochs_range, val_loss, label='Validation Loss')\n",
        "plt.legend(loc='upper right')\n",
        "plt.title('Training and Validation Loss')\n",
        "plt.show()"
      ],
      "metadata": {
        "colab": {
          "base_uri": "https://localhost:8080/",
          "height": 499
        },
        "id": "gs8jyWfsEy8C",
        "outputId": "1a6f4af7-7334-4586-def0-9469b566b5f1"
      },
      "execution_count": 145,
      "outputs": [
        {
          "output_type": "display_data",
          "data": {
            "text/plain": [
              "<Figure size 576x576 with 2 Axes>"
            ],
            "image/png": "[encoded data removed]"
          },
          "metadata": {
            "needs_background": "light"
          }
        }
      ]
    }
  ],
  "metadata": {
    "accelerator": "GPU",
    "colab": {
      "collapsed_sections": [
        "hiQXOu4WH-oY"
      ],
      "provenance": [],
      "toc_visible": true
    },
    "gpuClass": "standard",
    "kernelspec": {
      "display_name": "Python 3",
      "name": "python3"
    },
    "language_info": {
      "name": "python"
    }
  },
  "nbformat": 4,
  "nbformat_minor": 0
}