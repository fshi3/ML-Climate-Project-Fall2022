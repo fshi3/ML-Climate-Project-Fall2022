{
  "cells": [
    {
      "cell_type": "markdown",
      "metadata": {
        "id": "Bp0Zf0hGINn1"
      },
      "source": [
        "# Environment Setup"
      ]
    },
    {
      "cell_type": "code",
      "execution_count": 1,
      "metadata": {
        "colab": {
          "base_uri": "https://localhost:8080/"
        },
        "id": "kR8TGA64039h",
        "outputId": "9ee05fac-d77e-4d31-b937-7bb106f67c68"
      },
      "outputs": [
        {
          "output_type": "stream",
          "name": "stdout",
          "text": [
            "Drive already mounted at /content/drive; to attempt to forcibly remount, call drive.mount(\"/content/drive\", force_remount=True).\n"
          ]
        }
      ],
      "source": [
        "from google.colab import drive\n",
        "drive.mount('/content/drive')"
      ]
    },
    {
      "cell_type": "code",
      "execution_count": 2,
      "metadata": {
        "id": "cO0r-AbA69gV"
      },
      "outputs": [],
      "source": [
        "import pathlib\n",
        "import IPython.display as display\n",
        "import random\n",
        "import pandas as pd\n",
        "from collections import defaultdict\n",
        "import tensorflow as tf\n",
        "from tensorflow.keras import datasets, layers, models\n",
        "from sklearn.model_selection import train_test_split\n",
        "import time"
      ]
    },
    {
      "cell_type": "code",
      "execution_count": 3,
      "metadata": {
        "colab": {
          "base_uri": "https://localhost:8080/"
        },
        "id": "PGx-5_te3QSD",
        "outputId": "2f96bde2-85c8-4406-84f0-09387b92a391"
      },
      "outputs": [
        {
          "output_type": "stream",
          "name": "stdout",
          "text": [
            "/content/drive\n"
          ]
        }
      ],
      "source": [
        "%cd drive"
      ]
    },
    {
      "cell_type": "code",
      "execution_count": 4,
      "metadata": {
        "colab": {
          "base_uri": "https://localhost:8080/"
        },
        "id": "EYF-QXZH3TTd",
        "outputId": "e0ed0ae9-5aaf-4ddc-b398-81d0b98ed3ed"
      },
      "outputs": [
        {
          "output_type": "stream",
          "name": "stdout",
          "text": [
            "/content/drive/MyDrive\n"
          ]
        }
      ],
      "source": [
        "%cd MyDrive"
      ]
    },
    {
      "cell_type": "code",
      "execution_count": 5,
      "metadata": {
        "colab": {
          "base_uri": "https://localhost:8080/"
        },
        "id": "RFUo03Gr3Uzp",
        "outputId": "86bd6e32-e580-42b9-fa8b-11beecc37b9c"
      },
      "outputs": [
        {
          "output_type": "stream",
          "name": "stdout",
          "text": [
            "/content/drive/MyDrive/ML & Climate\n"
          ]
        }
      ],
      "source": [
        "%cd ML\\ \\&\\ Climate"
      ]
    },
    {
      "cell_type": "code",
      "execution_count": 6,
      "metadata": {
        "colab": {
          "base_uri": "https://localhost:8080/"
        },
        "id": "IWicPLtI3uwu",
        "outputId": "27b14e82-dbb0-4ebb-c04b-3b65fd1a6b5f"
      },
      "outputs": [
        {
          "output_type": "stream",
          "name": "stdout",
          "text": [
            " cache.tf-data.data-00000-of-00001   test_v2_file_mapping.csv.zip\n",
            " cache.tf-data.index\t\t     train-jpg\n",
            "'ML & Climate EDA.ipynb'\t     train-jpg.tar\n",
            " test-jpg\t\t\t     train-tif-v2.tar.7z\n",
            " test-jpg.tar\t\t\t     train_v2.csv\n",
            " test-jpg.tar.7z\t\t     train_v2.csv.zip\n",
            " test-tif-v2.tar.7z\n"
          ]
        }
      ],
      "source": [
        "! ls"
      ]
    },
    {
      "cell_type": "code",
      "execution_count": null,
      "metadata": {
        "id": "IqigBvzJ33JT"
      },
      "outputs": [],
      "source": [
        "#!tar -xvf 'train-jpg.tar'"
      ]
    },
    {
      "cell_type": "markdown",
      "metadata": {
        "id": "hsclCtxHIXEK"
      },
      "source": [
        "# Training Set"
      ]
    },
    {
      "cell_type": "code",
      "execution_count": 7,
      "metadata": {
        "id": "XxrEipIb6acr"
      },
      "outputs": [],
      "source": [
        "data_root = pathlib.Path(\"/content/drive/MyDrive/ML & Climate/train-jpg\")"
      ]
    },
    {
      "cell_type": "code",
      "execution_count": 9,
      "metadata": {
        "id": "IBw5DWNM7rvC"
      },
      "outputs": [],
      "source": [
        "all_img_paths = list(data_root.glob('*'))"
      ]
    },
    {
      "cell_type": "code",
      "execution_count": 10,
      "metadata": {
        "id": "g6ZOa6n57BLC"
      },
      "outputs": [],
      "source": [
        "all_img_paths = [str(path) for path in all_img_paths]"
      ]
    },
    {
      "cell_type": "code",
      "execution_count": 11,
      "metadata": {
        "colab": {
          "base_uri": "https://localhost:8080/"
        },
        "id": "MCeBOEFQ7NB0",
        "outputId": "678987da-9d9e-43d8-fcfe-f68a36c25160"
      },
      "outputs": [
        {
          "output_type": "execute_result",
          "data": {
            "text/plain": [
              "40479"
            ]
          },
          "metadata": {},
          "execution_count": 11
        }
      ],
      "source": [
        "len(all_img_paths)"
      ]
    },
    {
      "cell_type": "code",
      "execution_count": 12,
      "metadata": {
        "colab": {
          "base_uri": "https://localhost:8080/"
        },
        "id": "o0KIDVW17l20",
        "outputId": "a05974a8-736e-430d-f3b1-9b34f02db899"
      },
      "outputs": [
        {
          "output_type": "execute_result",
          "data": {
            "text/plain": [
              "['/content/drive/MyDrive/ML & Climate/train-jpg/train_9443.jpg',\n",
              " '/content/drive/MyDrive/ML & Climate/train-jpg/train_9395.jpg',\n",
              " '/content/drive/MyDrive/ML & Climate/train-jpg/train_9322.jpg',\n",
              " '/content/drive/MyDrive/ML & Climate/train-jpg/train_9499.jpg',\n",
              " '/content/drive/MyDrive/ML & Climate/train-jpg/train_9385.jpg']"
            ]
          },
          "metadata": {},
          "execution_count": 12
        }
      ],
      "source": [
        "all_img_paths[:5]"
      ]
    },
    {
      "cell_type": "code",
      "execution_count": 13,
      "metadata": {
        "colab": {
          "base_uri": "https://localhost:8080/",
          "height": 785
        },
        "id": "7svhgXMq8pkJ",
        "outputId": "7cbb257a-70e0-4017-d0bc-b2542ff92848"
      },
      "outputs": [
        {
          "output_type": "display_data",
          "data": {
            "image/jpeg": "[encoded data removed]",
            "text/plain": [
              "<IPython.core.display.Image object>"
            ]
          },
          "metadata": {}
        },
        {
          "output_type": "display_data",
          "data": {
            "image/jpeg": "[encoded data removed]",
            "text/plain": [
              "<IPython.core.display.Image object>"
            ]
          },
          "metadata": {}
        },
        {
          "output_type": "display_data",
          "data": {
            "image/jpeg": "[encoded data removed]",
            "text/plain": [
              "<IPython.core.display.Image object>"
            ]
          },
          "metadata": {}
        }
      ],
      "source": [
        "for n in range(3):\n",
        "  image_path = random.choice(all_img_paths)\n",
        "  display.display(display.Image(image_path))"
      ]
    },
    {
      "cell_type": "markdown",
      "metadata": {
        "id": "hiQXOu4WH-oY"
      },
      "source": [
        "# Test Set"
      ]
    },
    {
      "cell_type": "code",
      "execution_count": null,
      "metadata": {
        "id": "L5pwmoS3BasK"
      },
      "outputs": [],
      "source": [
        "#!7z x 'test-jpg.tar.7z'"
      ]
    },
    {
      "cell_type": "code",
      "execution_count": null,
      "metadata": {
        "id": "clz_riB72YgV"
      },
      "outputs": [],
      "source": [
        "#!tar -xvf  'test-jpg.tar'"
      ]
    },
    {
      "cell_type": "code",
      "execution_count": null,
      "metadata": {
        "id": "HmZYxjc3IfpY"
      },
      "outputs": [],
      "source": [
        "test_root = pathlib.Path(\"/content/drive/MyDrive/ML & Climate/test-jpg\")"
      ]
    },
    {
      "cell_type": "code",
      "execution_count": null,
      "metadata": {
        "id": "dlhLmmQbI1ZR"
      },
      "outputs": [],
      "source": [
        "test_img_paths = list(test_root.glob('*'))"
      ]
    },
    {
      "cell_type": "code",
      "execution_count": null,
      "metadata": {
        "id": "e-GljcN32C3X"
      },
      "outputs": [],
      "source": [
        "test_img_paths = [str(path) for path in test_img_paths]"
      ]
    },
    {
      "cell_type": "code",
      "execution_count": null,
      "metadata": {
        "colab": {
          "base_uri": "https://localhost:8080/"
        },
        "id": "sEyEvO55I49V",
        "outputId": "30b313bb-67ac-4b29-a991-d76636830a96"
      },
      "outputs": [
        {
          "data": {
            "text/plain": [
              "24038"
            ]
          },
          "execution_count": 20,
          "metadata": {},
          "output_type": "execute_result"
        }
      ],
      "source": [
        "len(test_img_paths)"
      ]
    },
    {
      "cell_type": "code",
      "execution_count": null,
      "metadata": {
        "colab": {
          "base_uri": "https://localhost:8080/"
        },
        "id": "fCxRTqpa2NKA",
        "outputId": "0a3ede5f-e906-4494-e9d2-e7a035c2f0d9"
      },
      "outputs": [
        {
          "data": {
            "text/plain": [
              "['/content/drive/MyDrive/ML & Climate/test-jpg/test_8452.jpg',\n",
              " '/content/drive/MyDrive/ML & Climate/test-jpg/test_8563.jpg',\n",
              " '/content/drive/MyDrive/ML & Climate/test-jpg/test_8615.jpg',\n",
              " '/content/drive/MyDrive/ML & Climate/test-jpg/test_8596.jpg',\n",
              " '/content/drive/MyDrive/ML & Climate/test-jpg/test_8531.jpg']"
            ]
          },
          "execution_count": 22,
          "metadata": {},
          "output_type": "execute_result"
        }
      ],
      "source": [
        "test_img_paths[:5]"
      ]
    },
    {
      "cell_type": "code",
      "execution_count": null,
      "metadata": {
        "colab": {
          "base_uri": "https://localhost:8080/",
          "height": 785
        },
        "id": "je5XcHyB2Spn",
        "outputId": "f1e503bf-de9e-4cf8-ad39-13ec7e50224f"
      },
      "outputs": [
        {
          "data": {
            "image/jpeg": "[encoded data removed]",
            "text/plain": [
              "<IPython.core.display.Image object>"
            ]
          },
          "metadata": {},
          "output_type": "display_data"
        },
        {
          "data": {
            "image/jpeg": "[encoded data removed]",
            "text/plain": [
              "<IPython.core.display.Image object>"
            ]
          },
          "metadata": {},
          "output_type": "display_data"
        },
        {
          "data": {
            "image/jpeg": "[encoded data removed]",
            "text/plain": [
              "<IPython.core.display.Image object>"
            ]
          },
          "metadata": {},
          "output_type": "display_data"
        }
      ],
      "source": [
        "for n in range(3):\n",
        "  image_path = random.choice(all_img_paths)\n",
        "  display.display(display.Image(image_path))"
      ]
    },
    {
      "cell_type": "markdown",
      "metadata": {
        "id": "QBlZHQiiIGpY"
      },
      "source": [
        "# Data Labels"
      ]
    },
    {
      "cell_type": "code",
      "execution_count": 14,
      "metadata": {
        "id": "r2qb5y8FJf-G"
      },
      "outputs": [],
      "source": [
        "labels = pd.read_csv(\"train_v2.csv\")"
      ]
    },
    {
      "cell_type": "code",
      "execution_count": 15,
      "metadata": {
        "colab": {
          "base_uri": "https://localhost:8080/",
          "height": 424
        },
        "id": "MLmpoYceRUiA",
        "outputId": "0f6b7014-ce9e-4837-bdc4-bde06d692c91"
      },
      "outputs": [
        {
          "output_type": "execute_result",
          "data": {
            "text/plain": [
              "        image_name                                           tags\n",
              "0          train_0                                   haze primary\n",
              "1          train_1                agriculture clear primary water\n",
              "2          train_2                                  clear primary\n",
              "3          train_3                                  clear primary\n",
              "4          train_4      agriculture clear habitation primary road\n",
              "...            ...                                            ...\n",
              "40474  train_40474                                  clear primary\n",
              "40475  train_40475                                         cloudy\n",
              "40476  train_40476                      agriculture clear primary\n",
              "40477  train_40477                 agriculture clear primary road\n",
              "40478  train_40478  agriculture cultivation partly_cloudy primary\n",
              "\n",
              "[40479 rows x 2 columns]"
            ],
            "text/html": [
              "\n",
              "  <div id=\"df-9e7d9c6f-0418-49db-a1a5-fd0fbe9a2c03\">\n",
              "    <div class=\"colab-df-container\">\n",
              "      <div>\n",
              "<style scoped>\n",
              "    .dataframe tbody tr th:only-of-type {\n",
              "        vertical-align: middle;\n",
              "    }\n",
              "\n",
              "    .dataframe tbody tr th {\n",
              "        vertical-align: top;\n",
              "    }\n",
              "\n",
              "    .dataframe thead th {\n",
              "        text-align: right;\n",
              "    }\n",
              "</style>\n",
              "<table border=\"1\" class=\"dataframe\">\n",
              "  <thead>\n",
              "    <tr style=\"text-align: right;\">\n",
              "      <th></th>\n",
              "      <th>image_name</th>\n",
              "      <th>tags</th>\n",
              "    </tr>\n",
              "  </thead>\n",
              "  <tbody>\n",
              "    <tr>\n",
              "      <th>0</th>\n",
              "      <td>train_0</td>\n",
              "      <td>haze primary</td>\n",
              "    </tr>\n",
              "    <tr>\n",
              "      <th>1</th>\n",
              "      <td>train_1</td>\n",
              "      <td>agriculture clear primary water</td>\n",
              "    </tr>\n",
              "    <tr>\n",
              "      <th>2</th>\n",
              "      <td>train_2</td>\n",
              "      <td>clear primary</td>\n",
              "    </tr>\n",
              "    <tr>\n",
              "      <th>3</th>\n",
              "      <td>train_3</td>\n",
              "      <td>clear primary</td>\n",
              "    </tr>\n",
              "    <tr>\n",
              "      <th>4</th>\n",
              "      <td>train_4</td>\n",
              "      <td>agriculture clear habitation primary road</td>\n",
              "    </tr>\n",
              "    <tr>\n",
              "      <th>...</th>\n",
              "      <td>...</td>\n",
              "      <td>...</td>\n",
              "    </tr>\n",
              "    <tr>\n",
              "      <th>40474</th>\n",
              "      <td>train_40474</td>\n",
              "      <td>clear primary</td>\n",
              "    </tr>\n",
              "    <tr>\n",
              "      <th>40475</th>\n",
              "      <td>train_40475</td>\n",
              "      <td>cloudy</td>\n",
              "    </tr>\n",
              "    <tr>\n",
              "      <th>40476</th>\n",
              "      <td>train_40476</td>\n",
              "      <td>agriculture clear primary</td>\n",
              "    </tr>\n",
              "    <tr>\n",
              "      <th>40477</th>\n",
              "      <td>train_40477</td>\n",
              "      <td>agriculture clear primary road</td>\n",
              "    </tr>\n",
              "    <tr>\n",
              "      <th>40478</th>\n",
              "      <td>train_40478</td>\n",
              "      <td>agriculture cultivation partly_cloudy primary</td>\n",
              "    </tr>\n",
              "  </tbody>\n",
              "</table>\n",
              "<p>40479 rows × 2 columns</p>\n",
              "</div>\n",
              "      <button class=\"colab-df-convert\" onclick=\"convertToInteractive('df-9e7d9c6f-0418-49db-a1a5-fd0fbe9a2c03')\"\n",
              "              title=\"Convert this dataframe to an interactive table.\"\n",
              "              style=\"display:none;\">\n",
              "        \n",
              "  <svg xmlns=\"http://www.w3.org/2000/svg\" height=\"24px\"viewBox=\"0 0 24 24\"\n",
              "       width=\"24px\">\n",
              "    <path d=\"M0 0h24v24H0V0z\" fill=\"none\"/>\n",
              "    <path d=\"M18.56 5.44l.94 2.06.94-2.06 2.06-.94-2.06-.94-.94-2.06-.94 2.06-2.06.94zm-11 1L8.5 8.5l.94-2.06 2.06-.94-2.06-.94L8.5 2.5l-.94 2.06-2.06.94zm10 10l.94 2.06.94-2.06 2.06-.94-2.06-.94-.94-2.06-.94 2.06-2.06.94z\"/><path d=\"M17.41 7.96l-1.37-1.37c-.4-.4-.92-.59-1.43-.59-.52 0-1.04.2-1.43.59L10.3 9.45l-7.72 7.72c-.78.78-.78 2.05 0 2.83L4 21.41c.39.39.9.59 1.41.59.51 0 1.02-.2 1.41-.59l7.78-7.78 2.81-2.81c.8-.78.8-2.07 0-2.86zM5.41 20L4 18.59l7.72-7.72 1.47 1.35L5.41 20z\"/>\n",
              "  </svg>\n",
              "      </button>\n",
              "      \n",
              "  <style>\n",
              "    .colab-df-container {\n",
              "      display:flex;\n",
              "      flex-wrap:wrap;\n",
              "      gap: 12px;\n",
              "    }\n",
              "\n",
              "    .colab-df-convert {\n",
              "      background-color: #E8F0FE;\n",
              "      border: none;\n",
              "      border-radius: 50%;\n",
              "      cursor: pointer;\n",
              "      display: none;\n",
              "      fill: #1967D2;\n",
              "      height: 32px;\n",
              "      padding: 0 0 0 0;\n",
              "      width: 32px;\n",
              "    }\n",
              "\n",
              "    .colab-df-convert:hover {\n",
              "      background-color: #E2EBFA;\n",
              "      box-shadow: 0px 1px 2px rgba(60, 64, 67, 0.3), 0px 1px 3px 1px rgba(60, 64, 67, 0.15);\n",
              "      fill: #174EA6;\n",
              "    }\n",
              "\n",
              "    [theme=dark] .colab-df-convert {\n",
              "      background-color: #3B4455;\n",
              "      fill: #D2E3FC;\n",
              "    }\n",
              "\n",
              "    [theme=dark] .colab-df-convert:hover {\n",
              "      background-color: #434B5C;\n",
              "      box-shadow: 0px 1px 3px 1px rgba(0, 0, 0, 0.15);\n",
              "      filter: drop-shadow(0px 1px 2px rgba(0, 0, 0, 0.3));\n",
              "      fill: #FFFFFF;\n",
              "    }\n",
              "  </style>\n",
              "\n",
              "      <script>\n",
              "        const buttonEl =\n",
              "          document.querySelector('#df-9e7d9c6f-0418-49db-a1a5-fd0fbe9a2c03 button.colab-df-convert');\n",
              "        buttonEl.style.display =\n",
              "          google.colab.kernel.accessAllowed ? 'block' : 'none';\n",
              "\n",
              "        async function convertToInteractive(key) {\n",
              "          const element = document.querySelector('#df-9e7d9c6f-0418-49db-a1a5-fd0fbe9a2c03');\n",
              "          const dataTable =\n",
              "            await google.colab.kernel.invokeFunction('convertToInteractive',\n",
              "                                                     [key], {});\n",
              "          if (!dataTable) return;\n",
              "\n",
              "          const docLinkHtml = 'Like what you see? Visit the ' +\n",
              "            '<a target=\"_blank\" href=https://colab.research.google.com/notebooks/data_table.ipynb>data table notebook</a>'\n",
              "            + ' to learn more about interactive tables.';\n",
              "          element.innerHTML = '';\n",
              "          dataTable['output_type'] = 'display_data';\n",
              "          await google.colab.output.renderOutput(dataTable, element);\n",
              "          const docLink = document.createElement('div');\n",
              "          docLink.innerHTML = docLinkHtml;\n",
              "          element.appendChild(docLink);\n",
              "        }\n",
              "      </script>\n",
              "    </div>\n",
              "  </div>\n",
              "  "
            ]
          },
          "metadata": {},
          "execution_count": 15
        }
      ],
      "source": [
        "labels"
      ]
    },
    {
      "cell_type": "markdown",
      "metadata": {
        "id": "K30zR7oLRe7X"
      },
      "source": [
        "There is no labels for the test set, since this is a kaggle competition. Will have to split the training set in to train, val, and test."
      ]
    },
    {
      "cell_type": "markdown",
      "metadata": {
        "id": "cu6tUI6lTIq_"
      },
      "source": [
        "Here are the label distributions:"
      ]
    },
    {
      "cell_type": "code",
      "execution_count": 16,
      "metadata": {
        "id": "T7DDvYt-TLZO"
      },
      "outputs": [],
      "source": [
        "tags = defaultdict(lambda: 0)\n",
        "for each in labels['tags']:\n",
        "  tag_list = each.split(\" \")\n",
        "  for tag in tag_list:\n",
        "    tags[tag] += 1"
      ]
    },
    {
      "cell_type": "code",
      "execution_count": 17,
      "metadata": {
        "colab": {
          "base_uri": "https://localhost:8080/"
        },
        "id": "W4JIHYAvTOe2",
        "outputId": "db428ad5-2d7d-438c-9c77-231b2f4ed893"
      },
      "outputs": [
        {
          "output_type": "execute_result",
          "data": {
            "text/plain": [
              "defaultdict(<function __main__.<lambda>()>,\n",
              "            {'haze': 2697,\n",
              "             'primary': 37513,\n",
              "             'agriculture': 12315,\n",
              "             'clear': 28431,\n",
              "             'water': 7411,\n",
              "             'habitation': 3660,\n",
              "             'road': 8071,\n",
              "             'cultivation': 4547,\n",
              "             'slash_burn': 209,\n",
              "             'cloudy': 2089,\n",
              "             'partly_cloudy': 7261,\n",
              "             'conventional_mine': 100,\n",
              "             'bare_ground': 862,\n",
              "             'artisinal_mine': 339,\n",
              "             'blooming': 332,\n",
              "             'selective_logging': 340,\n",
              "             'blow_down': 101})"
            ]
          },
          "metadata": {},
          "execution_count": 17
        }
      ],
      "source": [
        "tags"
      ]
    },
    {
      "cell_type": "code",
      "execution_count": 18,
      "metadata": {
        "id": "dSWXC9rHWoAE"
      },
      "outputs": [],
      "source": [
        "deforest_tags = {}\n",
        "# these are the tags that we are considering as deforestation\n",
        "deforestation = ['agriculture', 'cultivation', 'slash_burn', 'conventional_mine', 'artisinal_mine',\n",
        "                 'selective_logging', 'road', 'habitation']    \n",
        "for tag, count in tags.items():\n",
        "  if tag in deforestation:\n",
        "    deforest_tags[tag] = count"
      ]
    },
    {
      "cell_type": "code",
      "execution_count": 19,
      "metadata": {
        "colab": {
          "base_uri": "https://localhost:8080/"
        },
        "id": "KjJq5q7A5ixD",
        "outputId": "f9fee657-7e82-4c42-f248-7c5472155808"
      },
      "outputs": [
        {
          "output_type": "execute_result",
          "data": {
            "text/plain": [
              "{'agriculture': 12315,\n",
              " 'habitation': 3660,\n",
              " 'road': 8071,\n",
              " 'cultivation': 4547,\n",
              " 'slash_burn': 209,\n",
              " 'conventional_mine': 100,\n",
              " 'artisinal_mine': 339,\n",
              " 'selective_logging': 340}"
            ]
          },
          "metadata": {},
          "execution_count": 19
        }
      ],
      "source": [
        "deforest_tags"
      ]
    },
    {
      "cell_type": "code",
      "execution_count": 20,
      "metadata": {
        "id": "hmflNHKU5j6R"
      },
      "outputs": [],
      "source": [
        "deforestation_count = 0\n",
        "for each in labels['tags']:\n",
        "  tag_list = each.split(\" \")\n",
        "  for tag in tag_list:\n",
        "    if tag in deforest_tags:\n",
        "      deforestation_count += 1\n",
        "      break"
      ]
    },
    {
      "cell_type": "code",
      "execution_count": 21,
      "metadata": {
        "colab": {
          "base_uri": "https://localhost:8080/"
        },
        "id": "inN7PKon6FWM",
        "outputId": "5155c9e3-38ff-4010-84b3-c4b24e1a4762"
      },
      "outputs": [
        {
          "output_type": "stream",
          "name": "stdout",
          "text": [
            "Total counts of deforestation:  15899\n",
            "The percentage of deforestation labels:  0.39277156056226686\n"
          ]
        }
      ],
      "source": [
        "print(\"Total counts of deforestation: \", deforestation_count)\n",
        "print(\"The percentage of deforestation labels: \", \n",
        "      deforestation_count/len(labels))"
      ]
    },
    {
      "cell_type": "markdown",
      "metadata": {
        "id": "Xl657X4KLhQf"
      },
      "source": [
        "The dataset is somewhat balanced, with around 40% positive labels (deforestation) and 60% negative labels (no deforestation)."
      ]
    },
    {
      "cell_type": "markdown",
      "metadata": {
        "id": "lz1NuQTewOJN"
      },
      "source": [
        "**Binary Data Labels**"
      ]
    },
    {
      "cell_type": "markdown",
      "metadata": {
        "id": "WdbnrrjowSsX"
      },
      "source": [
        "First run, try to encode all training example into either has some classification of deforestation or not."
      ]
    },
    {
      "cell_type": "code",
      "execution_count": 22,
      "metadata": {
        "colab": {
          "base_uri": "https://localhost:8080/",
          "height": 35
        },
        "id": "d6JstDLgYScY",
        "outputId": "858c57e6-e1eb-4152-c2d3-95b526257df4"
      },
      "outputs": [
        {
          "output_type": "execute_result",
          "data": {
            "text/plain": [
              "'train_9443'"
            ],
            "application/vnd.google.colaboratory.intrinsic+json": {
              "type": "string"
            }
          },
          "metadata": {},
          "execution_count": 22
        }
      ],
      "source": [
        "pathlib.Path(all_img_paths[0]).name.split(\".\")[0]"
      ]
    },
    {
      "cell_type": "code",
      "execution_count": 23,
      "metadata": {
        "id": "Uv60DYvDyntr"
      },
      "outputs": [],
      "source": [
        "bin_labels = {} # binary 0/1 labels for whether img has deforestation\n",
        "i = 0\n",
        "for each in labels[\"tags\"]:\n",
        "  tags = each.split(\" \")\n",
        "  for t in tags:\n",
        "    if t in deforest_tags:\n",
        "      # 1 for deforestation, 0 for no deforestation\n",
        "      bin_labels[labels.loc[i][\"image_name\"]] = 1\n",
        "      break\n",
        "  if labels.loc[i][\"image_name\"] not in bin_labels:\n",
        "    bin_labels[labels.loc[i][\"image_name\"]] = 0\n",
        "  i += 1"
      ]
    },
    {
      "cell_type": "code",
      "execution_count": 24,
      "metadata": {
        "id": "pl2g9YJW1rvP"
      },
      "outputs": [],
      "source": [
        "# an array of the binary labels to feed into train-test-split\n",
        "all_bin_labels = [bin_labels[pathlib.Path(path).name.split(\".\")[0]]\n",
        "                  for path in all_img_paths]"
      ]
    },
    {
      "cell_type": "code",
      "execution_count": 25,
      "metadata": {
        "colab": {
          "base_uri": "https://localhost:8080/"
        },
        "id": "ybLMTHEJ2ClW",
        "outputId": "4e401af8-9c92-4d5c-d9ef-b4630d205233"
      },
      "outputs": [
        {
          "output_type": "stream",
          "name": "stdout",
          "text": [
            "deforestation:  15899 \n",
            "no deforestation:  24580\n"
          ]
        }
      ],
      "source": [
        "count = 0\n",
        "for each in all_bin_labels:\n",
        "  count += each\n",
        "print(\"deforestation: \", count, \"\\nno deforestation: \", len(all_bin_labels)-count)"
      ]
    },
    {
      "cell_type": "markdown",
      "metadata": {
        "id": "gwyePRaIL0Qh"
      },
      "source": [
        "# Modeling"
      ]
    },
    {
      "cell_type": "code",
      "execution_count": 26,
      "metadata": {
        "id": "2GnLn77BL2CT"
      },
      "outputs": [],
      "source": [
        "train_paths, test_paths, train_labels, test_labels = train_test_split(all_img_paths, \n",
        "                                                                      all_bin_labels,\n",
        "                                                                      test_size=0.25, \n",
        "                                                                      random_state=42)"
      ]
    },
    {
      "cell_type": "markdown",
      "metadata": {
        "id": "z9bjWGNm1UJ5"
      },
      "source": [
        "Display a few images and their labels"
      ]
    },
    {
      "cell_type": "code",
      "execution_count": 27,
      "metadata": {
        "colab": {
          "base_uri": "https://localhost:8080/",
          "height": 892
        },
        "id": "Lj4LkSUm0rNz",
        "outputId": "0421d967-13e9-45d2-83c8-ef340fff54ad"
      },
      "outputs": [
        {
          "output_type": "stream",
          "name": "stdout",
          "text": [
            "0\n"
          ]
        },
        {
          "output_type": "display_data",
          "data": {
            "image/jpeg": "[encoded data removed]",
            "text/plain": [
              "<IPython.core.display.Image object>"
            ]
          },
          "metadata": {}
        },
        {
          "output_type": "stream",
          "name": "stdout",
          "text": [
            "\n",
            "1\n"
          ]
        },
        {
          "output_type": "display_data",
          "data": {
            "image/jpeg": "[encoded data removed]",
            "text/plain": [
              "<IPython.core.display.Image object>"
            ]
          },
          "metadata": {}
        },
        {
          "output_type": "stream",
          "name": "stdout",
          "text": [
            "\n",
            "0\n"
          ]
        },
        {
          "output_type": "display_data",
          "data": {
            "image/jpeg": "[encoded data removed]",
            "text/plain": [
              "<IPython.core.display.Image object>"
            ]
          },
          "metadata": {}
        },
        {
          "output_type": "stream",
          "name": "stdout",
          "text": [
            "\n"
          ]
        }
      ],
      "source": [
        "for n in range(3):\n",
        "  i = random.randint(0,len(train_paths))\n",
        "  image_path = train_paths[i]\n",
        "  print(train_labels[i])\n",
        "  display.display(display.Image(image_path))\n",
        "  print()"
      ]
    },
    {
      "cell_type": "code",
      "execution_count": 28,
      "metadata": {
        "colab": {
          "base_uri": "https://localhost:8080/"
        },
        "id": "UKyZaNj003B-",
        "outputId": "ff437469-8610-4505-c69f-9a4b62f97c7e"
      },
      "outputs": [
        {
          "output_type": "stream",
          "name": "stdout",
          "text": [
            "<tf.Tensor: shape=(), dtype=string, numpy=b'\\xff\\xd8\\xff\\xdb\\x00C\\x00\\x08\\x06\\x06\\x07\\x06\\x05\\x08\\x0...\n"
          ]
        }
      ],
      "source": [
        "img_raw = tf.io.read_file(train_paths[0])\n",
        "print(repr(img_raw)[:100]+\"...\")"
      ]
    },
    {
      "cell_type": "code",
      "execution_count": 29,
      "metadata": {
        "colab": {
          "base_uri": "https://localhost:8080/"
        },
        "id": "YMvAE3PI2F_e",
        "outputId": "6162f3c1-d8d8-42c4-88d3-9182ccbd9be6"
      },
      "outputs": [
        {
          "output_type": "stream",
          "name": "stdout",
          "text": [
            "(256, 256, 3)\n",
            "<dtype: 'uint8'>\n"
          ]
        }
      ],
      "source": [
        "img_tensor = tf.image.decode_image(img_raw)\n",
        "print(img_tensor.shape)\n",
        "print(img_tensor.dtype)"
      ]
    },
    {
      "cell_type": "markdown",
      "metadata": {
        "id": "3u1PHgOrEQ7V"
      },
      "source": [
        "**Parameters for loader**"
      ]
    },
    {
      "cell_type": "code",
      "execution_count": 30,
      "metadata": {
        "id": "p5NVM770EL5M"
      },
      "outputs": [],
      "source": [
        "BATCH_SIZE = 128\n",
        "IMG_SIZE = 180\n",
        "AUTOTUNE = tf.data.experimental.AUTOTUNE\n",
        "SHUFFLE_SIZE = 1000\n",
        "BUFFER_SIZE = 1000"
      ]
    },
    {
      "cell_type": "code",
      "execution_count": 31,
      "metadata": {
        "id": "LUNMrSXhEvab"
      },
      "outputs": [],
      "source": [
        "def load_and_preprocess_image(path):\n",
        "  img = tf.io.read_file(path)\n",
        "  img = tf.image.decode_jpeg(img, channels=3)\n",
        "  img = tf.image.resize(img, [IMG_SIZE, IMG_SIZE ])\n",
        "  img /= 255.0  # normalize pixels to 0,1\n",
        "  return img"
      ]
    },
    {
      "cell_type": "markdown",
      "metadata": {
        "id": "Nw-UE6jwq8mB"
      },
      "source": [
        "Checking the shapes of the preprocessed dataset:"
      ]
    },
    {
      "cell_type": "code",
      "execution_count": 32,
      "metadata": {
        "colab": {
          "base_uri": "https://localhost:8080/"
        },
        "id": "MYSzJWizn3UG",
        "outputId": "fa4f5824-398b-4364-e122-adce9216043d"
      },
      "outputs": [
        {
          "output_type": "stream",
          "name": "stdout",
          "text": [
            "0 tf.Tensor(b'/content/drive/MyDrive/ML & Climate/train-jpg/train_7173.jpg', shape=(), dtype=string)\n",
            "1 tf.Tensor(b'/content/drive/MyDrive/ML & Climate/train-jpg/train_17589.jpg', shape=(), dtype=string)\n",
            "2 tf.Tensor(b'/content/drive/MyDrive/ML & Climate/train-jpg/train_32572.jpg', shape=(), dtype=string)\n",
            "3 tf.Tensor(b'/content/drive/MyDrive/ML & Climate/train-jpg/train_3785.jpg', shape=(), dtype=string)\n"
          ]
        }
      ],
      "source": [
        "# a dataset that returns image paths\n",
        "path_ds = tf.data.Dataset.from_tensor_slices(train_paths)\n",
        "for n, img_path in enumerate(path_ds.take(4)):\n",
        "  print(n, img_path)"
      ]
    },
    {
      "cell_type": "code",
      "execution_count": 33,
      "metadata": {
        "colab": {
          "base_uri": "https://localhost:8080/"
        },
        "id": "MLWCzh3hqql9",
        "outputId": "7183744c-cc90-4e97-e9aa-48792cb221d4"
      },
      "outputs": [
        {
          "output_type": "stream",
          "name": "stdout",
          "text": [
            "0 (180, 180, 3)\n",
            "1 (180, 180, 3)\n",
            "2 (180, 180, 3)\n",
            "3 (180, 180, 3)\n"
          ]
        }
      ],
      "source": [
        "# a dataset that returns images (loaded off disk, decoded, and preprocessed)\n",
        "image_ds = path_ds.map(load_and_preprocess_image, num_parallel_calls=AUTOTUNE)\n",
        "for n, image in enumerate(image_ds.take(4)):\n",
        "  print(n, image.shape)"
      ]
    },
    {
      "cell_type": "code",
      "execution_count": 34,
      "metadata": {
        "colab": {
          "base_uri": "https://localhost:8080/"
        },
        "id": "lqJUiqvRqvde",
        "outputId": "c88f0255-80e3-4804-f4fd-8706bf75c3e7"
      },
      "outputs": [
        {
          "output_type": "stream",
          "name": "stdout",
          "text": [
            "0\n",
            "0\n",
            "1\n",
            "0\n"
          ]
        }
      ],
      "source": [
        "# a dataset that returns labels\n",
        "label_ds = tf.data.Dataset.from_tensor_slices(tf.cast(train_labels, tf.int64))\n",
        "for label in label_ds.take(4):\n",
        "  print(label.numpy())"
      ]
    },
    {
      "cell_type": "code",
      "execution_count": 35,
      "metadata": {
        "colab": {
          "base_uri": "https://localhost:8080/"
        },
        "id": "3iXH2UtVr51c",
        "outputId": "0b6b70fe-8bbf-47dd-e917-e9ab727bb3b9"
      },
      "outputs": [
        {
          "output_type": "stream",
          "name": "stdout",
          "text": [
            "<ZipDataset element_spec=(TensorSpec(shape=(180, 180, 3), dtype=tf.float32, name=None), TensorSpec(shape=(), dtype=tf.int64, name=None))>\n"
          ]
        }
      ],
      "source": [
        "# a dataset that returns images and labels\n",
        "image_label_ds = tf.data.Dataset.zip((image_ds, label_ds))\n",
        "print(image_label_ds)"
      ]
    },
    {
      "cell_type": "code",
      "execution_count": 36,
      "metadata": {
        "colab": {
          "base_uri": "https://localhost:8080/"
        },
        "id": "Iy8mOsZWtc_6",
        "outputId": "5eb24d46-c839-4f61-a61b-d033a8e07298"
      },
      "outputs": [
        {
          "output_type": "stream",
          "name": "stdout",
          "text": [
            "(180, 180, 3) 0\n",
            "(180, 180, 3) 0\n"
          ]
        }
      ],
      "source": [
        "for img, label in image_label_ds.take(2):\n",
        "  print(img.shape, label.numpy())"
      ]
    },
    {
      "cell_type": "code",
      "execution_count": 37,
      "metadata": {
        "colab": {
          "base_uri": "https://localhost:8080/"
        },
        "id": "1SLgUhH5tiSz",
        "outputId": "ee456152-4af7-42a4-b3b7-2dd5dec5e174"
      },
      "outputs": [
        {
          "output_type": "stream",
          "name": "stdout",
          "text": [
            "(128, 180, 180, 3) (128,)\n",
            "(128, 180, 180, 3) (128,)\n"
          ]
        }
      ],
      "source": [
        "train_ds = image_label_ds.shuffle(SHUFFLE_SIZE)\n",
        "train_ds = train_ds.batch(BATCH_SIZE).prefetch(buffer_size=AUTOTUNE)\n",
        "\n",
        "for img, label in train_ds.take(2):\n",
        "  print(img.shape, label.shape) # notice it's returning batches of data now"
      ]
    },
    {
      "cell_type": "markdown",
      "source": [
        "Benchmark Utility to test runtime:"
      ],
      "metadata": {
        "id": "aPSducfPcPbW"
      }
    },
    {
      "cell_type": "code",
      "source": [
        "# A benchmark utility to time how long it takes\n",
        "# to iterate once over the entire dataset\n",
        "def time_one_epoch(ds):\n",
        "  start = time.time()\n",
        "  batches = 0\n",
        "  for i,(images,labels) in enumerate(ds):\n",
        "    batches += 1\n",
        "    if i % 10 == 0:\n",
        "      print('.', end='')\n",
        "  print()\n",
        "  end = time.time()\n",
        "  duration = end-start\n",
        "  print(\"Read {} batches\".format(batches))\n",
        "  print(\"{:0.2f} Batches/s\".format(batches/duration))\n",
        "  print(\"{:0.2f} Images/s\".format(BATCH_SIZE*batches/duration))\n",
        "  print(\"Total time: {}s\".format(duration))"
      ],
      "metadata": {
        "id": "R2XQz64SZxPL"
      },
      "execution_count": 38,
      "outputs": []
    },
    {
      "cell_type": "markdown",
      "source": [
        "Use on-disk caching.\n",
        "Make a train dataset."
      ],
      "metadata": {
        "id": "06BTmC5-cWzn"
      }
    },
    {
      "cell_type": "code",
      "execution_count": 39,
      "metadata": {
        "id": "8C_Lfplczqz5"
      },
      "outputs": [],
      "source": [
        "# making your training dataset with image and label pairs\n",
        "train_ds = image_label_ds.cache(filename='./cache.tf-data')\n",
        "train_ds = train_ds.shuffle(buffer_size=BUFFER_SIZE)\n",
        "train_ds = train_ds.batch(BATCH_SIZE).prefetch(buffer_size=AUTOTUNE)"
      ]
    },
    {
      "cell_type": "code",
      "source": [
        "# REMOVE LATER\n",
        "small_train_ds = train_ds.take(1)"
      ],
      "metadata": {
        "id": "f4PSqOZsYfbu"
      },
      "execution_count": 40,
      "outputs": []
    },
    {
      "cell_type": "code",
      "source": [
        "# REMOVE LATER\n",
        "len(train_ds) # number of batches"
      ],
      "metadata": {
        "colab": {
          "base_uri": "https://localhost:8080/"
        },
        "id": "1guYH-VsZcK4",
        "outputId": "92ce6403-4c0c-48ae-be51-7fe75620e17e"
      },
      "execution_count": 41,
      "outputs": [
        {
          "output_type": "execute_result",
          "data": {
            "text/plain": [
              "238"
            ]
          },
          "metadata": {},
          "execution_count": 41
        }
      ]
    },
    {
      "cell_type": "code",
      "source": [
        "# REMOVE LATER\n",
        "small_train_ds"
      ],
      "metadata": {
        "colab": {
          "base_uri": "https://localhost:8080/"
        },
        "id": "r8iFH09LZQIV",
        "outputId": "074c7783-b14c-447e-fb8b-504fef4a1fec"
      },
      "execution_count": 42,
      "outputs": [
        {
          "output_type": "execute_result",
          "data": {
            "text/plain": [
              "<TakeDataset element_spec=(TensorSpec(shape=(None, 180, 180, 3), dtype=tf.float32, name=None), TensorSpec(shape=(None,), dtype=tf.int64, name=None))>"
            ]
          },
          "metadata": {},
          "execution_count": 42
        }
      ]
    },
    {
      "cell_type": "code",
      "execution_count": 43,
      "metadata": {
        "colab": {
          "base_uri": "https://localhost:8080/"
        },
        "id": "enhNeg5Wzv6I",
        "outputId": "e159aaee-f373-482f-bd30-c00f8ab61971"
      },
      "outputs": [
        {
          "output_type": "stream",
          "name": "stdout",
          "text": [
            ".\n",
            "Read 1 batches\n",
            "0.14 Batches/s\n",
            "17.45 Images/s\n",
            "Total time: 7.334843397140503s\n"
          ]
        }
      ],
      "source": [
        "time_one_epoch(small_train_ds) # this will be slow"
      ]
    },
    {
      "cell_type": "markdown",
      "source": [
        "Now that the cache is built, iteration will be much faster."
      ],
      "metadata": {
        "id": "AqFesX4YcdUT"
      }
    },
    {
      "cell_type": "code",
      "source": [
        "time_one_epoch(small_train_ds) # this will be fast"
      ],
      "metadata": {
        "colab": {
          "base_uri": "https://localhost:8080/"
        },
        "id": "rzHhzS-CcdyC",
        "outputId": "4bf5fe22-fc04-4f2d-831e-4490a94fd4a7"
      },
      "execution_count": 44,
      "outputs": [
        {
          "output_type": "stream",
          "name": "stdout",
          "text": [
            ".\n",
            "Read 1 batches\n",
            "0.79 Batches/s\n",
            "101.13 Images/s\n",
            "Total time: 1.2656972408294678s\n"
          ]
        }
      ]
    },
    {
      "cell_type": "markdown",
      "source": [
        "Make a test dataset"
      ],
      "metadata": {
        "id": "PsIXNpwIiSit"
      }
    },
    {
      "cell_type": "code",
      "source": [
        "# let's make a test dataset as well\n",
        "path_ds = tf.data.Dataset.from_tensor_slices(test_paths)\n",
        "image_ds = path_ds.map(load_and_preprocess_image, num_parallel_calls=AUTOTUNE)\n",
        "label_ds = tf.data.Dataset.from_tensor_slices(tf.cast(test_labels, tf.int64))\n",
        "image_label_ds = tf.data.Dataset.zip((image_ds, label_ds))\n",
        "test_ds = image_label_ds.cache(filename='./test_cache.tf-data')\n",
        "test_ds = test_ds.batch(BATCH_SIZE).prefetch(buffer_size=AUTOTUNE) # added this line to fix dim mismatch"
      ],
      "metadata": {
        "id": "fjVm18KeiZyx"
      },
      "execution_count": 45,
      "outputs": []
    },
    {
      "cell_type": "code",
      "source": [
        "# REMOVE LATER\n",
        "small_test_ds = test_ds.take(1)"
      ],
      "metadata": {
        "id": "D56p4kZTYt4H"
      },
      "execution_count": 46,
      "outputs": []
    },
    {
      "cell_type": "code",
      "source": [
        "# REMOVE LATER - Now we have the correct size\n",
        "small_test_ds"
      ],
      "metadata": {
        "colab": {
          "base_uri": "https://localhost:8080/"
        },
        "id": "7hO3oqNlY3OB",
        "outputId": "013a562c-1f4c-449c-ac2c-d7fb82487265"
      },
      "execution_count": 47,
      "outputs": [
        {
          "output_type": "execute_result",
          "data": {
            "text/plain": [
              "<TakeDataset element_spec=(TensorSpec(shape=(None, 180, 180, 3), dtype=tf.float32, name=None), TensorSpec(shape=(None,), dtype=tf.int64, name=None))>"
            ]
          },
          "metadata": {},
          "execution_count": 47
        }
      ]
    },
    {
      "cell_type": "code",
      "source": [
        "my_model = models.Sequential()\n",
        "my_model.add(layers.Conv2D(32, (3, 3), activation=\"relu\", input_shape=(IMG_SIZE, IMG_SIZE, 3)))\n",
        "my_model.add(layers.MaxPooling2D())\n",
        "my_model.add(layers.Conv2D(64, (3, 3), activation=\"relu\", input_shape=(IMG_SIZE, IMG_SIZE, 3)))\n",
        "my_model.add(layers.MaxPooling2D())\n",
        "my_model.add(layers.Flatten())\n",
        "my_model.add(layers.Dense(128, activation=\"relu\"))\n",
        "my_model.add(layers.Dense(2, activation=\"softmax\"))"
      ],
      "metadata": {
        "id": "sjkKZuXccf9S"
      },
      "execution_count": 48,
      "outputs": []
    },
    {
      "cell_type": "code",
      "source": [
        "my_model.summary()"
      ],
      "metadata": {
        "colab": {
          "base_uri": "https://localhost:8080/"
        },
        "id": "9geJxE--f9cs",
        "outputId": "6772cfaf-987d-46db-c638-58e9d9a17844"
      },
      "execution_count": 49,
      "outputs": [
        {
          "output_type": "stream",
          "name": "stdout",
          "text": [
            "Model: \"sequential\"\n",
            "_________________________________________________________________\n",
            " Layer (type)                Output Shape              Param #   \n",
            "=================================================================\n",
            " conv2d (Conv2D)             (None, 178, 178, 32)      896       \n",
            "                                                                 \n",
            " max_pooling2d (MaxPooling2D  (None, 89, 89, 32)       0         \n",
            " )                                                               \n",
            "                                                                 \n",
            " conv2d_1 (Conv2D)           (None, 87, 87, 64)        18496     \n",
            "                                                                 \n",
            " max_pooling2d_1 (MaxPooling  (None, 43, 43, 64)       0         \n",
            " 2D)                                                             \n",
            "                                                                 \n",
            " flatten (Flatten)           (None, 118336)            0         \n",
            "                                                                 \n",
            " dense (Dense)               (None, 128)               15147136  \n",
            "                                                                 \n",
            " dense_1 (Dense)             (None, 2)                 258       \n",
            "                                                                 \n",
            "=================================================================\n",
            "Total params: 15,166,786\n",
            "Trainable params: 15,166,786\n",
            "Non-trainable params: 0\n",
            "_________________________________________________________________\n"
          ]
        }
      ]
    },
    {
      "cell_type": "code",
      "source": [
        "my_model.compile(optimizer='adam',\n",
        "              loss='sparse_categorical_crossentropy',\n",
        "              metrics=['accuracy'])"
      ],
      "metadata": {
        "id": "KFCWdq40gBB2"
      },
      "execution_count": 50,
      "outputs": []
    },
    {
      "cell_type": "code",
      "source": [
        "my_model.fit(small_train_ds, validation_data=small_test_ds, epochs=5)"
      ],
      "metadata": {
        "colab": {
          "base_uri": "https://localhost:8080/"
        },
        "id": "QDgyPSgkgGdr",
        "outputId": "2a04f51e-05c1-4578-cfb8-65a2273ed112"
      },
      "execution_count": 51,
      "outputs": [
        {
          "output_type": "stream",
          "name": "stdout",
          "text": [
            "Epoch 1/5\n",
            "1/1 [==============================] - 46s 46s/step - loss: 0.6931 - accuracy: 0.5938 - val_loss: 0.6929 - val_accuracy: 0.6016\n",
            "Epoch 2/5\n",
            "1/1 [==============================] - 11s 11s/step - loss: 0.6930 - accuracy: 0.5625 - val_loss: 0.6927 - val_accuracy: 0.6016\n",
            "Epoch 3/5\n",
            "1/1 [==============================] - 9s 9s/step - loss: 0.6927 - accuracy: 0.6172 - val_loss: 0.6926 - val_accuracy: 0.6016\n",
            "Epoch 4/5\n",
            "1/1 [==============================] - 10s 10s/step - loss: 0.6927 - accuracy: 0.5703 - val_loss: 0.6924 - val_accuracy: 0.6016\n",
            "Epoch 5/5\n",
            "1/1 [==============================] - 9s 9s/step - loss: 0.6923 - accuracy: 0.6094 - val_loss: 0.6922 - val_accuracy: 0.6016\n"
          ]
        },
        {
          "output_type": "execute_result",
          "data": {
            "text/plain": [
              "<keras.callbacks.History at 0x7f52fb40e910>"
            ]
          },
          "metadata": {},
          "execution_count": 51
        }
      ]
    },
    {
      "cell_type": "code",
      "source": [
        "# Now the training works on the small batch dataset, when have time and a stable internet connection\n",
        "# will train on the whole dataset to find accuracy and see where improvement needs to be made"
      ],
      "metadata": {
        "id": "oawGtamhPbBp"
      },
      "execution_count": null,
      "outputs": []
    }
  ],
  "metadata": {
    "colab": {
      "collapsed_sections": [
        "hiQXOu4WH-oY"
      ],
      "provenance": []
    },
    "kernelspec": {
      "display_name": "Python 3",
      "name": "python3"
    },
    "language_info": {
      "name": "python"
    }
  },
  "nbformat": 4,
  "nbformat_minor": 0
}